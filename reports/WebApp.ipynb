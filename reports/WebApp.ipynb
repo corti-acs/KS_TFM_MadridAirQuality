{
 "cells": [
  {
   "cell_type": "code",
   "execution_count": 3,
   "metadata": {},
   "outputs": [],
   "source": [
    "import streamlit as st\n",
    "import streamlit.components.v1 as components\n",
    "from PIL import Image\n",
    " \n",
    "\n",
    "#Streamlit dashboard layout    \n",
    "st.set_page_config(layout=\"wide\")\n",
    "st.title('MADRID AIR POLLUTION PREDICTION')\n",
    "\"This is the web application where to show the result of the TFM done in KSchool during the DataScientist Master 2sd streaming edition 2021-2022. \"\n",
    "\"All the code can be found in a public git repository: git@github.com:corti-acs/KS_TFM_MadridAirQuality.git.\"\n",
    "\n",
    "HtmlFiletime = open(\"PredTime.html\", 'r', encoding='utf-8')\n",
    "predtime = HtmlFiletime.read()\n",
    "st.markdown(\"\"\"<hr style=\"height:10px;border:none;color:#333;background-color:#333;\" /> \"\"\", unsafe_allow_html=True)\n",
    "\"Prediction TimeStamp: \" + predtime\n",
    "st.markdown(\"\"\"<hr style=\"height:10px;border:none;color:#333;background-color:#333;\" /> \"\"\", unsafe_allow_html=True)\n",
    "\n",
    "col1, col2, col3 = st.columns((.7,1.7,1.5))\n",
    "\n",
    "#folium map legend\n",
    "with col1:\n",
    "    \n",
    "    col1.subheader(\"Legend\")\n",
    "    source1 = Image.open(\"MapLegend.png\")\n",
    "    col1.image(source1, use_column_width=True)\n",
    "\n",
    "#folium map\n",
    "with col2:\n",
    "    \n",
    "    HtmlFile1 = open(\"MadridMap.html\", 'r', encoding='utf-8')\n",
    "    asmap = HtmlFile1.read() \n",
    "    col2.subheader(\"AIR STATION OVERVIEW\")\n",
    "    st.text(\"(Click on the marker of every station to get the prediction chart)\")\n",
    "    components.html(asmap,height = 650)\n",
    "    \"Notes about predicted model used:\"\n",
    "    \"This prediction has been done based on a SARIMA model, getting the prediction accuracy\"\n",
    "    source2 = Image.open(\"Metrics.png\")\n",
    "    col2.image(source2, use_column_width=False)    \n",
    "\n",
    "#charts\n",
    "with col3:\n",
    "    col3.subheader(\"NO2 MEASUREMENT EVOLUTION TODAY\")\n",
    "    \"   \"\n",
    "    \"   \"\n",
    "    source3 = Image.open(\"BoxPlot.png\")\n",
    "    col3.image(source3, use_column_width=True)\n",
    "    source4 = Image.open(\"LineEvo.png\")\n",
    "    col3.image(source4, use_column_width=True)"
   ]
  },
  {
   "cell_type": "code",
   "execution_count": null,
   "metadata": {},
   "outputs": [],
   "source": []
  }
 ],
 "metadata": {
  "kernelspec": {
   "display_name": "Python 3",
   "language": "python",
   "name": "python3"
  },
  "language_info": {
   "codemirror_mode": {
    "name": "ipython",
    "version": 3
   },
   "file_extension": ".py",
   "mimetype": "text/x-python",
   "name": "python",
   "nbconvert_exporter": "python",
   "pygments_lexer": "ipython3",
   "version": "3.8.5"
  }
 },
 "nbformat": 4,
 "nbformat_minor": 4
}
