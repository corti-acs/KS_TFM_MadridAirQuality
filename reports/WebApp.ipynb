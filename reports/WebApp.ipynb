{
 "cells": [
  {
   "cell_type": "code",
   "execution_count": 6,
   "metadata": {},
   "outputs": [],
   "source": [
    "import streamlit as st\n",
    "import streamlit.components.v1 as components\n",
    "from PIL import Image\n",
    " \n",
    "\n",
    "st.set_page_config(layout=\"wide\")\n",
    "st.title('MADRID AIR POLLUTION PREDICTION')\n",
    "\n",
    "\"This is the web application where to show the result of the TFM done in KSchool during the DataScientist Master 2sd streaming edition 2021-2022. \"\n",
    "\"All the code can be found in a public git repository: git@github.com:corti-acs/KS_TFM_MadridAirQuality.git.\"\n",
    "\n",
    "\n",
    "components.html(\"\"\"<hr style=\"height:10px;border:none;color:#333;background-color:#333;\" /> \"\"\")\n",
    "\n",
    "st.subheader(\"Prediction Time: \")\n",
    "HtmlFiletime = open(\"PredTime.html\", 'r', encoding='utf-8')\n",
    "pred = HtmlFiletime.read() \n",
    "st.metric(label=\" \", value=pred)\n",
    "\n",
    "components.html(\"\"\"<hr style=\"height:10px;border:none;color:#333;background-color:#333;\" /> \"\"\")\n",
    "\n",
    "col1, col2 = st.columns(2)\n",
    "\n",
    "with col1:\n",
    "    source1 = Image.open(\"LineEvo.png\")\n",
    "    col1.subheader(\"Real time measurement per station for today\")\n",
    "    col1.image(source1, use_column_width=True)\n",
    "    \"Evolution of N02 measurement today\"  \n",
    "    source2 = Image.open(\"BoxPlot.png\")\n",
    "    col1.image(source2, use_column_width=True)\n",
    "    \"N02 value distribution per Air Station\"\n",
    "    \n",
    "with col2:\n",
    "    #showing folium map html\n",
    "    HtmlFile1 = open(\"MadridMap.html\", 'r', encoding='utf-8')\n",
    "    asmap = HtmlFile1.read() \n",
    "    col2.subheader(\"Air Station Overview in Madrid\")\n",
    "    st.text(\"(Click on the marker of every station to get the prediction chart)\")\n",
    "    components.html(asmap,height = 500)\n",
    "    \n",
    "\n",
    "    st.subheader('Notes about predicted model used')\n",
    "    \"This prediction has been done based on a SARIMA model, with the following metric accuracy\"\n",
    "    #source3 = Image.open(\"BoxPlot.png\")\n",
    "    #col1.image(source3, use_column_width=True)"
   ]
  },
  {
   "cell_type": "code",
   "execution_count": null,
   "metadata": {},
   "outputs": [],
   "source": []
  }
 ],
 "metadata": {
  "kernelspec": {
   "display_name": "Python 3",
   "language": "python",
   "name": "python3"
  },
  "language_info": {
   "codemirror_mode": {
    "name": "ipython",
    "version": 3
   },
   "file_extension": ".py",
   "mimetype": "text/x-python",
   "name": "python",
   "nbconvert_exporter": "python",
   "pygments_lexer": "ipython3",
   "version": "3.8.5"
  }
 },
 "nbformat": 4,
 "nbformat_minor": 4
}
