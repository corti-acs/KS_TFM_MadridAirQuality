{
 "cells": [
  {
   "cell_type": "code",
   "execution_count": 1,
   "metadata": {},
   "outputs": [],
   "source": [
    "#Libraries needed\n",
    "import numpy as np\n",
    "import pandas as pd\n",
    "import matplotlib.pyplot as plt\n",
    "import altair as alt\n",
    "import scipy\n",
    "import csv\n",
    "import folium"
   ]
  },
  {
   "cell_type": "code",
   "execution_count": 2,
   "metadata": {},
   "outputs": [],
   "source": [
    "dfair = pd.read_excel(\"../data/interim/Estaciones_red_calidad_aire.xls\")"
   ]
  },
  {
   "cell_type": "code",
   "execution_count": 3,
   "metadata": {},
   "outputs": [
    {
     "data": {
      "text/html": [
       "<div>\n",
       "<style scoped>\n",
       "    .dataframe tbody tr th:only-of-type {\n",
       "        vertical-align: middle;\n",
       "    }\n",
       "\n",
       "    .dataframe tbody tr th {\n",
       "        vertical-align: top;\n",
       "    }\n",
       "\n",
       "    .dataframe thead th {\n",
       "        text-align: right;\n",
       "    }\n",
       "</style>\n",
       "<table border=\"1\" class=\"dataframe\">\n",
       "  <thead>\n",
       "    <tr style=\"text-align: right;\">\n",
       "      <th></th>\n",
       "      <th>TIME</th>\n",
       "      <th>HOUR</th>\n",
       "      <th>DAYWEEK</th>\n",
       "      <th>AirStationId</th>\n",
       "      <th>WeatherStationId</th>\n",
       "      <th>NO2_index</th>\n",
       "      <th>WindSpeed</th>\n",
       "      <th>WindDirection</th>\n",
       "      <th>Temperature</th>\n",
       "      <th>BarPressure</th>\n",
       "      <th>Humidity</th>\n",
       "      <th>Precipitation</th>\n",
       "    </tr>\n",
       "  </thead>\n",
       "  <tbody>\n",
       "    <tr>\n",
       "      <th>23371</th>\n",
       "      <td>2021-08-31 19:59:59</td>\n",
       "      <td>20.0</td>\n",
       "      <td>1</td>\n",
       "      <td>16.0</td>\n",
       "      <td>16</td>\n",
       "      <td>12.0</td>\n",
       "      <td>0.88</td>\n",
       "      <td>77.0</td>\n",
       "      <td>31.2</td>\n",
       "      <td>942.0</td>\n",
       "      <td>32.0</td>\n",
       "      <td>0.0</td>\n",
       "    </tr>\n",
       "    <tr>\n",
       "      <th>23372</th>\n",
       "      <td>2021-08-31 20:59:59</td>\n",
       "      <td>21.0</td>\n",
       "      <td>1</td>\n",
       "      <td>16.0</td>\n",
       "      <td>16</td>\n",
       "      <td>16.0</td>\n",
       "      <td>0.38</td>\n",
       "      <td>74.0</td>\n",
       "      <td>29.8</td>\n",
       "      <td>942.0</td>\n",
       "      <td>35.0</td>\n",
       "      <td>0.0</td>\n",
       "    </tr>\n",
       "    <tr>\n",
       "      <th>23373</th>\n",
       "      <td>2021-08-31 21:59:59</td>\n",
       "      <td>22.0</td>\n",
       "      <td>1</td>\n",
       "      <td>16.0</td>\n",
       "      <td>16</td>\n",
       "      <td>59.0</td>\n",
       "      <td>1.75</td>\n",
       "      <td>145.0</td>\n",
       "      <td>28.6</td>\n",
       "      <td>943.0</td>\n",
       "      <td>41.0</td>\n",
       "      <td>0.0</td>\n",
       "    </tr>\n",
       "    <tr>\n",
       "      <th>23374</th>\n",
       "      <td>2021-08-31 22:59:59</td>\n",
       "      <td>23.0</td>\n",
       "      <td>1</td>\n",
       "      <td>16.0</td>\n",
       "      <td>16</td>\n",
       "      <td>11.0</td>\n",
       "      <td>2.56</td>\n",
       "      <td>139.0</td>\n",
       "      <td>27.0</td>\n",
       "      <td>944.0</td>\n",
       "      <td>50.0</td>\n",
       "      <td>0.0</td>\n",
       "    </tr>\n",
       "    <tr>\n",
       "      <th>23375</th>\n",
       "      <td>2021-08-31 23:59:59</td>\n",
       "      <td>24.0</td>\n",
       "      <td>1</td>\n",
       "      <td>16.0</td>\n",
       "      <td>16</td>\n",
       "      <td>8.0</td>\n",
       "      <td>2.58</td>\n",
       "      <td>123.0</td>\n",
       "      <td>26.0</td>\n",
       "      <td>944.0</td>\n",
       "      <td>54.0</td>\n",
       "      <td>0.0</td>\n",
       "    </tr>\n",
       "  </tbody>\n",
       "</table>\n",
       "</div>"
      ],
      "text/plain": [
       "                      TIME  HOUR  DAYWEEK  AirStationId  WeatherStationId  \\\n",
       "23371  2021-08-31 19:59:59  20.0        1          16.0                16   \n",
       "23372  2021-08-31 20:59:59  21.0        1          16.0                16   \n",
       "23373  2021-08-31 21:59:59  22.0        1          16.0                16   \n",
       "23374  2021-08-31 22:59:59  23.0        1          16.0                16   \n",
       "23375  2021-08-31 23:59:59  24.0        1          16.0                16   \n",
       "\n",
       "       NO2_index  WindSpeed  WindDirection  Temperature  BarPressure  \\\n",
       "23371       12.0       0.88           77.0         31.2        942.0   \n",
       "23372       16.0       0.38           74.0         29.8        942.0   \n",
       "23373       59.0       1.75          145.0         28.6        943.0   \n",
       "23374       11.0       2.56          139.0         27.0        944.0   \n",
       "23375        8.0       2.58          123.0         26.0        944.0   \n",
       "\n",
       "       Humidity  Precipitation  \n",
       "23371      32.0            0.0  \n",
       "23372      35.0            0.0  \n",
       "23373      41.0            0.0  \n",
       "23374      50.0            0.0  \n",
       "23375      54.0            0.0  "
      ]
     },
     "execution_count": 3,
     "metadata": {},
     "output_type": "execute_result"
    }
   ],
   "source": [
    "#Opening dataframe with AirStation 16 data\n",
    "########################################\n",
    "\n",
    "poc_16 = pd.read_csv (\"../data/processed/poc_16.csv\", sep= ',')\n",
    "#poc_16.index = poc_16.TIME\n",
    "#poc_16 = poc_16[[\"NO2_index\"]]\n",
    "poc_16.tail()"
   ]
  },
  {
   "cell_type": "code",
   "execution_count": 13,
   "metadata": {},
   "outputs": [
    {
     "data": {
      "text/html": [
       "\n",
       "<div id=\"altair-viz-47282cde76e84fa686078791bea80a9b\"></div>\n",
       "<script type=\"text/javascript\">\n",
       "  (function(spec, embedOpt){\n",
       "    let outputDiv = document.currentScript.previousElementSibling;\n",
       "    if (outputDiv.id !== \"altair-viz-47282cde76e84fa686078791bea80a9b\") {\n",
       "      outputDiv = document.getElementById(\"altair-viz-47282cde76e84fa686078791bea80a9b\");\n",
       "    }\n",
       "    const paths = {\n",
       "      \"vega\": \"https://cdn.jsdelivr.net/npm//vega@5?noext\",\n",
       "      \"vega-lib\": \"https://cdn.jsdelivr.net/npm//vega-lib?noext\",\n",
       "      \"vega-lite\": \"https://cdn.jsdelivr.net/npm//vega-lite@4.8.1?noext\",\n",
       "      \"vega-embed\": \"https://cdn.jsdelivr.net/npm//vega-embed@6?noext\",\n",
       "    };\n",
       "\n",
       "    function loadScript(lib) {\n",
       "      return new Promise(function(resolve, reject) {\n",
       "        var s = document.createElement('script');\n",
       "        s.src = paths[lib];\n",
       "        s.async = true;\n",
       "        s.onload = () => resolve(paths[lib]);\n",
       "        s.onerror = () => reject(`Error loading script: ${paths[lib]}`);\n",
       "        document.getElementsByTagName(\"head\")[0].appendChild(s);\n",
       "      });\n",
       "    }\n",
       "\n",
       "    function showError(err) {\n",
       "      outputDiv.innerHTML = `<div class=\"error\" style=\"color:red;\">${err}</div>`;\n",
       "      throw err;\n",
       "    }\n",
       "\n",
       "    function displayChart(vegaEmbed) {\n",
       "      vegaEmbed(outputDiv, spec, embedOpt)\n",
       "        .catch(err => showError(`Javascript Error: ${err.message}<br>This usually means there's a typo in your chart specification. See the javascript console for the full traceback.`));\n",
       "    }\n",
       "\n",
       "    if(typeof define === \"function\" && define.amd) {\n",
       "      requirejs.config({paths});\n",
       "      require([\"vega-embed\"], displayChart, err => showError(`Error loading script: ${err.message}`));\n",
       "    } else if (typeof vegaEmbed === \"function\") {\n",
       "      displayChart(vegaEmbed);\n",
       "    } else {\n",
       "      loadScript(\"vega\")\n",
       "        .then(() => loadScript(\"vega-lite\"))\n",
       "        .then(() => loadScript(\"vega-embed\"))\n",
       "        .catch(showError)\n",
       "        .then(() => displayChart(vegaEmbed));\n",
       "    }\n",
       "  })({\"config\": {\"view\": {\"continuousWidth\": 400, \"continuousHeight\": 300}}, \"data\": {\"name\": \"data-8155c010a041092ab4f85334ca0358cb\"}, \"mark\": \"line\", \"encoding\": {\"tooltip\": [{\"type\": \"quantitative\", \"field\": \"Temperature\"}, {\"type\": \"quantitative\", \"field\": \"WindSpeed\"}], \"x\": {\"type\": \"temporal\", \"axis\": {\"title\": \"kkfuti\"}, \"field\": \"TIME\", \"title\": \"kkfuti\"}, \"y\": {\"type\": \"quantitative\", \"field\": \"NO2_index\"}}, \"height\": 100, \"selection\": {\"selector034\": {\"type\": \"interval\", \"bind\": \"scales\", \"encodings\": [\"x\", \"y\"]}}, \"title\": \"NO2 evolution\", \"width\": 400, \"$schema\": \"https://vega.github.io/schema/vega-lite/v4.8.1.json\", \"datasets\": {\"data-8155c010a041092ab4f85334ca0358cb\": [{\"TIME\": \"2019-01-01 00:59:59\", \"HOUR\": 1.0, \"DAYWEEK\": 1, \"AirStationId\": 16.0, \"WeatherStationId\": 16, \"NO2_index\": 53.0, \"WindSpeed\": 0.495, \"WindDirection\": 56.0, \"Temperature\": 2.9000000000000004, \"BarPressure\": 952.0, \"Humidity\": 57.0, \"Precipitation\": 0.0}, {\"TIME\": \"2019-01-01 01:59:59\", \"HOUR\": 2.0, \"DAYWEEK\": 1, \"AirStationId\": 16.0, \"WeatherStationId\": 16, \"NO2_index\": 44.0, \"WindSpeed\": 0.41, \"WindDirection\": 77.0, \"Temperature\": 2.7, \"BarPressure\": 952.0, \"Humidity\": 57.0, \"Precipitation\": 0.0}, {\"TIME\": \"2019-01-01 02:59:59\", \"HOUR\": 3.0, \"DAYWEEK\": 1, \"AirStationId\": 16.0, \"WeatherStationId\": 16, \"NO2_index\": 54.0, \"WindSpeed\": 0.355, \"WindDirection\": 75.5, \"Temperature\": 2.35, \"BarPressure\": 952.0, \"Humidity\": 57.0, \"Precipitation\": 0.0}, {\"TIME\": \"2019-01-01 03:59:59\", \"HOUR\": 4.0, \"DAYWEEK\": 1, \"AirStationId\": 16.0, \"WeatherStationId\": 16, \"NO2_index\": 43.0, \"WindSpeed\": 0.42, \"WindDirection\": 102.0, \"Temperature\": 1.5499999999999998, \"BarPressure\": 952.0, \"Humidity\": 56.0, \"Precipitation\": 0.0}, {\"TIME\": \"2019-01-01 04:59:59\", \"HOUR\": 5.0, \"DAYWEEK\": 1, \"AirStationId\": 16.0, \"WeatherStationId\": 16, \"NO2_index\": 42.0, \"WindSpeed\": 0.355, \"WindDirection\": 117.0, \"Temperature\": 1.1, \"BarPressure\": 951.0, \"Humidity\": 59.0, \"Precipitation\": 0.0}, {\"TIME\": \"2019-01-01 05:59:59\", \"HOUR\": 6.0, \"DAYWEEK\": 1, \"AirStationId\": 16.0, \"WeatherStationId\": 16, \"NO2_index\": 20.0, \"WindSpeed\": 0.385, \"WindDirection\": 92.0, \"Temperature\": 0.6, \"BarPressure\": 951.0, \"Humidity\": 57.0, \"Precipitation\": 0.0}, {\"TIME\": \"2019-01-01 06:59:59\", \"HOUR\": 7.0, \"DAYWEEK\": 1, \"AirStationId\": 16.0, \"WeatherStationId\": 16, \"NO2_index\": 34.0, \"WindSpeed\": 0.4300000000000001, \"WindDirection\": 161.5, \"Temperature\": 0.15, \"BarPressure\": 951.0, \"Humidity\": 59.0, \"Precipitation\": 0.0}, {\"TIME\": \"2019-01-01 07:59:59\", \"HOUR\": 8.0, \"DAYWEEK\": 1, \"AirStationId\": 16.0, \"WeatherStationId\": 16, \"NO2_index\": 45.0, \"WindSpeed\": 0.34, \"WindDirection\": 76.0, \"Temperature\": -0.15, \"BarPressure\": 952.0, \"Humidity\": 64.0, \"Precipitation\": 0.0}, {\"TIME\": \"2019-01-01 08:59:59\", \"HOUR\": 9.0, \"DAYWEEK\": 1, \"AirStationId\": 16.0, \"WeatherStationId\": 16, \"NO2_index\": 35.0, \"WindSpeed\": 0.39, \"WindDirection\": 60.5, \"Temperature\": 0.15, \"BarPressure\": 952.0, \"Humidity\": 61.0, \"Precipitation\": 0.0}, {\"TIME\": \"2019-01-01 09:59:59\", \"HOUR\": 10.0, \"DAYWEEK\": 1, \"AirStationId\": 16.0, \"WeatherStationId\": 16, \"NO2_index\": 19.0, \"WindSpeed\": 0.5, \"WindDirection\": 62.5, \"Temperature\": 2.2, \"BarPressure\": 952.0, \"Humidity\": 57.0, \"Precipitation\": 0.0}, {\"TIME\": \"2019-01-01 10:59:59\", \"HOUR\": 11.0, \"DAYWEEK\": 1, \"AirStationId\": 16.0, \"WeatherStationId\": 16, \"NO2_index\": 16.0, \"WindSpeed\": 0.53, \"WindDirection\": 77.5, \"Temperature\": 4.5, \"BarPressure\": 953.0, \"Humidity\": 54.0, \"Precipitation\": 0.0}, {\"TIME\": \"2019-01-01 11:59:59\", \"HOUR\": 12.0, \"DAYWEEK\": 1, \"AirStationId\": 16.0, \"WeatherStationId\": 16, \"NO2_index\": 20.0, \"WindSpeed\": 0.5800000000000001, \"WindDirection\": 89.5, \"Temperature\": 7.75, \"BarPressure\": 952.0, \"Humidity\": 47.0, \"Precipitation\": 0.0}, {\"TIME\": \"2019-01-01 12:59:59\", \"HOUR\": 13.0, \"DAYWEEK\": 1, \"AirStationId\": 16.0, \"WeatherStationId\": 16, \"NO2_index\": 23.0, \"WindSpeed\": 0.61, \"WindDirection\": 123.5, \"Temperature\": 10.5, \"BarPressure\": 952.0, \"Humidity\": 29.0, \"Precipitation\": 0.0}, {\"TIME\": \"2019-01-01 13:59:59\", \"HOUR\": 14.0, \"DAYWEEK\": 1, \"AirStationId\": 16.0, \"WeatherStationId\": 16, \"NO2_index\": 32.0, \"WindSpeed\": 0.5700000000000001, \"WindDirection\": 180.5, \"Temperature\": 12.8, \"BarPressure\": 951.0, \"Humidity\": 24.0, \"Precipitation\": 0.0}, {\"TIME\": \"2019-01-01 14:59:59\", \"HOUR\": 15.0, \"DAYWEEK\": 1, \"AirStationId\": 16.0, \"WeatherStationId\": 16, \"NO2_index\": 44.0, \"WindSpeed\": 0.665, \"WindDirection\": 179.0, \"Temperature\": 13.7, \"BarPressure\": 951.0, \"Humidity\": 23.0, \"Precipitation\": 0.0}, {\"TIME\": \"2019-01-01 15:59:59\", \"HOUR\": 16.0, \"DAYWEEK\": 1, \"AirStationId\": 16.0, \"WeatherStationId\": 16, \"NO2_index\": 54.0, \"WindSpeed\": 0.5700000000000001, \"WindDirection\": 170.5, \"Temperature\": 14.5, \"BarPressure\": 951.0, \"Humidity\": 24.0, \"Precipitation\": 0.0}, {\"TIME\": \"2019-01-01 16:59:59\", \"HOUR\": 17.0, \"DAYWEEK\": 1, \"AirStationId\": 16.0, \"WeatherStationId\": 16, \"NO2_index\": 60.0, \"WindSpeed\": 0.655, \"WindDirection\": 186.5, \"Temperature\": 14.45, \"BarPressure\": 951.0, \"Humidity\": 28.0, \"Precipitation\": 0.0}, {\"TIME\": \"2019-01-01 17:59:59\", \"HOUR\": 18.0, \"DAYWEEK\": 1, \"AirStationId\": 16.0, \"WeatherStationId\": 16, \"NO2_index\": 75.0, \"WindSpeed\": 0.37, \"WindDirection\": 184.0, \"Temperature\": 11.85, \"BarPressure\": 951.0, \"Humidity\": 39.0, \"Precipitation\": 0.0}, {\"TIME\": \"2019-01-01 18:59:59\", \"HOUR\": 19.0, \"DAYWEEK\": 1, \"AirStationId\": 16.0, \"WeatherStationId\": 16, \"NO2_index\": 95.0, \"WindSpeed\": 0.26, \"WindDirection\": 222.0, \"Temperature\": 8.899999999999997, \"BarPressure\": 951.0, \"Humidity\": 46.0, \"Precipitation\": 0.0}, {\"TIME\": \"2019-01-01 19:59:59\", \"HOUR\": 20.0, \"DAYWEEK\": 1, \"AirStationId\": 16.0, \"WeatherStationId\": 16, \"NO2_index\": 130.0, \"WindSpeed\": 0.28, \"WindDirection\": 53.5, \"Temperature\": 7.15, \"BarPressure\": 951.0, \"Humidity\": 52.0, \"Precipitation\": 0.0}, {\"TIME\": \"2019-01-01 20:59:59\", \"HOUR\": 21.0, \"DAYWEEK\": 1, \"AirStationId\": 16.0, \"WeatherStationId\": 16, \"NO2_index\": 121.0, \"WindSpeed\": 0.28500000000000003, \"WindDirection\": 198.5, \"Temperature\": 6.25, \"BarPressure\": 951.0, \"Humidity\": 56.0, \"Precipitation\": 0.0}, {\"TIME\": \"2019-01-01 21:59:59\", \"HOUR\": 22.0, \"DAYWEEK\": 1, \"AirStationId\": 16.0, \"WeatherStationId\": 16, \"NO2_index\": 125.0, \"WindSpeed\": 0.315, \"WindDirection\": 68.5, \"Temperature\": 5.0, \"BarPressure\": 951.0, \"Humidity\": 60.0, \"Precipitation\": 0.0}, {\"TIME\": \"2019-01-01 22:59:59\", \"HOUR\": 23.0, \"DAYWEEK\": 1, \"AirStationId\": 16.0, \"WeatherStationId\": 16, \"NO2_index\": 120.0, \"WindSpeed\": 0.37, \"WindDirection\": 179.0, \"Temperature\": 3.95, \"BarPressure\": 951.0, \"Humidity\": 63.0, \"Precipitation\": 0.0}, {\"TIME\": \"2019-01-01 23:59:59\", \"HOUR\": 24.0, \"DAYWEEK\": 1, \"AirStationId\": 16.0, \"WeatherStationId\": 16, \"NO2_index\": 80.0, \"WindSpeed\": 0.26, \"WindDirection\": 167.5, \"Temperature\": 3.0, \"BarPressure\": 951.0, \"Humidity\": 61.0, \"Precipitation\": 0.0}, {\"TIME\": \"2019-01-02 00:59:59\", \"HOUR\": 1.0, \"DAYWEEK\": 2, \"AirStationId\": 16.0, \"WeatherStationId\": 16, \"NO2_index\": 72.0, \"WindSpeed\": 0.23, \"WindDirection\": 99.5, \"Temperature\": 2.1, \"BarPressure\": 952.0, \"Humidity\": 64.0, \"Precipitation\": 0.0}, {\"TIME\": \"2019-01-02 01:59:59\", \"HOUR\": 2.0, \"DAYWEEK\": 2, \"AirStationId\": 16.0, \"WeatherStationId\": 16, \"NO2_index\": 72.0, \"WindSpeed\": 0.27, \"WindDirection\": 113.5, \"Temperature\": 1.85, \"BarPressure\": 951.0, \"Humidity\": 67.0, \"Precipitation\": 0.0}, {\"TIME\": \"2019-01-02 02:59:59\", \"HOUR\": 3.0, \"DAYWEEK\": 2, \"AirStationId\": 16.0, \"WeatherStationId\": 16, \"NO2_index\": 53.0, \"WindSpeed\": 0.29500000000000004, \"WindDirection\": 70.0, \"Temperature\": 1.0, \"BarPressure\": 951.0, \"Humidity\": 67.0, \"Precipitation\": 0.0}, {\"TIME\": \"2019-01-02 03:59:59\", \"HOUR\": 4.0, \"DAYWEEK\": 2, \"AirStationId\": 16.0, \"WeatherStationId\": 16, \"NO2_index\": 41.0, \"WindSpeed\": 0.255, \"WindDirection\": 143.5, \"Temperature\": 0.55, \"BarPressure\": 951.0, \"Humidity\": 69.0, \"Precipitation\": 0.0}, {\"TIME\": \"2019-01-02 04:59:59\", \"HOUR\": 5.0, \"DAYWEEK\": 2, \"AirStationId\": 16.0, \"WeatherStationId\": 16, \"NO2_index\": 35.0, \"WindSpeed\": 0.265, \"WindDirection\": 143.0, \"Temperature\": -0.05, \"BarPressure\": 951.0, \"Humidity\": 71.0, \"Precipitation\": 0.0}, {\"TIME\": \"2019-01-02 05:59:59\", \"HOUR\": 6.0, \"DAYWEEK\": 2, \"AirStationId\": 16.0, \"WeatherStationId\": 16, \"NO2_index\": 44.0, \"WindSpeed\": 0.26, \"WindDirection\": 161.5, \"Temperature\": -0.55, \"BarPressure\": 950.0, \"Humidity\": 74.0, \"Precipitation\": 0.0}]}}, {\"mode\": \"vega-lite\"});\n",
       "</script>"
      ],
      "text/plain": [
       "alt.Chart(...)"
      ]
     },
     "execution_count": 13,
     "metadata": {},
     "output_type": "execute_result"
    }
   ],
   "source": [
    "import altair as alt\n",
    "\n",
    "\n",
    "source = poc_16[:30]\n",
    "\n",
    "\n",
    "\n",
    "# charts\n",
    "chart1 = alt.Chart(source).mark_line().encode(x='TIME:T',y='NO2_index:Q').properties(height=100,\n",
    "    width=400,title=\"NO2 evolution\").interactive()\n",
    "chart2 = alt.Chart(source).mark_line().encode(x='TIME:T',y='Temperature:Q').properties(height=100,\n",
    "    width=400, title=\"Temperature evolution\").interactive()\n",
    "chart3 = alt.Chart(source).mark_line().encode(x='TIME:T',y='WindSpeed:Q').properties(height=100,\n",
    "    width=400, title=\"wind speed evolution\").interactive()\n",
    "\n",
    "#chart=alt.vconcat(chart1,chart2,chart3)\n",
    "chart =alt.hconcat(chart1,chart2)\n",
    "\n",
    "chart\n",
    "\n",
    "#charts2\n",
    "\n",
    "charts12 = alt.Chart(source).mark_line().encode(\n",
    "    x=alt.X('TIME:T', axis=alt.Axis(title='kkfuti')),\n",
    "    y='NO2_index:Q',tooltip=['Temperature','WindSpeed']).properties(height=100,\n",
    "    width=400,title=\"NO2 evolution\").interactive()\n",
    "\n",
    "charts12.encoding.x.title = 'kkfuti'\n",
    "charts12\n"
   ]
  },
  {
   "cell_type": "code",
   "execution_count": 16,
   "metadata": {},
   "outputs": [
    {
     "ename": "SchemaValidationError",
     "evalue": "Invalid specification\n\n        altair.vegalite.v4.schema.core.FacetedEncoding, validating 'additionalProperties'\n\n        Additional properties are not allowed ('axis' was unexpected)\n        ",
     "output_type": "error",
     "traceback": [
      "\u001b[0;31m---------------------------------------------------------------------------\u001b[0m",
      "\u001b[0;31mSchemaValidationError\u001b[0m                     Traceback (most recent call last)",
      "\u001b[0;32m~/opt/anaconda3/lib/python3.8/site-packages/altair/vegalite/v4/api.py\u001b[0m in \u001b[0;36mto_dict\u001b[0;34m(self, *args, **kwargs)\u001b[0m\n\u001b[1;32m    380\u001b[0m         \u001b[0;32mif\u001b[0m \u001b[0mdct\u001b[0m \u001b[0;32mis\u001b[0m \u001b[0;32mNone\u001b[0m\u001b[0;34m:\u001b[0m\u001b[0;34m\u001b[0m\u001b[0;34m\u001b[0m\u001b[0m\n\u001b[1;32m    381\u001b[0m             \u001b[0mkwargs\u001b[0m\u001b[0;34m[\u001b[0m\u001b[0;34m\"validate\"\u001b[0m\u001b[0;34m]\u001b[0m \u001b[0;34m=\u001b[0m \u001b[0;34m\"deep\"\u001b[0m\u001b[0;34m\u001b[0m\u001b[0;34m\u001b[0m\u001b[0m\n\u001b[0;32m--> 382\u001b[0;31m             \u001b[0mdct\u001b[0m \u001b[0;34m=\u001b[0m \u001b[0msuper\u001b[0m\u001b[0;34m(\u001b[0m\u001b[0mTopLevelMixin\u001b[0m\u001b[0;34m,\u001b[0m \u001b[0mcopy\u001b[0m\u001b[0;34m)\u001b[0m\u001b[0;34m.\u001b[0m\u001b[0mto_dict\u001b[0m\u001b[0;34m(\u001b[0m\u001b[0;34m*\u001b[0m\u001b[0margs\u001b[0m\u001b[0;34m,\u001b[0m \u001b[0;34m**\u001b[0m\u001b[0mkwargs\u001b[0m\u001b[0;34m)\u001b[0m\u001b[0;34m\u001b[0m\u001b[0;34m\u001b[0m\u001b[0m\n\u001b[0m\u001b[1;32m    383\u001b[0m \u001b[0;34m\u001b[0m\u001b[0m\n\u001b[1;32m    384\u001b[0m         \u001b[0;31m# TODO: following entries are added after validation. Should they be validated?\u001b[0m\u001b[0;34m\u001b[0m\u001b[0;34m\u001b[0m\u001b[0;34m\u001b[0m\u001b[0m\n",
      "\u001b[0;32m~/opt/anaconda3/lib/python3.8/site-packages/altair/utils/schemapi.py\u001b[0m in \u001b[0;36mto_dict\u001b[0;34m(self, validate, ignore, context)\u001b[0m\n\u001b[1;32m    323\u001b[0m             \u001b[0mresult\u001b[0m \u001b[0;34m=\u001b[0m \u001b[0m_todict\u001b[0m\u001b[0;34m(\u001b[0m\u001b[0mself\u001b[0m\u001b[0;34m.\u001b[0m\u001b[0m_args\u001b[0m\u001b[0;34m[\u001b[0m\u001b[0;36m0\u001b[0m\u001b[0;34m]\u001b[0m\u001b[0;34m,\u001b[0m \u001b[0mvalidate\u001b[0m\u001b[0;34m=\u001b[0m\u001b[0msub_validate\u001b[0m\u001b[0;34m,\u001b[0m \u001b[0mcontext\u001b[0m\u001b[0;34m=\u001b[0m\u001b[0mcontext\u001b[0m\u001b[0;34m)\u001b[0m\u001b[0;34m\u001b[0m\u001b[0;34m\u001b[0m\u001b[0m\n\u001b[1;32m    324\u001b[0m         \u001b[0;32melif\u001b[0m \u001b[0;32mnot\u001b[0m \u001b[0mself\u001b[0m\u001b[0;34m.\u001b[0m\u001b[0m_args\u001b[0m\u001b[0;34m:\u001b[0m\u001b[0;34m\u001b[0m\u001b[0;34m\u001b[0m\u001b[0m\n\u001b[0;32m--> 325\u001b[0;31m             result = _todict(\n\u001b[0m\u001b[1;32m    326\u001b[0m                 \u001b[0;34m{\u001b[0m\u001b[0mk\u001b[0m\u001b[0;34m:\u001b[0m \u001b[0mv\u001b[0m \u001b[0;32mfor\u001b[0m \u001b[0mk\u001b[0m\u001b[0;34m,\u001b[0m \u001b[0mv\u001b[0m \u001b[0;32min\u001b[0m \u001b[0mself\u001b[0m\u001b[0;34m.\u001b[0m\u001b[0m_kwds\u001b[0m\u001b[0;34m.\u001b[0m\u001b[0mitems\u001b[0m\u001b[0;34m(\u001b[0m\u001b[0;34m)\u001b[0m \u001b[0;32mif\u001b[0m \u001b[0mk\u001b[0m \u001b[0;32mnot\u001b[0m \u001b[0;32min\u001b[0m \u001b[0mignore\u001b[0m\u001b[0;34m}\u001b[0m\u001b[0;34m,\u001b[0m\u001b[0;34m\u001b[0m\u001b[0;34m\u001b[0m\u001b[0m\n\u001b[1;32m    327\u001b[0m                 \u001b[0mvalidate\u001b[0m\u001b[0;34m=\u001b[0m\u001b[0msub_validate\u001b[0m\u001b[0;34m,\u001b[0m\u001b[0;34m\u001b[0m\u001b[0;34m\u001b[0m\u001b[0m\n",
      "\u001b[0;32m~/opt/anaconda3/lib/python3.8/site-packages/altair/utils/schemapi.py\u001b[0m in \u001b[0;36m_todict\u001b[0;34m(obj, validate, context)\u001b[0m\n\u001b[1;32m     58\u001b[0m         \u001b[0;32mreturn\u001b[0m \u001b[0;34m[\u001b[0m\u001b[0m_todict\u001b[0m\u001b[0;34m(\u001b[0m\u001b[0mv\u001b[0m\u001b[0;34m,\u001b[0m \u001b[0mvalidate\u001b[0m\u001b[0;34m,\u001b[0m \u001b[0mcontext\u001b[0m\u001b[0;34m)\u001b[0m \u001b[0;32mfor\u001b[0m \u001b[0mv\u001b[0m \u001b[0;32min\u001b[0m \u001b[0mobj\u001b[0m\u001b[0;34m]\u001b[0m\u001b[0;34m\u001b[0m\u001b[0;34m\u001b[0m\u001b[0m\n\u001b[1;32m     59\u001b[0m     \u001b[0;32melif\u001b[0m \u001b[0misinstance\u001b[0m\u001b[0;34m(\u001b[0m\u001b[0mobj\u001b[0m\u001b[0;34m,\u001b[0m \u001b[0mdict\u001b[0m\u001b[0;34m)\u001b[0m\u001b[0;34m:\u001b[0m\u001b[0;34m\u001b[0m\u001b[0;34m\u001b[0m\u001b[0m\n\u001b[0;32m---> 60\u001b[0;31m         return {\n\u001b[0m\u001b[1;32m     61\u001b[0m             \u001b[0mk\u001b[0m\u001b[0;34m:\u001b[0m \u001b[0m_todict\u001b[0m\u001b[0;34m(\u001b[0m\u001b[0mv\u001b[0m\u001b[0;34m,\u001b[0m \u001b[0mvalidate\u001b[0m\u001b[0;34m,\u001b[0m \u001b[0mcontext\u001b[0m\u001b[0;34m)\u001b[0m\u001b[0;34m\u001b[0m\u001b[0;34m\u001b[0m\u001b[0m\n\u001b[1;32m     62\u001b[0m             \u001b[0;32mfor\u001b[0m \u001b[0mk\u001b[0m\u001b[0;34m,\u001b[0m \u001b[0mv\u001b[0m \u001b[0;32min\u001b[0m \u001b[0mobj\u001b[0m\u001b[0;34m.\u001b[0m\u001b[0mitems\u001b[0m\u001b[0;34m(\u001b[0m\u001b[0;34m)\u001b[0m\u001b[0;34m\u001b[0m\u001b[0;34m\u001b[0m\u001b[0m\n",
      "\u001b[0;32m~/opt/anaconda3/lib/python3.8/site-packages/altair/utils/schemapi.py\u001b[0m in \u001b[0;36m<dictcomp>\u001b[0;34m(.0)\u001b[0m\n\u001b[1;32m     59\u001b[0m     \u001b[0;32melif\u001b[0m \u001b[0misinstance\u001b[0m\u001b[0;34m(\u001b[0m\u001b[0mobj\u001b[0m\u001b[0;34m,\u001b[0m \u001b[0mdict\u001b[0m\u001b[0;34m)\u001b[0m\u001b[0;34m:\u001b[0m\u001b[0;34m\u001b[0m\u001b[0;34m\u001b[0m\u001b[0m\n\u001b[1;32m     60\u001b[0m         return {\n\u001b[0;32m---> 61\u001b[0;31m             \u001b[0mk\u001b[0m\u001b[0;34m:\u001b[0m \u001b[0m_todict\u001b[0m\u001b[0;34m(\u001b[0m\u001b[0mv\u001b[0m\u001b[0;34m,\u001b[0m \u001b[0mvalidate\u001b[0m\u001b[0;34m,\u001b[0m \u001b[0mcontext\u001b[0m\u001b[0;34m)\u001b[0m\u001b[0;34m\u001b[0m\u001b[0;34m\u001b[0m\u001b[0m\n\u001b[0m\u001b[1;32m     62\u001b[0m             \u001b[0;32mfor\u001b[0m \u001b[0mk\u001b[0m\u001b[0;34m,\u001b[0m \u001b[0mv\u001b[0m \u001b[0;32min\u001b[0m \u001b[0mobj\u001b[0m\u001b[0;34m.\u001b[0m\u001b[0mitems\u001b[0m\u001b[0;34m(\u001b[0m\u001b[0;34m)\u001b[0m\u001b[0;34m\u001b[0m\u001b[0;34m\u001b[0m\u001b[0m\n\u001b[1;32m     63\u001b[0m             \u001b[0;32mif\u001b[0m \u001b[0mv\u001b[0m \u001b[0;32mis\u001b[0m \u001b[0;32mnot\u001b[0m \u001b[0mUndefined\u001b[0m\u001b[0;34m\u001b[0m\u001b[0;34m\u001b[0m\u001b[0m\n",
      "\u001b[0;32m~/opt/anaconda3/lib/python3.8/site-packages/altair/utils/schemapi.py\u001b[0m in \u001b[0;36m_todict\u001b[0;34m(obj, validate, context)\u001b[0m\n\u001b[1;32m     54\u001b[0m     \u001b[0;34m\"\"\"Convert an object to a dict representation.\"\"\"\u001b[0m\u001b[0;34m\u001b[0m\u001b[0;34m\u001b[0m\u001b[0m\n\u001b[1;32m     55\u001b[0m     \u001b[0;32mif\u001b[0m \u001b[0misinstance\u001b[0m\u001b[0;34m(\u001b[0m\u001b[0mobj\u001b[0m\u001b[0;34m,\u001b[0m \u001b[0mSchemaBase\u001b[0m\u001b[0;34m)\u001b[0m\u001b[0;34m:\u001b[0m\u001b[0;34m\u001b[0m\u001b[0;34m\u001b[0m\u001b[0m\n\u001b[0;32m---> 56\u001b[0;31m         \u001b[0;32mreturn\u001b[0m \u001b[0mobj\u001b[0m\u001b[0;34m.\u001b[0m\u001b[0mto_dict\u001b[0m\u001b[0;34m(\u001b[0m\u001b[0mvalidate\u001b[0m\u001b[0;34m=\u001b[0m\u001b[0mvalidate\u001b[0m\u001b[0;34m,\u001b[0m \u001b[0mcontext\u001b[0m\u001b[0;34m=\u001b[0m\u001b[0mcontext\u001b[0m\u001b[0;34m)\u001b[0m\u001b[0;34m\u001b[0m\u001b[0;34m\u001b[0m\u001b[0m\n\u001b[0m\u001b[1;32m     57\u001b[0m     \u001b[0;32melif\u001b[0m \u001b[0misinstance\u001b[0m\u001b[0;34m(\u001b[0m\u001b[0mobj\u001b[0m\u001b[0;34m,\u001b[0m \u001b[0;34m(\u001b[0m\u001b[0mlist\u001b[0m\u001b[0;34m,\u001b[0m \u001b[0mtuple\u001b[0m\u001b[0;34m,\u001b[0m \u001b[0mnp\u001b[0m\u001b[0;34m.\u001b[0m\u001b[0mndarray\u001b[0m\u001b[0;34m)\u001b[0m\u001b[0;34m)\u001b[0m\u001b[0;34m:\u001b[0m\u001b[0;34m\u001b[0m\u001b[0;34m\u001b[0m\u001b[0m\n\u001b[1;32m     58\u001b[0m         \u001b[0;32mreturn\u001b[0m \u001b[0;34m[\u001b[0m\u001b[0m_todict\u001b[0m\u001b[0;34m(\u001b[0m\u001b[0mv\u001b[0m\u001b[0;34m,\u001b[0m \u001b[0mvalidate\u001b[0m\u001b[0;34m,\u001b[0m \u001b[0mcontext\u001b[0m\u001b[0;34m)\u001b[0m \u001b[0;32mfor\u001b[0m \u001b[0mv\u001b[0m \u001b[0;32min\u001b[0m \u001b[0mobj\u001b[0m\u001b[0;34m]\u001b[0m\u001b[0;34m\u001b[0m\u001b[0;34m\u001b[0m\u001b[0m\n",
      "\u001b[0;32m~/opt/anaconda3/lib/python3.8/site-packages/altair/utils/schemapi.py\u001b[0m in \u001b[0;36mto_dict\u001b[0;34m(self, validate, ignore, context)\u001b[0m\n\u001b[1;32m    337\u001b[0m                 \u001b[0mself\u001b[0m\u001b[0;34m.\u001b[0m\u001b[0mvalidate\u001b[0m\u001b[0;34m(\u001b[0m\u001b[0mresult\u001b[0m\u001b[0;34m)\u001b[0m\u001b[0;34m\u001b[0m\u001b[0;34m\u001b[0m\u001b[0m\n\u001b[1;32m    338\u001b[0m             \u001b[0;32mexcept\u001b[0m \u001b[0mjsonschema\u001b[0m\u001b[0;34m.\u001b[0m\u001b[0mValidationError\u001b[0m \u001b[0;32mas\u001b[0m \u001b[0merr\u001b[0m\u001b[0;34m:\u001b[0m\u001b[0;34m\u001b[0m\u001b[0;34m\u001b[0m\u001b[0m\n\u001b[0;32m--> 339\u001b[0;31m                 \u001b[0;32mraise\u001b[0m \u001b[0mSchemaValidationError\u001b[0m\u001b[0;34m(\u001b[0m\u001b[0mself\u001b[0m\u001b[0;34m,\u001b[0m \u001b[0merr\u001b[0m\u001b[0;34m)\u001b[0m\u001b[0;34m\u001b[0m\u001b[0;34m\u001b[0m\u001b[0m\n\u001b[0m\u001b[1;32m    340\u001b[0m         \u001b[0;32mreturn\u001b[0m \u001b[0mresult\u001b[0m\u001b[0;34m\u001b[0m\u001b[0;34m\u001b[0m\u001b[0m\n\u001b[1;32m    341\u001b[0m \u001b[0;34m\u001b[0m\u001b[0m\n",
      "\u001b[0;31mSchemaValidationError\u001b[0m: Invalid specification\n\n        altair.vegalite.v4.schema.core.FacetedEncoding, validating 'additionalProperties'\n\n        Additional properties are not allowed ('axis' was unexpected)\n        "
     ]
    },
    {
     "data": {
      "text/plain": [
       "alt.Chart(...)"
      ]
     },
     "execution_count": 16,
     "metadata": {},
     "output_type": "execute_result"
    }
   ],
   "source": [
    "charts12 = alt.Chart(source).mark_line().encode(\n",
    "    x='TIME:T', axis=alt.Axis(title='kkfuti'),\n",
    "    y='NO2_index:Q',tooltip=['Temperature','WindSpeed']).properties(height=100,\n",
    "    width=400,title=\"NO2 evolution\").interactive()\n",
    "charts12"
   ]
  },
  {
   "cell_type": "code",
   "execution_count": 55,
   "metadata": {},
   "outputs": [
    {
     "data": {
      "text/html": [
       "\n",
       "<div id=\"altair-viz-7d971cbd3af5432ea34d309070867bab\"></div>\n",
       "<script type=\"text/javascript\">\n",
       "  (function(spec, embedOpt){\n",
       "    let outputDiv = document.currentScript.previousElementSibling;\n",
       "    if (outputDiv.id !== \"altair-viz-7d971cbd3af5432ea34d309070867bab\") {\n",
       "      outputDiv = document.getElementById(\"altair-viz-7d971cbd3af5432ea34d309070867bab\");\n",
       "    }\n",
       "    const paths = {\n",
       "      \"vega\": \"https://cdn.jsdelivr.net/npm//vega@5?noext\",\n",
       "      \"vega-lib\": \"https://cdn.jsdelivr.net/npm//vega-lib?noext\",\n",
       "      \"vega-lite\": \"https://cdn.jsdelivr.net/npm//vega-lite@4.8.1?noext\",\n",
       "      \"vega-embed\": \"https://cdn.jsdelivr.net/npm//vega-embed@6?noext\",\n",
       "    };\n",
       "\n",
       "    function loadScript(lib) {\n",
       "      return new Promise(function(resolve, reject) {\n",
       "        var s = document.createElement('script');\n",
       "        s.src = paths[lib];\n",
       "        s.async = true;\n",
       "        s.onload = () => resolve(paths[lib]);\n",
       "        s.onerror = () => reject(`Error loading script: ${paths[lib]}`);\n",
       "        document.getElementsByTagName(\"head\")[0].appendChild(s);\n",
       "      });\n",
       "    }\n",
       "\n",
       "    function showError(err) {\n",
       "      outputDiv.innerHTML = `<div class=\"error\" style=\"color:red;\">${err}</div>`;\n",
       "      throw err;\n",
       "    }\n",
       "\n",
       "    function displayChart(vegaEmbed) {\n",
       "      vegaEmbed(outputDiv, spec, embedOpt)\n",
       "        .catch(err => showError(`Javascript Error: ${err.message}<br>This usually means there's a typo in your chart specification. See the javascript console for the full traceback.`));\n",
       "    }\n",
       "\n",
       "    if(typeof define === \"function\" && define.amd) {\n",
       "      requirejs.config({paths});\n",
       "      require([\"vega-embed\"], displayChart, err => showError(`Error loading script: ${err.message}`));\n",
       "    } else if (typeof vegaEmbed === \"function\") {\n",
       "      displayChart(vegaEmbed);\n",
       "    } else {\n",
       "      loadScript(\"vega\")\n",
       "        .then(() => loadScript(\"vega-lite\"))\n",
       "        .then(() => loadScript(\"vega-embed\"))\n",
       "        .catch(showError)\n",
       "        .then(() => displayChart(vegaEmbed));\n",
       "    }\n",
       "  })({\"config\": {\"view\": {\"continuousWidth\": 400, \"continuousHeight\": 300}}, \"data\": {\"name\": \"data-8155c010a041092ab4f85334ca0358cb\"}, \"mark\": \"line\", \"encoding\": {\"color\": {\"type\": \"nominal\", \"field\": \"indice\"}, \"x\": {\"type\": \"temporal\", \"field\": \"TIME\"}, \"y\": {\"type\": \"quantitative\", \"field\": \"NO2\"}}, \"transform\": [{\"fold\": [\"NO2_index\", \"Temperature\", \"WindSpeed\"], \"as\": [\"indice\", \"NO2\"]}], \"$schema\": \"https://vega.github.io/schema/vega-lite/v4.8.1.json\", \"datasets\": {\"data-8155c010a041092ab4f85334ca0358cb\": [{\"TIME\": \"2019-01-01 00:59:59\", \"HOUR\": 1.0, \"DAYWEEK\": 1, \"AirStationId\": 16.0, \"WeatherStationId\": 16, \"NO2_index\": 53.0, \"WindSpeed\": 0.495, \"WindDirection\": 56.0, \"Temperature\": 2.9000000000000004, \"BarPressure\": 952.0, \"Humidity\": 57.0, \"Precipitation\": 0.0}, {\"TIME\": \"2019-01-01 01:59:59\", \"HOUR\": 2.0, \"DAYWEEK\": 1, \"AirStationId\": 16.0, \"WeatherStationId\": 16, \"NO2_index\": 44.0, \"WindSpeed\": 0.41, \"WindDirection\": 77.0, \"Temperature\": 2.7, \"BarPressure\": 952.0, \"Humidity\": 57.0, \"Precipitation\": 0.0}, {\"TIME\": \"2019-01-01 02:59:59\", \"HOUR\": 3.0, \"DAYWEEK\": 1, \"AirStationId\": 16.0, \"WeatherStationId\": 16, \"NO2_index\": 54.0, \"WindSpeed\": 0.355, \"WindDirection\": 75.5, \"Temperature\": 2.35, \"BarPressure\": 952.0, \"Humidity\": 57.0, \"Precipitation\": 0.0}, {\"TIME\": \"2019-01-01 03:59:59\", \"HOUR\": 4.0, \"DAYWEEK\": 1, \"AirStationId\": 16.0, \"WeatherStationId\": 16, \"NO2_index\": 43.0, \"WindSpeed\": 0.42, \"WindDirection\": 102.0, \"Temperature\": 1.5499999999999998, \"BarPressure\": 952.0, \"Humidity\": 56.0, \"Precipitation\": 0.0}, {\"TIME\": \"2019-01-01 04:59:59\", \"HOUR\": 5.0, \"DAYWEEK\": 1, \"AirStationId\": 16.0, \"WeatherStationId\": 16, \"NO2_index\": 42.0, \"WindSpeed\": 0.355, \"WindDirection\": 117.0, \"Temperature\": 1.1, \"BarPressure\": 951.0, \"Humidity\": 59.0, \"Precipitation\": 0.0}, {\"TIME\": \"2019-01-01 05:59:59\", \"HOUR\": 6.0, \"DAYWEEK\": 1, \"AirStationId\": 16.0, \"WeatherStationId\": 16, \"NO2_index\": 20.0, \"WindSpeed\": 0.385, \"WindDirection\": 92.0, \"Temperature\": 0.6, \"BarPressure\": 951.0, \"Humidity\": 57.0, \"Precipitation\": 0.0}, {\"TIME\": \"2019-01-01 06:59:59\", \"HOUR\": 7.0, \"DAYWEEK\": 1, \"AirStationId\": 16.0, \"WeatherStationId\": 16, \"NO2_index\": 34.0, \"WindSpeed\": 0.4300000000000001, \"WindDirection\": 161.5, \"Temperature\": 0.15, \"BarPressure\": 951.0, \"Humidity\": 59.0, \"Precipitation\": 0.0}, {\"TIME\": \"2019-01-01 07:59:59\", \"HOUR\": 8.0, \"DAYWEEK\": 1, \"AirStationId\": 16.0, \"WeatherStationId\": 16, \"NO2_index\": 45.0, \"WindSpeed\": 0.34, \"WindDirection\": 76.0, \"Temperature\": -0.15, \"BarPressure\": 952.0, \"Humidity\": 64.0, \"Precipitation\": 0.0}, {\"TIME\": \"2019-01-01 08:59:59\", \"HOUR\": 9.0, \"DAYWEEK\": 1, \"AirStationId\": 16.0, \"WeatherStationId\": 16, \"NO2_index\": 35.0, \"WindSpeed\": 0.39, \"WindDirection\": 60.5, \"Temperature\": 0.15, \"BarPressure\": 952.0, \"Humidity\": 61.0, \"Precipitation\": 0.0}, {\"TIME\": \"2019-01-01 09:59:59\", \"HOUR\": 10.0, \"DAYWEEK\": 1, \"AirStationId\": 16.0, \"WeatherStationId\": 16, \"NO2_index\": 19.0, \"WindSpeed\": 0.5, \"WindDirection\": 62.5, \"Temperature\": 2.2, \"BarPressure\": 952.0, \"Humidity\": 57.0, \"Precipitation\": 0.0}, {\"TIME\": \"2019-01-01 10:59:59\", \"HOUR\": 11.0, \"DAYWEEK\": 1, \"AirStationId\": 16.0, \"WeatherStationId\": 16, \"NO2_index\": 16.0, \"WindSpeed\": 0.53, \"WindDirection\": 77.5, \"Temperature\": 4.5, \"BarPressure\": 953.0, \"Humidity\": 54.0, \"Precipitation\": 0.0}, {\"TIME\": \"2019-01-01 11:59:59\", \"HOUR\": 12.0, \"DAYWEEK\": 1, \"AirStationId\": 16.0, \"WeatherStationId\": 16, \"NO2_index\": 20.0, \"WindSpeed\": 0.5800000000000001, \"WindDirection\": 89.5, \"Temperature\": 7.75, \"BarPressure\": 952.0, \"Humidity\": 47.0, \"Precipitation\": 0.0}, {\"TIME\": \"2019-01-01 12:59:59\", \"HOUR\": 13.0, \"DAYWEEK\": 1, \"AirStationId\": 16.0, \"WeatherStationId\": 16, \"NO2_index\": 23.0, \"WindSpeed\": 0.61, \"WindDirection\": 123.5, \"Temperature\": 10.5, \"BarPressure\": 952.0, \"Humidity\": 29.0, \"Precipitation\": 0.0}, {\"TIME\": \"2019-01-01 13:59:59\", \"HOUR\": 14.0, \"DAYWEEK\": 1, \"AirStationId\": 16.0, \"WeatherStationId\": 16, \"NO2_index\": 32.0, \"WindSpeed\": 0.5700000000000001, \"WindDirection\": 180.5, \"Temperature\": 12.8, \"BarPressure\": 951.0, \"Humidity\": 24.0, \"Precipitation\": 0.0}, {\"TIME\": \"2019-01-01 14:59:59\", \"HOUR\": 15.0, \"DAYWEEK\": 1, \"AirStationId\": 16.0, \"WeatherStationId\": 16, \"NO2_index\": 44.0, \"WindSpeed\": 0.665, \"WindDirection\": 179.0, \"Temperature\": 13.7, \"BarPressure\": 951.0, \"Humidity\": 23.0, \"Precipitation\": 0.0}, {\"TIME\": \"2019-01-01 15:59:59\", \"HOUR\": 16.0, \"DAYWEEK\": 1, \"AirStationId\": 16.0, \"WeatherStationId\": 16, \"NO2_index\": 54.0, \"WindSpeed\": 0.5700000000000001, \"WindDirection\": 170.5, \"Temperature\": 14.5, \"BarPressure\": 951.0, \"Humidity\": 24.0, \"Precipitation\": 0.0}, {\"TIME\": \"2019-01-01 16:59:59\", \"HOUR\": 17.0, \"DAYWEEK\": 1, \"AirStationId\": 16.0, \"WeatherStationId\": 16, \"NO2_index\": 60.0, \"WindSpeed\": 0.655, \"WindDirection\": 186.5, \"Temperature\": 14.45, \"BarPressure\": 951.0, \"Humidity\": 28.0, \"Precipitation\": 0.0}, {\"TIME\": \"2019-01-01 17:59:59\", \"HOUR\": 18.0, \"DAYWEEK\": 1, \"AirStationId\": 16.0, \"WeatherStationId\": 16, \"NO2_index\": 75.0, \"WindSpeed\": 0.37, \"WindDirection\": 184.0, \"Temperature\": 11.85, \"BarPressure\": 951.0, \"Humidity\": 39.0, \"Precipitation\": 0.0}, {\"TIME\": \"2019-01-01 18:59:59\", \"HOUR\": 19.0, \"DAYWEEK\": 1, \"AirStationId\": 16.0, \"WeatherStationId\": 16, \"NO2_index\": 95.0, \"WindSpeed\": 0.26, \"WindDirection\": 222.0, \"Temperature\": 8.899999999999997, \"BarPressure\": 951.0, \"Humidity\": 46.0, \"Precipitation\": 0.0}, {\"TIME\": \"2019-01-01 19:59:59\", \"HOUR\": 20.0, \"DAYWEEK\": 1, \"AirStationId\": 16.0, \"WeatherStationId\": 16, \"NO2_index\": 130.0, \"WindSpeed\": 0.28, \"WindDirection\": 53.5, \"Temperature\": 7.15, \"BarPressure\": 951.0, \"Humidity\": 52.0, \"Precipitation\": 0.0}, {\"TIME\": \"2019-01-01 20:59:59\", \"HOUR\": 21.0, \"DAYWEEK\": 1, \"AirStationId\": 16.0, \"WeatherStationId\": 16, \"NO2_index\": 121.0, \"WindSpeed\": 0.28500000000000003, \"WindDirection\": 198.5, \"Temperature\": 6.25, \"BarPressure\": 951.0, \"Humidity\": 56.0, \"Precipitation\": 0.0}, {\"TIME\": \"2019-01-01 21:59:59\", \"HOUR\": 22.0, \"DAYWEEK\": 1, \"AirStationId\": 16.0, \"WeatherStationId\": 16, \"NO2_index\": 125.0, \"WindSpeed\": 0.315, \"WindDirection\": 68.5, \"Temperature\": 5.0, \"BarPressure\": 951.0, \"Humidity\": 60.0, \"Precipitation\": 0.0}, {\"TIME\": \"2019-01-01 22:59:59\", \"HOUR\": 23.0, \"DAYWEEK\": 1, \"AirStationId\": 16.0, \"WeatherStationId\": 16, \"NO2_index\": 120.0, \"WindSpeed\": 0.37, \"WindDirection\": 179.0, \"Temperature\": 3.95, \"BarPressure\": 951.0, \"Humidity\": 63.0, \"Precipitation\": 0.0}, {\"TIME\": \"2019-01-01 23:59:59\", \"HOUR\": 24.0, \"DAYWEEK\": 1, \"AirStationId\": 16.0, \"WeatherStationId\": 16, \"NO2_index\": 80.0, \"WindSpeed\": 0.26, \"WindDirection\": 167.5, \"Temperature\": 3.0, \"BarPressure\": 951.0, \"Humidity\": 61.0, \"Precipitation\": 0.0}, {\"TIME\": \"2019-01-02 00:59:59\", \"HOUR\": 1.0, \"DAYWEEK\": 2, \"AirStationId\": 16.0, \"WeatherStationId\": 16, \"NO2_index\": 72.0, \"WindSpeed\": 0.23, \"WindDirection\": 99.5, \"Temperature\": 2.1, \"BarPressure\": 952.0, \"Humidity\": 64.0, \"Precipitation\": 0.0}, {\"TIME\": \"2019-01-02 01:59:59\", \"HOUR\": 2.0, \"DAYWEEK\": 2, \"AirStationId\": 16.0, \"WeatherStationId\": 16, \"NO2_index\": 72.0, \"WindSpeed\": 0.27, \"WindDirection\": 113.5, \"Temperature\": 1.85, \"BarPressure\": 951.0, \"Humidity\": 67.0, \"Precipitation\": 0.0}, {\"TIME\": \"2019-01-02 02:59:59\", \"HOUR\": 3.0, \"DAYWEEK\": 2, \"AirStationId\": 16.0, \"WeatherStationId\": 16, \"NO2_index\": 53.0, \"WindSpeed\": 0.29500000000000004, \"WindDirection\": 70.0, \"Temperature\": 1.0, \"BarPressure\": 951.0, \"Humidity\": 67.0, \"Precipitation\": 0.0}, {\"TIME\": \"2019-01-02 03:59:59\", \"HOUR\": 4.0, \"DAYWEEK\": 2, \"AirStationId\": 16.0, \"WeatherStationId\": 16, \"NO2_index\": 41.0, \"WindSpeed\": 0.255, \"WindDirection\": 143.5, \"Temperature\": 0.55, \"BarPressure\": 951.0, \"Humidity\": 69.0, \"Precipitation\": 0.0}, {\"TIME\": \"2019-01-02 04:59:59\", \"HOUR\": 5.0, \"DAYWEEK\": 2, \"AirStationId\": 16.0, \"WeatherStationId\": 16, \"NO2_index\": 35.0, \"WindSpeed\": 0.265, \"WindDirection\": 143.0, \"Temperature\": -0.05, \"BarPressure\": 951.0, \"Humidity\": 71.0, \"Precipitation\": 0.0}, {\"TIME\": \"2019-01-02 05:59:59\", \"HOUR\": 6.0, \"DAYWEEK\": 2, \"AirStationId\": 16.0, \"WeatherStationId\": 16, \"NO2_index\": 44.0, \"WindSpeed\": 0.26, \"WindDirection\": 161.5, \"Temperature\": -0.55, \"BarPressure\": 950.0, \"Humidity\": 74.0, \"Precipitation\": 0.0}]}}, {\"mode\": \"vega-lite\"});\n",
       "</script>"
      ],
      "text/plain": [
       "alt.Chart(...)"
      ]
     },
     "execution_count": 55,
     "metadata": {},
     "output_type": "execute_result"
    }
   ],
   "source": [
    "chart = alt.Chart(source).transform_fold(['NO2_index', 'Temperature', 'WindSpeed'], \n",
    "                                 as_=['indice','NO2']).mark_line().encode(x='TIME:T', y='NO2:Q',\n",
    "                                                                             color='indice:N')\n",
    "chart"
   ]
  },
  {
   "cell_type": "code",
   "execution_count": 40,
   "metadata": {},
   "outputs": [
    {
     "data": {
      "text/html": [
       "\n",
       "<div id=\"altair-viz-c45ebf358b6043ed94402a4abc2bd176\"></div>\n",
       "<script type=\"text/javascript\">\n",
       "  (function(spec, embedOpt){\n",
       "    let outputDiv = document.currentScript.previousElementSibling;\n",
       "    if (outputDiv.id !== \"altair-viz-c45ebf358b6043ed94402a4abc2bd176\") {\n",
       "      outputDiv = document.getElementById(\"altair-viz-c45ebf358b6043ed94402a4abc2bd176\");\n",
       "    }\n",
       "    const paths = {\n",
       "      \"vega\": \"https://cdn.jsdelivr.net/npm//vega@5?noext\",\n",
       "      \"vega-lib\": \"https://cdn.jsdelivr.net/npm//vega-lib?noext\",\n",
       "      \"vega-lite\": \"https://cdn.jsdelivr.net/npm//vega-lite@4.8.1?noext\",\n",
       "      \"vega-embed\": \"https://cdn.jsdelivr.net/npm//vega-embed@6?noext\",\n",
       "    };\n",
       "\n",
       "    function loadScript(lib) {\n",
       "      return new Promise(function(resolve, reject) {\n",
       "        var s = document.createElement('script');\n",
       "        s.src = paths[lib];\n",
       "        s.async = true;\n",
       "        s.onload = () => resolve(paths[lib]);\n",
       "        s.onerror = () => reject(`Error loading script: ${paths[lib]}`);\n",
       "        document.getElementsByTagName(\"head\")[0].appendChild(s);\n",
       "      });\n",
       "    }\n",
       "\n",
       "    function showError(err) {\n",
       "      outputDiv.innerHTML = `<div class=\"error\" style=\"color:red;\">${err}</div>`;\n",
       "      throw err;\n",
       "    }\n",
       "\n",
       "    function displayChart(vegaEmbed) {\n",
       "      vegaEmbed(outputDiv, spec, embedOpt)\n",
       "        .catch(err => showError(`Javascript Error: ${err.message}<br>This usually means there's a typo in your chart specification. See the javascript console for the full traceback.`));\n",
       "    }\n",
       "\n",
       "    if(typeof define === \"function\" && define.amd) {\n",
       "      requirejs.config({paths});\n",
       "      require([\"vega-embed\"], displayChart, err => showError(`Error loading script: ${err.message}`));\n",
       "    } else if (typeof vegaEmbed === \"function\") {\n",
       "      displayChart(vegaEmbed);\n",
       "    } else {\n",
       "      loadScript(\"vega\")\n",
       "        .then(() => loadScript(\"vega-lite\"))\n",
       "        .then(() => loadScript(\"vega-embed\"))\n",
       "        .catch(showError)\n",
       "        .then(() => displayChart(vegaEmbed));\n",
       "    }\n",
       "  })({\"config\": {\"view\": {\"continuousWidth\": 400, \"continuousHeight\": 300}}, \"data\": {\"name\": \"data-8155c010a041092ab4f85334ca0358cb\"}, \"mark\": \"line\", \"encoding\": {\"color\": {\"type\": \"nominal\", \"field\": \"indice\"}, \"x\": {\"type\": \"temporal\", \"field\": \"TIME\"}, \"y\": {\"type\": \"quantitative\", \"field\": \"NO2\"}}, \"transform\": [{\"fold\": [\"NO2_index\", \"Temperature\", \"WindSpeed\"], \"as\": [\"indice\", \"NO2\"]}], \"$schema\": \"https://vega.github.io/schema/vega-lite/v4.8.1.json\", \"datasets\": {\"data-8155c010a041092ab4f85334ca0358cb\": [{\"TIME\": \"2019-01-01 00:59:59\", \"HOUR\": 1.0, \"DAYWEEK\": 1, \"AirStationId\": 16.0, \"WeatherStationId\": 16, \"NO2_index\": 53.0, \"WindSpeed\": 0.495, \"WindDirection\": 56.0, \"Temperature\": 2.9000000000000004, \"BarPressure\": 952.0, \"Humidity\": 57.0, \"Precipitation\": 0.0}, {\"TIME\": \"2019-01-01 01:59:59\", \"HOUR\": 2.0, \"DAYWEEK\": 1, \"AirStationId\": 16.0, \"WeatherStationId\": 16, \"NO2_index\": 44.0, \"WindSpeed\": 0.41, \"WindDirection\": 77.0, \"Temperature\": 2.7, \"BarPressure\": 952.0, \"Humidity\": 57.0, \"Precipitation\": 0.0}, {\"TIME\": \"2019-01-01 02:59:59\", \"HOUR\": 3.0, \"DAYWEEK\": 1, \"AirStationId\": 16.0, \"WeatherStationId\": 16, \"NO2_index\": 54.0, \"WindSpeed\": 0.355, \"WindDirection\": 75.5, \"Temperature\": 2.35, \"BarPressure\": 952.0, \"Humidity\": 57.0, \"Precipitation\": 0.0}, {\"TIME\": \"2019-01-01 03:59:59\", \"HOUR\": 4.0, \"DAYWEEK\": 1, \"AirStationId\": 16.0, \"WeatherStationId\": 16, \"NO2_index\": 43.0, \"WindSpeed\": 0.42, \"WindDirection\": 102.0, \"Temperature\": 1.5499999999999998, \"BarPressure\": 952.0, \"Humidity\": 56.0, \"Precipitation\": 0.0}, {\"TIME\": \"2019-01-01 04:59:59\", \"HOUR\": 5.0, \"DAYWEEK\": 1, \"AirStationId\": 16.0, \"WeatherStationId\": 16, \"NO2_index\": 42.0, \"WindSpeed\": 0.355, \"WindDirection\": 117.0, \"Temperature\": 1.1, \"BarPressure\": 951.0, \"Humidity\": 59.0, \"Precipitation\": 0.0}, {\"TIME\": \"2019-01-01 05:59:59\", \"HOUR\": 6.0, \"DAYWEEK\": 1, \"AirStationId\": 16.0, \"WeatherStationId\": 16, \"NO2_index\": 20.0, \"WindSpeed\": 0.385, \"WindDirection\": 92.0, \"Temperature\": 0.6, \"BarPressure\": 951.0, \"Humidity\": 57.0, \"Precipitation\": 0.0}, {\"TIME\": \"2019-01-01 06:59:59\", \"HOUR\": 7.0, \"DAYWEEK\": 1, \"AirStationId\": 16.0, \"WeatherStationId\": 16, \"NO2_index\": 34.0, \"WindSpeed\": 0.4300000000000001, \"WindDirection\": 161.5, \"Temperature\": 0.15, \"BarPressure\": 951.0, \"Humidity\": 59.0, \"Precipitation\": 0.0}, {\"TIME\": \"2019-01-01 07:59:59\", \"HOUR\": 8.0, \"DAYWEEK\": 1, \"AirStationId\": 16.0, \"WeatherStationId\": 16, \"NO2_index\": 45.0, \"WindSpeed\": 0.34, \"WindDirection\": 76.0, \"Temperature\": -0.15, \"BarPressure\": 952.0, \"Humidity\": 64.0, \"Precipitation\": 0.0}, {\"TIME\": \"2019-01-01 08:59:59\", \"HOUR\": 9.0, \"DAYWEEK\": 1, \"AirStationId\": 16.0, \"WeatherStationId\": 16, \"NO2_index\": 35.0, \"WindSpeed\": 0.39, \"WindDirection\": 60.5, \"Temperature\": 0.15, \"BarPressure\": 952.0, \"Humidity\": 61.0, \"Precipitation\": 0.0}, {\"TIME\": \"2019-01-01 09:59:59\", \"HOUR\": 10.0, \"DAYWEEK\": 1, \"AirStationId\": 16.0, \"WeatherStationId\": 16, \"NO2_index\": 19.0, \"WindSpeed\": 0.5, \"WindDirection\": 62.5, \"Temperature\": 2.2, \"BarPressure\": 952.0, \"Humidity\": 57.0, \"Precipitation\": 0.0}, {\"TIME\": \"2019-01-01 10:59:59\", \"HOUR\": 11.0, \"DAYWEEK\": 1, \"AirStationId\": 16.0, \"WeatherStationId\": 16, \"NO2_index\": 16.0, \"WindSpeed\": 0.53, \"WindDirection\": 77.5, \"Temperature\": 4.5, \"BarPressure\": 953.0, \"Humidity\": 54.0, \"Precipitation\": 0.0}, {\"TIME\": \"2019-01-01 11:59:59\", \"HOUR\": 12.0, \"DAYWEEK\": 1, \"AirStationId\": 16.0, \"WeatherStationId\": 16, \"NO2_index\": 20.0, \"WindSpeed\": 0.5800000000000001, \"WindDirection\": 89.5, \"Temperature\": 7.75, \"BarPressure\": 952.0, \"Humidity\": 47.0, \"Precipitation\": 0.0}, {\"TIME\": \"2019-01-01 12:59:59\", \"HOUR\": 13.0, \"DAYWEEK\": 1, \"AirStationId\": 16.0, \"WeatherStationId\": 16, \"NO2_index\": 23.0, \"WindSpeed\": 0.61, \"WindDirection\": 123.5, \"Temperature\": 10.5, \"BarPressure\": 952.0, \"Humidity\": 29.0, \"Precipitation\": 0.0}, {\"TIME\": \"2019-01-01 13:59:59\", \"HOUR\": 14.0, \"DAYWEEK\": 1, \"AirStationId\": 16.0, \"WeatherStationId\": 16, \"NO2_index\": 32.0, \"WindSpeed\": 0.5700000000000001, \"WindDirection\": 180.5, \"Temperature\": 12.8, \"BarPressure\": 951.0, \"Humidity\": 24.0, \"Precipitation\": 0.0}, {\"TIME\": \"2019-01-01 14:59:59\", \"HOUR\": 15.0, \"DAYWEEK\": 1, \"AirStationId\": 16.0, \"WeatherStationId\": 16, \"NO2_index\": 44.0, \"WindSpeed\": 0.665, \"WindDirection\": 179.0, \"Temperature\": 13.7, \"BarPressure\": 951.0, \"Humidity\": 23.0, \"Precipitation\": 0.0}, {\"TIME\": \"2019-01-01 15:59:59\", \"HOUR\": 16.0, \"DAYWEEK\": 1, \"AirStationId\": 16.0, \"WeatherStationId\": 16, \"NO2_index\": 54.0, \"WindSpeed\": 0.5700000000000001, \"WindDirection\": 170.5, \"Temperature\": 14.5, \"BarPressure\": 951.0, \"Humidity\": 24.0, \"Precipitation\": 0.0}, {\"TIME\": \"2019-01-01 16:59:59\", \"HOUR\": 17.0, \"DAYWEEK\": 1, \"AirStationId\": 16.0, \"WeatherStationId\": 16, \"NO2_index\": 60.0, \"WindSpeed\": 0.655, \"WindDirection\": 186.5, \"Temperature\": 14.45, \"BarPressure\": 951.0, \"Humidity\": 28.0, \"Precipitation\": 0.0}, {\"TIME\": \"2019-01-01 17:59:59\", \"HOUR\": 18.0, \"DAYWEEK\": 1, \"AirStationId\": 16.0, \"WeatherStationId\": 16, \"NO2_index\": 75.0, \"WindSpeed\": 0.37, \"WindDirection\": 184.0, \"Temperature\": 11.85, \"BarPressure\": 951.0, \"Humidity\": 39.0, \"Precipitation\": 0.0}, {\"TIME\": \"2019-01-01 18:59:59\", \"HOUR\": 19.0, \"DAYWEEK\": 1, \"AirStationId\": 16.0, \"WeatherStationId\": 16, \"NO2_index\": 95.0, \"WindSpeed\": 0.26, \"WindDirection\": 222.0, \"Temperature\": 8.899999999999997, \"BarPressure\": 951.0, \"Humidity\": 46.0, \"Precipitation\": 0.0}, {\"TIME\": \"2019-01-01 19:59:59\", \"HOUR\": 20.0, \"DAYWEEK\": 1, \"AirStationId\": 16.0, \"WeatherStationId\": 16, \"NO2_index\": 130.0, \"WindSpeed\": 0.28, \"WindDirection\": 53.5, \"Temperature\": 7.15, \"BarPressure\": 951.0, \"Humidity\": 52.0, \"Precipitation\": 0.0}, {\"TIME\": \"2019-01-01 20:59:59\", \"HOUR\": 21.0, \"DAYWEEK\": 1, \"AirStationId\": 16.0, \"WeatherStationId\": 16, \"NO2_index\": 121.0, \"WindSpeed\": 0.28500000000000003, \"WindDirection\": 198.5, \"Temperature\": 6.25, \"BarPressure\": 951.0, \"Humidity\": 56.0, \"Precipitation\": 0.0}, {\"TIME\": \"2019-01-01 21:59:59\", \"HOUR\": 22.0, \"DAYWEEK\": 1, \"AirStationId\": 16.0, \"WeatherStationId\": 16, \"NO2_index\": 125.0, \"WindSpeed\": 0.315, \"WindDirection\": 68.5, \"Temperature\": 5.0, \"BarPressure\": 951.0, \"Humidity\": 60.0, \"Precipitation\": 0.0}, {\"TIME\": \"2019-01-01 22:59:59\", \"HOUR\": 23.0, \"DAYWEEK\": 1, \"AirStationId\": 16.0, \"WeatherStationId\": 16, \"NO2_index\": 120.0, \"WindSpeed\": 0.37, \"WindDirection\": 179.0, \"Temperature\": 3.95, \"BarPressure\": 951.0, \"Humidity\": 63.0, \"Precipitation\": 0.0}, {\"TIME\": \"2019-01-01 23:59:59\", \"HOUR\": 24.0, \"DAYWEEK\": 1, \"AirStationId\": 16.0, \"WeatherStationId\": 16, \"NO2_index\": 80.0, \"WindSpeed\": 0.26, \"WindDirection\": 167.5, \"Temperature\": 3.0, \"BarPressure\": 951.0, \"Humidity\": 61.0, \"Precipitation\": 0.0}, {\"TIME\": \"2019-01-02 00:59:59\", \"HOUR\": 1.0, \"DAYWEEK\": 2, \"AirStationId\": 16.0, \"WeatherStationId\": 16, \"NO2_index\": 72.0, \"WindSpeed\": 0.23, \"WindDirection\": 99.5, \"Temperature\": 2.1, \"BarPressure\": 952.0, \"Humidity\": 64.0, \"Precipitation\": 0.0}, {\"TIME\": \"2019-01-02 01:59:59\", \"HOUR\": 2.0, \"DAYWEEK\": 2, \"AirStationId\": 16.0, \"WeatherStationId\": 16, \"NO2_index\": 72.0, \"WindSpeed\": 0.27, \"WindDirection\": 113.5, \"Temperature\": 1.85, \"BarPressure\": 951.0, \"Humidity\": 67.0, \"Precipitation\": 0.0}, {\"TIME\": \"2019-01-02 02:59:59\", \"HOUR\": 3.0, \"DAYWEEK\": 2, \"AirStationId\": 16.0, \"WeatherStationId\": 16, \"NO2_index\": 53.0, \"WindSpeed\": 0.29500000000000004, \"WindDirection\": 70.0, \"Temperature\": 1.0, \"BarPressure\": 951.0, \"Humidity\": 67.0, \"Precipitation\": 0.0}, {\"TIME\": \"2019-01-02 03:59:59\", \"HOUR\": 4.0, \"DAYWEEK\": 2, \"AirStationId\": 16.0, \"WeatherStationId\": 16, \"NO2_index\": 41.0, \"WindSpeed\": 0.255, \"WindDirection\": 143.5, \"Temperature\": 0.55, \"BarPressure\": 951.0, \"Humidity\": 69.0, \"Precipitation\": 0.0}, {\"TIME\": \"2019-01-02 04:59:59\", \"HOUR\": 5.0, \"DAYWEEK\": 2, \"AirStationId\": 16.0, \"WeatherStationId\": 16, \"NO2_index\": 35.0, \"WindSpeed\": 0.265, \"WindDirection\": 143.0, \"Temperature\": -0.05, \"BarPressure\": 951.0, \"Humidity\": 71.0, \"Precipitation\": 0.0}, {\"TIME\": \"2019-01-02 05:59:59\", \"HOUR\": 6.0, \"DAYWEEK\": 2, \"AirStationId\": 16.0, \"WeatherStationId\": 16, \"NO2_index\": 44.0, \"WindSpeed\": 0.26, \"WindDirection\": 161.5, \"Temperature\": -0.55, \"BarPressure\": 950.0, \"Humidity\": 74.0, \"Precipitation\": 0.0}]}}, {\"mode\": \"vega-lite\"});\n",
       "</script>"
      ],
      "text/plain": [
       "alt.Chart(...)"
      ]
     },
     "execution_count": 40,
     "metadata": {},
     "output_type": "execute_result"
    }
   ],
   "source": [
    "t"
   ]
  },
  {
   "cell_type": "code",
   "execution_count": 1,
   "metadata": {},
   "outputs": [
    {
     "ename": "NameError",
     "evalue": "name 'folium' is not defined",
     "output_type": "error",
     "traceback": [
      "\u001b[0;31m---------------------------------------------------------------------------\u001b[0m",
      "\u001b[0;31mNameError\u001b[0m                                 Traceback (most recent call last)",
      "\u001b[0;32m<ipython-input-1-1643eba231cd>\u001b[0m in \u001b[0;36m<module>\u001b[0;34m\u001b[0m\n\u001b[0;32m----> 1\u001b[0;31m \u001b[0mmap\u001b[0m \u001b[0;34m=\u001b[0m \u001b[0mfolium\u001b[0m\u001b[0;34m.\u001b[0m\u001b[0mMap\u001b[0m\u001b[0;34m(\u001b[0m\u001b[0mwidth\u001b[0m\u001b[0;34m=\u001b[0m\u001b[0;36m650\u001b[0m\u001b[0;34m,\u001b[0m\u001b[0mheight\u001b[0m\u001b[0;34m=\u001b[0m\u001b[0;36m650\u001b[0m\u001b[0;34m,\u001b[0m\u001b[0mlocation\u001b[0m\u001b[0;34m=\u001b[0m\u001b[0;34m[\u001b[0m\u001b[0mdfair\u001b[0m\u001b[0;34m.\u001b[0m\u001b[0mLATITUD\u001b[0m\u001b[0;34m.\u001b[0m\u001b[0mmean\u001b[0m\u001b[0;34m(\u001b[0m\u001b[0;34m)\u001b[0m\u001b[0;34m,\u001b[0m \u001b[0mdfair\u001b[0m\u001b[0;34m.\u001b[0m\u001b[0mLONGITUD\u001b[0m\u001b[0;34m.\u001b[0m\u001b[0mmean\u001b[0m\u001b[0;34m(\u001b[0m\u001b[0;34m)\u001b[0m\u001b[0;34m]\u001b[0m\u001b[0;34m,\u001b[0m \u001b[0mzoom_start\u001b[0m\u001b[0;34m=\u001b[0m\u001b[0;36m12\u001b[0m\u001b[0;34m,\u001b[0m\u001b[0mmin_zoom\u001b[0m\u001b[0;34m=\u001b[0m\u001b[0;36m8\u001b[0m\u001b[0;34m,\u001b[0m\u001b[0mmax_zoom\u001b[0m\u001b[0;34m=\u001b[0m\u001b[0;36m18\u001b[0m\u001b[0;34m)\u001b[0m\u001b[0;34m\u001b[0m\u001b[0;34m\u001b[0m\u001b[0m\n\u001b[0m\u001b[1;32m      2\u001b[0m \u001b[0;34m\u001b[0m\u001b[0m\n\u001b[1;32m      3\u001b[0m \u001b[0;31m#c = json.loads(chart2.to_json())\u001b[0m\u001b[0;34m\u001b[0m\u001b[0;34m\u001b[0m\u001b[0;34m\u001b[0m\u001b[0m\n\u001b[1;32m      4\u001b[0m \u001b[0mpopup\u001b[0m \u001b[0;34m=\u001b[0m \u001b[0mfolium\u001b[0m\u001b[0;34m.\u001b[0m\u001b[0mPopup\u001b[0m\u001b[0;34m(\u001b[0m\u001b[0mmax_width\u001b[0m\u001b[0;34m=\u001b[0m\u001b[0;36m650\u001b[0m\u001b[0;34m)\u001b[0m\u001b[0;34m\u001b[0m\u001b[0;34m\u001b[0m\u001b[0m\n\u001b[1;32m      5\u001b[0m \u001b[0mfolium\u001b[0m\u001b[0;34m.\u001b[0m\u001b[0mfeatures\u001b[0m\u001b[0;34m.\u001b[0m\u001b[0mVegaLite\u001b[0m\u001b[0;34m(\u001b[0m\u001b[0mchart\u001b[0m\u001b[0;34m,\u001b[0m \u001b[0mheight\u001b[0m\u001b[0;34m=\u001b[0m\u001b[0;36m350\u001b[0m\u001b[0;34m,\u001b[0m \u001b[0mwidth\u001b[0m\u001b[0;34m=\u001b[0m\u001b[0;36m450\u001b[0m\u001b[0;34m)\u001b[0m\u001b[0;34m.\u001b[0m\u001b[0madd_to\u001b[0m\u001b[0;34m(\u001b[0m\u001b[0mpopup\u001b[0m\u001b[0;34m)\u001b[0m\u001b[0;34m\u001b[0m\u001b[0;34m\u001b[0m\u001b[0m\n",
      "\u001b[0;31mNameError\u001b[0m: name 'folium' is not defined"
     ]
    }
   ],
   "source": [
    "map = folium.Map(width=650,height=650,location=[dfair.LATITUD.mean(), dfair.LONGITUD.mean()], zoom_start=12,min_zoom=8,max_zoom=18)\n",
    "\n",
    "#c = json.loads(chart2.to_json())\n",
    "popup = folium.Popup(max_width=650)\n",
    "folium.features.VegaLite(chart, height=350, width=450).add_to(popup)\n",
    "\n",
    "folium.Marker([40.4400457,-3.6392422],\n",
    "                 icon=folium.Icon(color=\"gray\", icon='atom',prefix='fa'),popup=popup,tooltip=\"Station15\").add_to(map)\n",
    "\n",
    "\n",
    "\n",
    "map"
   ]
  },
  {
   "cell_type": "code",
   "execution_count": null,
   "metadata": {},
   "outputs": [],
   "source": []
  },
  {
   "cell_type": "code",
   "execution_count": 70,
   "metadata": {},
   "outputs": [
    {
     "data": {
      "text/html": [
       "<div style=\"width:100%;\"><div style=\"position:relative;width:100%;height:0;padding-bottom:60%;\"><span style=\"color:#565656\">Make this Notebook Trusted to load map: File -> Trust Notebook</span><iframe src=\"about:blank\" style=\"position:absolute;width:100%;height:100%;left:0;top:0;border:none !important;\" data-html=%3C%21DOCTYPE%20html%3E%0A%3Chead%3E%20%20%20%20%0A%20%20%20%20%3Cmeta%20http-equiv%3D%22content-type%22%20content%3D%22text/html%3B%20charset%3DUTF-8%22%20/%3E%0A%20%20%20%20%0A%20%20%20%20%20%20%20%20%3Cscript%3E%0A%20%20%20%20%20%20%20%20%20%20%20%20L_NO_TOUCH%20%3D%20false%3B%0A%20%20%20%20%20%20%20%20%20%20%20%20L_DISABLE_3D%20%3D%20false%3B%0A%20%20%20%20%20%20%20%20%3C/script%3E%0A%20%20%20%20%0A%20%20%20%20%3Cstyle%3Ehtml%2C%20body%20%7Bwidth%3A%20100%25%3Bheight%3A%20100%25%3Bmargin%3A%200%3Bpadding%3A%200%3B%7D%3C/style%3E%0A%20%20%20%20%3Cstyle%3E%23map%20%7Bposition%3Aabsolute%3Btop%3A0%3Bbottom%3A0%3Bright%3A0%3Bleft%3A0%3B%7D%3C/style%3E%0A%20%20%20%20%3Cscript%20src%3D%22https%3A//cdn.jsdelivr.net/npm/leaflet%401.6.0/dist/leaflet.js%22%3E%3C/script%3E%0A%20%20%20%20%3Cscript%20src%3D%22https%3A//code.jquery.com/jquery-1.12.4.min.js%22%3E%3C/script%3E%0A%20%20%20%20%3Cscript%20src%3D%22https%3A//maxcdn.bootstrapcdn.com/bootstrap/3.2.0/js/bootstrap.min.js%22%3E%3C/script%3E%0A%20%20%20%20%3Cscript%20src%3D%22https%3A//cdnjs.cloudflare.com/ajax/libs/Leaflet.awesome-markers/2.0.2/leaflet.awesome-markers.js%22%3E%3C/script%3E%0A%20%20%20%20%3Clink%20rel%3D%22stylesheet%22%20href%3D%22https%3A//cdn.jsdelivr.net/npm/leaflet%401.6.0/dist/leaflet.css%22/%3E%0A%20%20%20%20%3Clink%20rel%3D%22stylesheet%22%20href%3D%22https%3A//maxcdn.bootstrapcdn.com/bootstrap/3.2.0/css/bootstrap.min.css%22/%3E%0A%20%20%20%20%3Clink%20rel%3D%22stylesheet%22%20href%3D%22https%3A//maxcdn.bootstrapcdn.com/bootstrap/3.2.0/css/bootstrap-theme.min.css%22/%3E%0A%20%20%20%20%3Clink%20rel%3D%22stylesheet%22%20href%3D%22https%3A//maxcdn.bootstrapcdn.com/font-awesome/4.6.3/css/font-awesome.min.css%22/%3E%0A%20%20%20%20%3Clink%20rel%3D%22stylesheet%22%20href%3D%22https%3A//cdnjs.cloudflare.com/ajax/libs/Leaflet.awesome-markers/2.0.2/leaflet.awesome-markers.css%22/%3E%0A%20%20%20%20%3Clink%20rel%3D%22stylesheet%22%20href%3D%22https%3A//cdn.jsdelivr.net/gh/python-visualization/folium/folium/templates/leaflet.awesome.rotate.min.css%22/%3E%0A%20%20%20%20%0A%20%20%20%20%20%20%20%20%20%20%20%20%3Cmeta%20name%3D%22viewport%22%20content%3D%22width%3Ddevice-width%2C%0A%20%20%20%20%20%20%20%20%20%20%20%20%20%20%20%20initial-scale%3D1.0%2C%20maximum-scale%3D1.0%2C%20user-scalable%3Dno%22%20/%3E%0A%20%20%20%20%20%20%20%20%20%20%20%20%3Cstyle%3E%0A%20%20%20%20%20%20%20%20%20%20%20%20%20%20%20%20%23map_bed1a0b2c0104c88807c95f3dbd73b7a%20%7B%0A%20%20%20%20%20%20%20%20%20%20%20%20%20%20%20%20%20%20%20%20position%3A%20relative%3B%0A%20%20%20%20%20%20%20%20%20%20%20%20%20%20%20%20%20%20%20%20width%3A%20100.0%25%3B%0A%20%20%20%20%20%20%20%20%20%20%20%20%20%20%20%20%20%20%20%20height%3A%20100.0%25%3B%0A%20%20%20%20%20%20%20%20%20%20%20%20%20%20%20%20%20%20%20%20left%3A%200.0%25%3B%0A%20%20%20%20%20%20%20%20%20%20%20%20%20%20%20%20%20%20%20%20top%3A%200.0%25%3B%0A%20%20%20%20%20%20%20%20%20%20%20%20%20%20%20%20%7D%0A%20%20%20%20%20%20%20%20%20%20%20%20%3C/style%3E%0A%20%20%20%20%20%20%20%20%0A%3C/head%3E%0A%3Cbody%3E%20%20%20%20%0A%20%20%20%20%0A%20%20%20%20%20%20%20%20%20%20%20%20%3Cdiv%20class%3D%22folium-map%22%20id%3D%22map_bed1a0b2c0104c88807c95f3dbd73b7a%22%20%3E%3C/div%3E%0A%20%20%20%20%20%20%20%20%0A%3C/body%3E%0A%3Cscript%3E%20%20%20%20%0A%20%20%20%20%0A%20%20%20%20%20%20%20%20%20%20%20%20var%20map_bed1a0b2c0104c88807c95f3dbd73b7a%20%3D%20L.map%28%0A%20%20%20%20%20%20%20%20%20%20%20%20%20%20%20%20%22map_bed1a0b2c0104c88807c95f3dbd73b7a%22%2C%0A%20%20%20%20%20%20%20%20%20%20%20%20%20%20%20%20%7B%0A%20%20%20%20%20%20%20%20%20%20%20%20%20%20%20%20%20%20%20%20center%3A%20%5B39.712183%2C%20-104.998424%5D%2C%0A%20%20%20%20%20%20%20%20%20%20%20%20%20%20%20%20%20%20%20%20crs%3A%20L.CRS.EPSG3857%2C%0A%20%20%20%20%20%20%20%20%20%20%20%20%20%20%20%20%20%20%20%20zoom%3A%205%2C%0A%20%20%20%20%20%20%20%20%20%20%20%20%20%20%20%20%20%20%20%20zoomControl%3A%20true%2C%0A%20%20%20%20%20%20%20%20%20%20%20%20%20%20%20%20%20%20%20%20preferCanvas%3A%20false%2C%0A%20%20%20%20%20%20%20%20%20%20%20%20%20%20%20%20%7D%0A%20%20%20%20%20%20%20%20%20%20%20%20%29%3B%0A%0A%20%20%20%20%20%20%20%20%20%20%20%20%0A%0A%20%20%20%20%20%20%20%20%0A%20%20%20%20%0A%20%20%20%20%20%20%20%20%20%20%20%20var%20tile_layer_3f23abdf29f44c4c8b731411d70505d8%20%3D%20L.tileLayer%28%0A%20%20%20%20%20%20%20%20%20%20%20%20%20%20%20%20%22https%3A//%7Bs%7D.tile.openstreetmap.org/%7Bz%7D/%7Bx%7D/%7By%7D.png%22%2C%0A%20%20%20%20%20%20%20%20%20%20%20%20%20%20%20%20%7B%22attribution%22%3A%20%22Data%20by%20%5Cu0026copy%3B%20%5Cu003ca%20href%3D%5C%22http%3A//openstreetmap.org%5C%22%5Cu003eOpenStreetMap%5Cu003c/a%5Cu003e%2C%20under%20%5Cu003ca%20href%3D%5C%22http%3A//www.openstreetmap.org/copyright%5C%22%5Cu003eODbL%5Cu003c/a%5Cu003e.%22%2C%20%22detectRetina%22%3A%20false%2C%20%22maxNativeZoom%22%3A%2018%2C%20%22maxZoom%22%3A%2018%2C%20%22minZoom%22%3A%200%2C%20%22noWrap%22%3A%20false%2C%20%22opacity%22%3A%201%2C%20%22subdomains%22%3A%20%22abc%22%2C%20%22tms%22%3A%20false%7D%0A%20%20%20%20%20%20%20%20%20%20%20%20%29.addTo%28map_bed1a0b2c0104c88807c95f3dbd73b7a%29%3B%0A%20%20%20%20%20%20%20%20%0A%20%20%20%20%0A%20%20%20%20%20%20%20%20%20%20%20%20var%20feature_group_7aa951b44c5649b78a34cff7fb437dec%20%3D%20L.featureGroup%28%0A%20%20%20%20%20%20%20%20%20%20%20%20%20%20%20%20%7B%7D%0A%20%20%20%20%20%20%20%20%20%20%20%20%29.addTo%28map_bed1a0b2c0104c88807c95f3dbd73b7a%29%3B%0A%20%20%20%20%20%20%20%20%0A%20%20%20%20%0A%20%20%20%20%20%20%20%20%20%20%20%20var%20circle_marker_b7ceef00b7fa4c0b98c69b98746c6808%20%3D%20L.circleMarker%28%0A%20%20%20%20%20%20%20%20%20%20%20%20%20%20%20%20%5B36.314292%2C%20-117.517516%5D%2C%0A%20%20%20%20%20%20%20%20%20%20%20%20%20%20%20%20%7B%22bubblingMouseEvents%22%3A%20true%2C%20%22color%22%3A%20%22red%22%2C%20%22dashArray%22%3A%20null%2C%20%22dashOffset%22%3A%20null%2C%20%22fill%22%3A%20true%2C%20%22fillColor%22%3A%20%22red%22%2C%20%22fillOpacity%22%3A%201.0%2C%20%22fillRule%22%3A%20%22evenodd%22%2C%20%22lineCap%22%3A%20%22round%22%2C%20%22lineJoin%22%3A%20%22round%22%2C%20%22opacity%22%3A%201.0%2C%20%22radius%22%3A%2010%2C%20%22stroke%22%3A%20true%2C%20%22weight%22%3A%203%7D%0A%20%20%20%20%20%20%20%20%20%20%20%20%29.addTo%28feature_group_7aa951b44c5649b78a34cff7fb437dec%29%3B%0A%20%20%20%20%20%20%20%20%0A%20%20%20%20%0A%20%20%20%20%20%20%20%20var%20popup_f638e30954cd431bb803df77e03b11ca%20%3D%20L.popup%28%7B%22maxWidth%22%3A%20%22100%25%22%7D%29%3B%0A%0A%20%20%20%20%20%20%20%20%0A%20%20%20%20%20%20%20%20%20%20%20%20var%20html_88f09f9db7c9495886e328a9b8b9d05b%20%3D%20%24%28%60%3Cdiv%20id%3D%22html_88f09f9db7c9495886e328a9b8b9d05b%22%20style%3D%22width%3A%20100.0%25%3B%20height%3A%20100.0%25%3B%22%3Einitial%20point%20Lat%3A%2036.314292%20%2C%20Long%3A%20-117.517516%3C/div%3E%60%29%5B0%5D%3B%0A%20%20%20%20%20%20%20%20%20%20%20%20popup_f638e30954cd431bb803df77e03b11ca.setContent%28html_88f09f9db7c9495886e328a9b8b9d05b%29%3B%0A%20%20%20%20%20%20%20%20%0A%0A%20%20%20%20%20%20%20%20circle_marker_b7ceef00b7fa4c0b98c69b98746c6808.bindPopup%28popup_f638e30954cd431bb803df77e03b11ca%29%0A%20%20%20%20%20%20%20%20%3B%0A%0A%20%20%20%20%20%20%20%20%0A%20%20%20%20%0A%20%20%20%20%0A%20%20%20%20%20%20%20%20%20%20%20%20circle_marker_b7ceef00b7fa4c0b98c69b98746c6808.bindTooltip%28%0A%20%20%20%20%20%20%20%20%20%20%20%20%20%20%20%20%60%3Cdiv%3E%0A%20%20%20%20%20%20%20%20%20%20%20%20%20%20%20%20%20%20%20%20%20initial%20point%20Lat%3A%2036.314292%20%2C%20Long%3A%20-117.517516%0A%20%20%20%20%20%20%20%20%20%20%20%20%20%20%20%20%20%3C/div%3E%60%2C%0A%20%20%20%20%20%20%20%20%20%20%20%20%20%20%20%20%7B%22sticky%22%3A%20true%7D%0A%20%20%20%20%20%20%20%20%20%20%20%20%29%3B%0A%20%20%20%20%20%20%20%20%0A%20%20%20%20%0A%20%20%20%20%20%20%20%20%20%20%20%20var%20circle_marker_f4f58e11614444b1bae115e82ee3ab47%20%3D%20L.circleMarker%28%0A%20%20%20%20%20%20%20%20%20%20%20%20%20%20%20%20%5B40.041159%2C%20-116.153016%5D%2C%0A%20%20%20%20%20%20%20%20%20%20%20%20%20%20%20%20%7B%22bubblingMouseEvents%22%3A%20true%2C%20%22color%22%3A%20%22red%22%2C%20%22dashArray%22%3A%20null%2C%20%22dashOffset%22%3A%20null%2C%20%22fill%22%3A%20true%2C%20%22fillColor%22%3A%20%22red%22%2C%20%22fillOpacity%22%3A%201.0%2C%20%22fillRule%22%3A%20%22evenodd%22%2C%20%22lineCap%22%3A%20%22round%22%2C%20%22lineJoin%22%3A%20%22round%22%2C%20%22opacity%22%3A%201.0%2C%20%22radius%22%3A%2010%2C%20%22stroke%22%3A%20true%2C%20%22weight%22%3A%203%7D%0A%20%20%20%20%20%20%20%20%20%20%20%20%29.addTo%28feature_group_7aa951b44c5649b78a34cff7fb437dec%29%3B%0A%20%20%20%20%20%20%20%20%0A%20%20%20%20%0A%20%20%20%20%20%20%20%20var%20popup_4669be60406048afb1e07a22b2d1d148%20%3D%20L.popup%28%7B%22maxWidth%22%3A%20%22100%25%22%7D%29%3B%0A%0A%20%20%20%20%20%20%20%20%0A%20%20%20%20%20%20%20%20%20%20%20%20var%20html_6d759e7dc2bf4a32971a9a393c258562%20%3D%20%24%28%60%3Cdiv%20id%3D%22html_6d759e7dc2bf4a32971a9a393c258562%22%20style%3D%22width%3A%20100.0%25%3B%20height%3A%20100.0%25%3B%22%3Esecond%20point%20Lat%3A%2040.041159%20%2C%20Long%3A%20-116.153016%3C/div%3E%60%29%5B0%5D%3B%0A%20%20%20%20%20%20%20%20%20%20%20%20popup_4669be60406048afb1e07a22b2d1d148.setContent%28html_6d759e7dc2bf4a32971a9a393c258562%29%3B%0A%20%20%20%20%20%20%20%20%0A%0A%20%20%20%20%20%20%20%20circle_marker_f4f58e11614444b1bae115e82ee3ab47.bindPopup%28popup_4669be60406048afb1e07a22b2d1d148%29%0A%20%20%20%20%20%20%20%20%3B%0A%0A%20%20%20%20%20%20%20%20%0A%20%20%20%20%0A%20%20%20%20%0A%20%20%20%20%20%20%20%20%20%20%20%20circle_marker_f4f58e11614444b1bae115e82ee3ab47.bindTooltip%28%0A%20%20%20%20%20%20%20%20%20%20%20%20%20%20%20%20%60%3Cdiv%3E%0A%20%20%20%20%20%20%20%20%20%20%20%20%20%20%20%20%20%20%20%20%20second%20point%20Lat%3A%2040.041159%20%2C%20Long%3A%20-116.153016%0A%20%20%20%20%20%20%20%20%20%20%20%20%20%20%20%20%20%3C/div%3E%60%2C%0A%20%20%20%20%20%20%20%20%20%20%20%20%20%20%20%20%7B%22sticky%22%3A%20true%7D%0A%20%20%20%20%20%20%20%20%20%20%20%20%29%3B%0A%20%20%20%20%20%20%20%20%0A%20%20%20%20%0A%20%20%20%20%20%20%20%20%20%20%20%20var%20circle_marker_eabb35f59d5c4d2e9deb0ba6af5c6f3f%20%3D%20L.circleMarker%28%0A%20%20%20%20%20%20%20%20%20%20%20%20%20%20%20%20%5B34.014757%2C%20-119.821985%5D%2C%0A%20%20%20%20%20%20%20%20%20%20%20%20%20%20%20%20%7B%22bubblingMouseEvents%22%3A%20true%2C%20%22color%22%3A%20%22red%22%2C%20%22dashArray%22%3A%20null%2C%20%22dashOffset%22%3A%20null%2C%20%22fill%22%3A%20true%2C%20%22fillColor%22%3A%20%22red%22%2C%20%22fillOpacity%22%3A%201.0%2C%20%22fillRule%22%3A%20%22evenodd%22%2C%20%22lineCap%22%3A%20%22round%22%2C%20%22lineJoin%22%3A%20%22round%22%2C%20%22opacity%22%3A%201.0%2C%20%22radius%22%3A%2010%2C%20%22stroke%22%3A%20true%2C%20%22weight%22%3A%203%7D%0A%20%20%20%20%20%20%20%20%20%20%20%20%29.addTo%28feature_group_7aa951b44c5649b78a34cff7fb437dec%29%3B%0A%20%20%20%20%20%20%20%20%0A%20%20%20%20%0A%20%20%20%20%20%20%20%20var%20popup_d5a8b3ab57044c04b0646a7b1b9ae0c5%20%3D%20L.popup%28%7B%22maxWidth%22%3A%20%22100%25%22%7D%29%3B%0A%0A%20%20%20%20%20%20%20%20%0A%20%20%20%20%20%20%20%20%20%20%20%20var%20html_35bf1e96b9f544bd89dfcae66283cfc9%20%3D%20%24%28%60%3Cdiv%20id%3D%22html_35bf1e96b9f544bd89dfcae66283cfc9%22%20style%3D%22width%3A%20100.0%25%3B%20height%3A%20100.0%25%3B%22%3Ethird%20point%20Lat%3A%2034.014757%20%2C%20Long%3A%20-119.821985%3C/div%3E%60%29%5B0%5D%3B%0A%20%20%20%20%20%20%20%20%20%20%20%20popup_d5a8b3ab57044c04b0646a7b1b9ae0c5.setContent%28html_35bf1e96b9f544bd89dfcae66283cfc9%29%3B%0A%20%20%20%20%20%20%20%20%0A%0A%20%20%20%20%20%20%20%20circle_marker_eabb35f59d5c4d2e9deb0ba6af5c6f3f.bindPopup%28popup_d5a8b3ab57044c04b0646a7b1b9ae0c5%29%0A%20%20%20%20%20%20%20%20%3B%0A%0A%20%20%20%20%20%20%20%20%0A%20%20%20%20%0A%20%20%20%20%0A%20%20%20%20%20%20%20%20%20%20%20%20circle_marker_eabb35f59d5c4d2e9deb0ba6af5c6f3f.bindTooltip%28%0A%20%20%20%20%20%20%20%20%20%20%20%20%20%20%20%20%60%3Cdiv%3E%0A%20%20%20%20%20%20%20%20%20%20%20%20%20%20%20%20%20%20%20%20%20third%20point%20Lat%3A%2034.014757%20%2C%20Long%3A%20-119.821985%0A%20%20%20%20%20%20%20%20%20%20%20%20%20%20%20%20%20%3C/div%3E%60%2C%0A%20%20%20%20%20%20%20%20%20%20%20%20%20%20%20%20%7B%22sticky%22%3A%20true%7D%0A%20%20%20%20%20%20%20%20%20%20%20%20%29%3B%0A%20%20%20%20%20%20%20%20%0A%20%20%20%20%0A%20%20%20%20%20%20%20%20%20%20%20%20var%20layer_control_de18771069ab431190583562233fa2ce%20%3D%20%7B%0A%20%20%20%20%20%20%20%20%20%20%20%20%20%20%20%20base_layers%20%3A%20%7B%0A%20%20%20%20%20%20%20%20%20%20%20%20%20%20%20%20%20%20%20%20%22openstreetmap%22%20%3A%20tile_layer_3f23abdf29f44c4c8b731411d70505d8%2C%0A%20%20%20%20%20%20%20%20%20%20%20%20%20%20%20%20%7D%2C%0A%20%20%20%20%20%20%20%20%20%20%20%20%20%20%20%20overlays%20%3A%20%20%7B%0A%20%20%20%20%20%20%20%20%20%20%20%20%20%20%20%20%20%20%20%20%22Query%20Search%22%20%3A%20feature_group_7aa951b44c5649b78a34cff7fb437dec%2C%0A%20%20%20%20%20%20%20%20%20%20%20%20%20%20%20%20%7D%2C%0A%20%20%20%20%20%20%20%20%20%20%20%20%7D%3B%0A%20%20%20%20%20%20%20%20%20%20%20%20L.control.layers%28%0A%20%20%20%20%20%20%20%20%20%20%20%20%20%20%20%20layer_control_de18771069ab431190583562233fa2ce.base_layers%2C%0A%20%20%20%20%20%20%20%20%20%20%20%20%20%20%20%20layer_control_de18771069ab431190583562233fa2ce.overlays%2C%0A%20%20%20%20%20%20%20%20%20%20%20%20%20%20%20%20%7B%22autoZIndex%22%3A%20true%2C%20%22collapsed%22%3A%20true%2C%20%22position%22%3A%20%22topright%22%7D%0A%20%20%20%20%20%20%20%20%20%20%20%20%29.addTo%28map_bed1a0b2c0104c88807c95f3dbd73b7a%29%3B%0A%20%20%20%20%20%20%20%20%0A%3C/script%3E onload=\"this.contentDocument.open();this.contentDocument.write(    decodeURIComponent(this.getAttribute('data-html')));this.contentDocument.close();\" allowfullscreen webkitallowfullscreen mozallowfullscreen></iframe></div></div>"
      ],
      "text/plain": [
       "<folium.folium.Map at 0x7fa996e50b50>"
      ]
     },
     "execution_count": 70,
     "metadata": {},
     "output_type": "execute_result"
    }
   ],
   "source": [
    "m = folium.Map(location=[39.712183, -104.998424], zoom_start=5)\n",
    "point_layer = folium.FeatureGroup(name=\"Query Search\")\n",
    "\n",
    "latLong = [(36.314292,-117.517516,\"initial point\"),\n",
    "           (40.041159,-116.153016,\"second point\"),\n",
    "           (34.014757,-119.821985,\"third point\")]\n",
    "\n",
    "for lat,lng,nameP in latLong:\n",
    "    point_layer.add_child(folium.CircleMarker(location=[lat, lng], radius=10,\n",
    "        popup=str(nameP) + \" Lat: \" + str(lat) + \" , Long: \" + str(lng), \n",
    "        tooltip=str(nameP) + \" Lat: \" + str(lat) + \" , Long: \" + str(lng),\n",
    "        fill=True,  # Set fill to True\n",
    "        color='red',\n",
    "        fill_opacity=1.0)).add_to(m)\n",
    "\n",
    "m.add_child(point_layer)\n",
    "m.add_child(folium.LayerControl())  \n",
    "m.save(\"Map1.html\")\n",
    "m"
   ]
  },
  {
   "cell_type": "code",
   "execution_count": null,
   "metadata": {},
   "outputs": [],
   "source": []
  }
 ],
 "metadata": {
  "kernelspec": {
   "display_name": "Python 3",
   "language": "python",
   "name": "python3"
  },
  "language_info": {
   "codemirror_mode": {
    "name": "ipython",
    "version": 3
   },
   "file_extension": ".py",
   "mimetype": "text/x-python",
   "name": "python",
   "nbconvert_exporter": "python",
   "pygments_lexer": "ipython3",
   "version": "3.8.5"
  }
 },
 "nbformat": 4,
 "nbformat_minor": 4
}
