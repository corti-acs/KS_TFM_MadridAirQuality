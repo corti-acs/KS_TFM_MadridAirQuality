{
 "cells": [
  {
   "cell_type": "markdown",
   "metadata": {},
   "source": [
    "## Extract and concatenate monthly files with  weather data\n"
   ]
  },
  {
   "cell_type": "code",
   "execution_count": 1,
   "metadata": {},
   "outputs": [
    {
     "data": {
      "text/plain": [
       "'/Users/cortinas/Documents/TFM/KS_TFM_MadridAirQuality/notebooks'"
      ]
     },
     "execution_count": 1,
     "metadata": {},
     "output_type": "execute_result"
    }
   ],
   "source": [
    "pwd"
   ]
  },
  {
   "cell_type": "code",
   "execution_count": 3,
   "metadata": {},
   "outputs": [],
   "source": [
    "#Libraries used in this module\n",
    "\n",
    "import pandas as pd\n",
    "import glob\n",
    "import os\n",
    "import zipfile"
   ]
  },
  {
   "cell_type": "markdown",
   "metadata": {},
   "source": [
    "Unzipping data files"
   ]
  },
  {
   "cell_type": "code",
   "execution_count": 6,
   "metadata": {},
   "outputs": [],
   "source": [
    "#2019\n",
    "with zipfile.ZipFile(\"../data/raw/Weather/HourlyData/meteo_19.zip\",\"r\") as archivo_zip:\n",
    "    archivo_zip.extractall(\"../data/interim/Weather\" , pwd=None)\n",
    "archivo_zip.close()\n",
    "#2020\n",
    "with zipfile.ZipFile(\"../data/raw/Weather/HourlyData/meteo_20.zip\",\"r\") as archivo_zip:\n",
    "    archivo_zip.extractall(\"../data/interim/Weather\" , pwd=None)\n",
    "archivo_zip.close()\n",
    "#2021\n",
    "with zipfile.ZipFile(\"../data/raw/Weather/HourlyData/meteo_21.zip\",\"r\") as archivo_zip:\n",
    "    archivo_zip.extractall(\"../data/interim/Weather\" , pwd=None)\n",
    "archivo_zip.close()"
   ]
  },
  {
   "cell_type": "markdown",
   "metadata": {},
   "source": [
    "Concatenating all csv files related to air quality parameters"
   ]
  },
  {
   "cell_type": "code",
   "execution_count": 7,
   "metadata": {},
   "outputs": [
    {
     "data": {
      "text/plain": [
       "32"
      ]
     },
     "execution_count": 7,
     "metadata": {},
     "output_type": "execute_result"
    }
   ],
   "source": [
    "all_files = glob.glob(\"../data/interim/Weather/*meteo*.csv\")\n",
    "len(all_files)\n"
   ]
  },
  {
   "cell_type": "code",
   "execution_count": 12,
   "metadata": {},
   "outputs": [],
   "source": [
    "file_list = []\n",
    "for f in all_files:\n",
    "    data = pd.read_csv(f, delimiter = ';')\n",
    "    name = os.path.basename(f)\n",
    "    data['source_file'] = name\n",
    "    file_list.append(data)\n",
    "    \n",
    "weather_df = pd.concat(file_list, ignore_index= True)"
   ]
  },
  {
   "cell_type": "markdown",
   "metadata": {},
   "source": [
    "Checking list of concatenated files"
   ]
  },
  {
   "cell_type": "code",
   "execution_count": 13,
   "metadata": {
    "scrolled": true
   },
   "outputs": [
    {
     "data": {
      "text/plain": [
       "['../data/interim/Weather/may_meteo21.csv',\n",
       " '../data/interim/Weather/may_meteo20.csv',\n",
       " '../data/interim/Weather/jul_meteo20.csv',\n",
       " '../data/interim/Weather/jul_meteo21.csv',\n",
       " '../data/interim/Weather/jul_meteo19.csv',\n",
       " '../data/interim/Weather/may_meteo19.csv',\n",
       " '../data/interim/Weather/ene_meteo20.csv',\n",
       " '../data/interim/Weather/ene_meteo21.csv',\n",
       " '../data/interim/Weather/sep_meteo20.csv',\n",
       " '../data/interim/Weather/sep_meteo19.csv',\n",
       " '../data/interim/Weather/ene_meteo19.csv',\n",
       " '../data/interim/Weather/abr_meteo19.csv',\n",
       " '../data/interim/Weather/ago_meteo20.csv',\n",
       " '../data/interim/Weather/oct_meteo19.csv',\n",
       " '../data/interim/Weather/ago_meteo21.csv',\n",
       " '../data/interim/Weather/ago_meteo19.csv',\n",
       " '../data/interim/Weather/oct_meteo20.csv',\n",
       " '../data/interim/Weather/abr_meteo21.csv',\n",
       " '../data/interim/Weather/abr_meteo20.csv',\n",
       " '../data/interim/Weather/jun_meteo20.csv',\n",
       " '../data/interim/Weather/nov_meteo20.csv',\n",
       " '../data/interim/Weather/feb_meteo20.csv',\n",
       " '../data/interim/Weather/dic_meteo19.csv',\n",
       " '../data/interim/Weather/mar_meteo21.csv',\n",
       " '../data/interim/Weather/mar_meteo20.csv',\n",
       " '../data/interim/Weather/feb_meteo21.csv',\n",
       " '../data/interim/Weather/jun_meteo21.csv',\n",
       " '../data/interim/Weather/jun_meteo19.csv',\n",
       " '../data/interim/Weather/nov_meteo19.csv',\n",
       " '../data/interim/Weather/feb_meteo19.csv',\n",
       " '../data/interim/Weather/dic_meteo20.csv',\n",
       " '../data/interim/Weather/mar_meteo19.csv']"
      ]
     },
     "execution_count": 13,
     "metadata": {},
     "output_type": "execute_result"
    }
   ],
   "source": [
    "all_files"
   ]
  },
  {
   "cell_type": "code",
   "execution_count": 14,
   "metadata": {},
   "outputs": [
    {
     "data": {
      "text/html": [
       "<div>\n",
       "<style scoped>\n",
       "    .dataframe tbody tr th:only-of-type {\n",
       "        vertical-align: middle;\n",
       "    }\n",
       "\n",
       "    .dataframe tbody tr th {\n",
       "        vertical-align: top;\n",
       "    }\n",
       "\n",
       "    .dataframe thead th {\n",
       "        text-align: right;\n",
       "    }\n",
       "</style>\n",
       "<table border=\"1\" class=\"dataframe\">\n",
       "  <thead>\n",
       "    <tr style=\"text-align: right;\">\n",
       "      <th></th>\n",
       "      <th>PROVINCIA</th>\n",
       "      <th>MUNICIPIO</th>\n",
       "      <th>ESTACION</th>\n",
       "      <th>MAGNITUD</th>\n",
       "      <th>PUNTO_MUESTREO</th>\n",
       "      <th>ANO</th>\n",
       "      <th>MES</th>\n",
       "      <th>DIA</th>\n",
       "      <th>H01</th>\n",
       "      <th>V01</th>\n",
       "      <th>...</th>\n",
       "      <th>V20</th>\n",
       "      <th>H21</th>\n",
       "      <th>V21</th>\n",
       "      <th>H22</th>\n",
       "      <th>V22</th>\n",
       "      <th>H23</th>\n",
       "      <th>V23</th>\n",
       "      <th>H24</th>\n",
       "      <th>V24</th>\n",
       "      <th>source_file</th>\n",
       "    </tr>\n",
       "  </thead>\n",
       "  <tbody>\n",
       "    <tr>\n",
       "      <th>0</th>\n",
       "      <td>28</td>\n",
       "      <td>79</td>\n",
       "      <td>102</td>\n",
       "      <td>81</td>\n",
       "      <td>28079102_81_98</td>\n",
       "      <td>2021</td>\n",
       "      <td>5</td>\n",
       "      <td>1</td>\n",
       "      <td>0.97</td>\n",
       "      <td>V</td>\n",
       "      <td>...</td>\n",
       "      <td>V</td>\n",
       "      <td>1.37</td>\n",
       "      <td>V</td>\n",
       "      <td>0.93</td>\n",
       "      <td>V</td>\n",
       "      <td>0.85</td>\n",
       "      <td>V</td>\n",
       "      <td>1.10</td>\n",
       "      <td>V</td>\n",
       "      <td>may_meteo21.csv</td>\n",
       "    </tr>\n",
       "    <tr>\n",
       "      <th>1</th>\n",
       "      <td>28</td>\n",
       "      <td>79</td>\n",
       "      <td>102</td>\n",
       "      <td>81</td>\n",
       "      <td>28079102_81_98</td>\n",
       "      <td>2021</td>\n",
       "      <td>5</td>\n",
       "      <td>2</td>\n",
       "      <td>2.23</td>\n",
       "      <td>V</td>\n",
       "      <td>...</td>\n",
       "      <td>V</td>\n",
       "      <td>1.93</td>\n",
       "      <td>V</td>\n",
       "      <td>2.12</td>\n",
       "      <td>V</td>\n",
       "      <td>1.70</td>\n",
       "      <td>V</td>\n",
       "      <td>2.57</td>\n",
       "      <td>V</td>\n",
       "      <td>may_meteo21.csv</td>\n",
       "    </tr>\n",
       "    <tr>\n",
       "      <th>2</th>\n",
       "      <td>28</td>\n",
       "      <td>79</td>\n",
       "      <td>102</td>\n",
       "      <td>81</td>\n",
       "      <td>28079102_81_98</td>\n",
       "      <td>2021</td>\n",
       "      <td>5</td>\n",
       "      <td>3</td>\n",
       "      <td>2.70</td>\n",
       "      <td>V</td>\n",
       "      <td>...</td>\n",
       "      <td>V</td>\n",
       "      <td>1.27</td>\n",
       "      <td>V</td>\n",
       "      <td>2.60</td>\n",
       "      <td>V</td>\n",
       "      <td>1.92</td>\n",
       "      <td>V</td>\n",
       "      <td>2.75</td>\n",
       "      <td>V</td>\n",
       "      <td>may_meteo21.csv</td>\n",
       "    </tr>\n",
       "    <tr>\n",
       "      <th>3</th>\n",
       "      <td>28</td>\n",
       "      <td>79</td>\n",
       "      <td>102</td>\n",
       "      <td>81</td>\n",
       "      <td>28079102_81_98</td>\n",
       "      <td>2021</td>\n",
       "      <td>5</td>\n",
       "      <td>4</td>\n",
       "      <td>2.25</td>\n",
       "      <td>V</td>\n",
       "      <td>...</td>\n",
       "      <td>V</td>\n",
       "      <td>1.57</td>\n",
       "      <td>V</td>\n",
       "      <td>1.67</td>\n",
       "      <td>V</td>\n",
       "      <td>0.75</td>\n",
       "      <td>V</td>\n",
       "      <td>0.38</td>\n",
       "      <td>V</td>\n",
       "      <td>may_meteo21.csv</td>\n",
       "    </tr>\n",
       "    <tr>\n",
       "      <th>4</th>\n",
       "      <td>28</td>\n",
       "      <td>79</td>\n",
       "      <td>102</td>\n",
       "      <td>81</td>\n",
       "      <td>28079102_81_98</td>\n",
       "      <td>2021</td>\n",
       "      <td>5</td>\n",
       "      <td>5</td>\n",
       "      <td>1.00</td>\n",
       "      <td>V</td>\n",
       "      <td>...</td>\n",
       "      <td>V</td>\n",
       "      <td>1.62</td>\n",
       "      <td>V</td>\n",
       "      <td>1.57</td>\n",
       "      <td>V</td>\n",
       "      <td>1.18</td>\n",
       "      <td>V</td>\n",
       "      <td>0.68</td>\n",
       "      <td>V</td>\n",
       "      <td>may_meteo21.csv</td>\n",
       "    </tr>\n",
       "  </tbody>\n",
       "</table>\n",
       "<p>5 rows × 57 columns</p>\n",
       "</div>"
      ],
      "text/plain": [
       "   PROVINCIA  MUNICIPIO  ESTACION  MAGNITUD  PUNTO_MUESTREO   ANO  MES  DIA  \\\n",
       "0         28         79       102        81  28079102_81_98  2021    5    1   \n",
       "1         28         79       102        81  28079102_81_98  2021    5    2   \n",
       "2         28         79       102        81  28079102_81_98  2021    5    3   \n",
       "3         28         79       102        81  28079102_81_98  2021    5    4   \n",
       "4         28         79       102        81  28079102_81_98  2021    5    5   \n",
       "\n",
       "    H01 V01  ...  V20   H21  V21   H22  V22   H23  V23   H24  V24  \\\n",
       "0  0.97   V  ...    V  1.37    V  0.93    V  0.85    V  1.10    V   \n",
       "1  2.23   V  ...    V  1.93    V  2.12    V  1.70    V  2.57    V   \n",
       "2  2.70   V  ...    V  1.27    V  2.60    V  1.92    V  2.75    V   \n",
       "3  2.25   V  ...    V  1.57    V  1.67    V  0.75    V  0.38    V   \n",
       "4  1.00   V  ...    V  1.62    V  1.57    V  1.18    V  0.68    V   \n",
       "\n",
       "       source_file  \n",
       "0  may_meteo21.csv  \n",
       "1  may_meteo21.csv  \n",
       "2  may_meteo21.csv  \n",
       "3  may_meteo21.csv  \n",
       "4  may_meteo21.csv  \n",
       "\n",
       "[5 rows x 57 columns]"
      ]
     },
     "execution_count": 14,
     "metadata": {},
     "output_type": "execute_result"
    }
   ],
   "source": [
    "weather_df.head()\n",
    "\n"
   ]
  },
  {
   "cell_type": "code",
   "execution_count": 15,
   "metadata": {},
   "outputs": [],
   "source": [
    "# Creation of reference AirQuality csv only with interested magnitud to be used in the study (NO2)\n",
    "\n",
    "weather_df.to_csv(\"../data/interim/Weather/ref_weather.csv\")"
   ]
  },
  {
   "cell_type": "code",
   "execution_count": 16,
   "metadata": {},
   "outputs": [],
   "source": [
    "# Removal of temporal files not useful anymore, keeping original sources in raw folder\n",
    "\n",
    "text_files = glob.glob(\"../data/interim/Weather/*.txt\")\n",
    "xml_files = glob.glob(\"../data/interim/Weather/*.xml\")\n",
    "nv_csv_files = glob.glob(\"../data/interim/Weather/*meteo*.csv\")\n",
    "\n",
    "for text_file in text_files:\n",
    "        os.remove(text_file)\n",
    "\n",
    "for xml_file in xml_files:\n",
    "        os.remove(xml_file)\n",
    "        \n",
    "for nv_csv_file in nv_csv_files:\n",
    "        os.remove(nv_csv_file)"
   ]
  },
  {
   "cell_type": "code",
   "execution_count": null,
   "metadata": {},
   "outputs": [],
   "source": []
  }
 ],
 "metadata": {
  "kernelspec": {
   "display_name": "Python 3",
   "language": "python",
   "name": "python3"
  },
  "language_info": {
   "codemirror_mode": {
    "name": "ipython",
    "version": 3
   },
   "file_extension": ".py",
   "mimetype": "text/x-python",
   "name": "python",
   "nbconvert_exporter": "python",
   "pygments_lexer": "ipython3",
   "version": "3.8.5"
  }
 },
 "nbformat": 4,
 "nbformat_minor": 4
}
