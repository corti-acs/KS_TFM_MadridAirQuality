{
 "cells": [
  {
   "cell_type": "markdown",
   "metadata": {},
   "source": [
    "## Extract and concatenate monthly files with  Air Quality data"
   ]
  },
  {
   "cell_type": "code",
   "execution_count": 3,
   "metadata": {},
   "outputs": [
    {
     "data": {
      "text/plain": [
       "'/Users/cortinas/Documents/TFM/KS_TFM_MadridAirQuality/notebooks'"
      ]
     },
     "execution_count": 3,
     "metadata": {},
     "output_type": "execute_result"
    }
   ],
   "source": [
    "pwd"
   ]
  },
  {
   "cell_type": "code",
   "execution_count": 4,
   "metadata": {},
   "outputs": [],
   "source": [
    "#Libraries used in this module\n",
    "\n",
    "import pandas as pd\n",
    "import glob\n",
    "import os\n",
    "import zipfile"
   ]
  },
  {
   "cell_type": "markdown",
   "metadata": {},
   "source": [
    "Unzipping data files"
   ]
  },
  {
   "cell_type": "code",
   "execution_count": 5,
   "metadata": {},
   "outputs": [],
   "source": [
    "#2019\n",
    "with zipfile.ZipFile(\"../data/raw/AirQuality/Hourly/Anio201912.zip\",\"r\") as archivo_zip:\n",
    "    archivo_zip.extractall(\"../data/interim/AirQuality\" , pwd=None)\n",
    "archivo_zip.close()\n",
    "#2020\n",
    "with zipfile.ZipFile(\"../data/raw/AirQuality/Hourly/Anio202012.zip\",\"r\") as archivo_zip:\n",
    "    archivo_zip.extractall(\"../data/interim/AirQuality\" , pwd=None)\n",
    "archivo_zip.close()\n",
    "#2021\n",
    "with zipfile.ZipFile(\"../data/raw/AirQuality/Hourly/Anio202108.zip\",\"r\") as archivo_zip:\n",
    "    archivo_zip.extractall(\"../data/interim/AirQuality\" , pwd=None)\n",
    "archivo_zip.close()"
   ]
  },
  {
   "cell_type": "markdown",
   "metadata": {},
   "source": [
    "Concatenating all csv files related to air quality parameters"
   ]
  },
  {
   "cell_type": "code",
   "execution_count": 6,
   "metadata": {},
   "outputs": [
    {
     "data": {
      "text/plain": [
       "32"
      ]
     },
     "execution_count": 6,
     "metadata": {},
     "output_type": "execute_result"
    }
   ],
   "source": [
    "all_files = glob.glob(\"../data/interim/AirQuality/*mo*.csv\")\n",
    "len(all_files)\n"
   ]
  },
  {
   "cell_type": "code",
   "execution_count": 7,
   "metadata": {},
   "outputs": [],
   "source": [
    "file_list = []\n",
    "for f in all_files:\n",
    "    data = pd.read_csv(f, delimiter = ';')\n",
    "    name = os.path.basename(f)\n",
    "    data['source_file'] = name\n",
    "    file_list.append(data)\n",
    "    \n",
    "air_quality_df = pd.concat(file_list, ignore_index= True)"
   ]
  },
  {
   "cell_type": "markdown",
   "metadata": {},
   "source": [
    "Checking list of concatenated files"
   ]
  },
  {
   "cell_type": "code",
   "execution_count": 8,
   "metadata": {
    "scrolled": true
   },
   "outputs": [
    {
     "data": {
      "text/plain": [
       "['../data/interim/AirQuality/abr_mo19.csv',\n",
       " '../data/interim/AirQuality/abr_mo20.csv',\n",
       " '../data/interim/AirQuality/abr_mo21.csv',\n",
       " '../data/interim/AirQuality/jul_mo20.csv',\n",
       " '../data/interim/AirQuality/mar_mo21.csv',\n",
       " '../data/interim/AirQuality/mar_mo20.csv',\n",
       " '../data/interim/AirQuality/jul_mo21.csv',\n",
       " '../data/interim/AirQuality/may_mo21.csv',\n",
       " '../data/interim/AirQuality/sep_mo20.csv',\n",
       " '../data/interim/AirQuality/ago_mo21.csv',\n",
       " '../data/interim/AirQuality/ago_mo20.csv',\n",
       " '../data/interim/AirQuality/ene_mo19.csv',\n",
       " '../data/interim/AirQuality/may_mo20.csv',\n",
       " '../data/interim/AirQuality/ene_mo21.csv',\n",
       " '../data/interim/AirQuality/sep_mo19.csv',\n",
       " '../data/interim/AirQuality/ago_mo19.csv',\n",
       " '../data/interim/AirQuality/ene_mo20.csv',\n",
       " '../data/interim/AirQuality/may_mo19.csv',\n",
       " '../data/interim/AirQuality/jul_mo19.csv',\n",
       " '../data/interim/AirQuality/mar_mo19.csv',\n",
       " '../data/interim/AirQuality/nov_mo19.csv',\n",
       " '../data/interim/AirQuality/nov_mo20.csv',\n",
       " '../data/interim/AirQuality/jun_mo19.csv',\n",
       " '../data/interim/AirQuality/dic_mo20.csv',\n",
       " '../data/interim/AirQuality/feb_mo21.csv',\n",
       " '../data/interim/AirQuality/feb_mo20.csv',\n",
       " '../data/interim/AirQuality/oct_mo19.csv',\n",
       " '../data/interim/AirQuality/feb_mo19.csv',\n",
       " '../data/interim/AirQuality/oct_mo20.csv',\n",
       " '../data/interim/AirQuality/jun_mo20.csv',\n",
       " '../data/interim/AirQuality/dic_mo19.csv',\n",
       " '../data/interim/AirQuality/jun_mo21.csv']"
      ]
     },
     "execution_count": 8,
     "metadata": {},
     "output_type": "execute_result"
    }
   ],
   "source": [
    "all_files"
   ]
  },
  {
   "cell_type": "code",
   "execution_count": 9,
   "metadata": {},
   "outputs": [
    {
     "data": {
      "text/html": [
       "<div>\n",
       "<style scoped>\n",
       "    .dataframe tbody tr th:only-of-type {\n",
       "        vertical-align: middle;\n",
       "    }\n",
       "\n",
       "    .dataframe tbody tr th {\n",
       "        vertical-align: top;\n",
       "    }\n",
       "\n",
       "    .dataframe thead th {\n",
       "        text-align: right;\n",
       "    }\n",
       "</style>\n",
       "<table border=\"1\" class=\"dataframe\">\n",
       "  <thead>\n",
       "    <tr style=\"text-align: right;\">\n",
       "      <th></th>\n",
       "      <th>PROVINCIA</th>\n",
       "      <th>MUNICIPIO</th>\n",
       "      <th>ESTACION</th>\n",
       "      <th>MAGNITUD</th>\n",
       "      <th>PUNTO_MUESTREO</th>\n",
       "      <th>ANO</th>\n",
       "      <th>MES</th>\n",
       "      <th>DIA</th>\n",
       "      <th>H01</th>\n",
       "      <th>V01</th>\n",
       "      <th>...</th>\n",
       "      <th>V20</th>\n",
       "      <th>H21</th>\n",
       "      <th>V21</th>\n",
       "      <th>H22</th>\n",
       "      <th>V22</th>\n",
       "      <th>H23</th>\n",
       "      <th>V23</th>\n",
       "      <th>H24</th>\n",
       "      <th>V24</th>\n",
       "      <th>source_file</th>\n",
       "    </tr>\n",
       "  </thead>\n",
       "  <tbody>\n",
       "    <tr>\n",
       "      <th>0</th>\n",
       "      <td>28</td>\n",
       "      <td>79</td>\n",
       "      <td>4</td>\n",
       "      <td>1</td>\n",
       "      <td>28079004_1_38</td>\n",
       "      <td>2019</td>\n",
       "      <td>4</td>\n",
       "      <td>1</td>\n",
       "      <td>4.0</td>\n",
       "      <td>V</td>\n",
       "      <td>...</td>\n",
       "      <td>V</td>\n",
       "      <td>2.0</td>\n",
       "      <td>V</td>\n",
       "      <td>4.0</td>\n",
       "      <td>V</td>\n",
       "      <td>4.0</td>\n",
       "      <td>V</td>\n",
       "      <td>4.0</td>\n",
       "      <td>V</td>\n",
       "      <td>abr_mo19.csv</td>\n",
       "    </tr>\n",
       "    <tr>\n",
       "      <th>1</th>\n",
       "      <td>28</td>\n",
       "      <td>79</td>\n",
       "      <td>4</td>\n",
       "      <td>1</td>\n",
       "      <td>28079004_1_38</td>\n",
       "      <td>2019</td>\n",
       "      <td>4</td>\n",
       "      <td>2</td>\n",
       "      <td>3.0</td>\n",
       "      <td>V</td>\n",
       "      <td>...</td>\n",
       "      <td>V</td>\n",
       "      <td>4.0</td>\n",
       "      <td>V</td>\n",
       "      <td>4.0</td>\n",
       "      <td>V</td>\n",
       "      <td>4.0</td>\n",
       "      <td>V</td>\n",
       "      <td>4.0</td>\n",
       "      <td>V</td>\n",
       "      <td>abr_mo19.csv</td>\n",
       "    </tr>\n",
       "    <tr>\n",
       "      <th>2</th>\n",
       "      <td>28</td>\n",
       "      <td>79</td>\n",
       "      <td>4</td>\n",
       "      <td>1</td>\n",
       "      <td>28079004_1_38</td>\n",
       "      <td>2019</td>\n",
       "      <td>4</td>\n",
       "      <td>3</td>\n",
       "      <td>3.0</td>\n",
       "      <td>V</td>\n",
       "      <td>...</td>\n",
       "      <td>V</td>\n",
       "      <td>5.0</td>\n",
       "      <td>V</td>\n",
       "      <td>5.0</td>\n",
       "      <td>V</td>\n",
       "      <td>5.0</td>\n",
       "      <td>V</td>\n",
       "      <td>4.0</td>\n",
       "      <td>V</td>\n",
       "      <td>abr_mo19.csv</td>\n",
       "    </tr>\n",
       "    <tr>\n",
       "      <th>3</th>\n",
       "      <td>28</td>\n",
       "      <td>79</td>\n",
       "      <td>4</td>\n",
       "      <td>1</td>\n",
       "      <td>28079004_1_38</td>\n",
       "      <td>2019</td>\n",
       "      <td>4</td>\n",
       "      <td>4</td>\n",
       "      <td>4.0</td>\n",
       "      <td>V</td>\n",
       "      <td>...</td>\n",
       "      <td>V</td>\n",
       "      <td>4.0</td>\n",
       "      <td>V</td>\n",
       "      <td>4.0</td>\n",
       "      <td>V</td>\n",
       "      <td>3.0</td>\n",
       "      <td>V</td>\n",
       "      <td>4.0</td>\n",
       "      <td>V</td>\n",
       "      <td>abr_mo19.csv</td>\n",
       "    </tr>\n",
       "    <tr>\n",
       "      <th>4</th>\n",
       "      <td>28</td>\n",
       "      <td>79</td>\n",
       "      <td>4</td>\n",
       "      <td>1</td>\n",
       "      <td>28079004_1_38</td>\n",
       "      <td>2019</td>\n",
       "      <td>4</td>\n",
       "      <td>5</td>\n",
       "      <td>4.0</td>\n",
       "      <td>V</td>\n",
       "      <td>...</td>\n",
       "      <td>V</td>\n",
       "      <td>2.0</td>\n",
       "      <td>V</td>\n",
       "      <td>2.0</td>\n",
       "      <td>V</td>\n",
       "      <td>1.0</td>\n",
       "      <td>V</td>\n",
       "      <td>1.0</td>\n",
       "      <td>V</td>\n",
       "      <td>abr_mo19.csv</td>\n",
       "    </tr>\n",
       "  </tbody>\n",
       "</table>\n",
       "<p>5 rows × 57 columns</p>\n",
       "</div>"
      ],
      "text/plain": [
       "   PROVINCIA  MUNICIPIO  ESTACION  MAGNITUD PUNTO_MUESTREO   ANO  MES  DIA  \\\n",
       "0         28         79         4         1  28079004_1_38  2019    4    1   \n",
       "1         28         79         4         1  28079004_1_38  2019    4    2   \n",
       "2         28         79         4         1  28079004_1_38  2019    4    3   \n",
       "3         28         79         4         1  28079004_1_38  2019    4    4   \n",
       "4         28         79         4         1  28079004_1_38  2019    4    5   \n",
       "\n",
       "   H01 V01  ...  V20  H21  V21  H22  V22  H23  V23  H24  V24   source_file  \n",
       "0  4.0   V  ...    V  2.0    V  4.0    V  4.0    V  4.0    V  abr_mo19.csv  \n",
       "1  3.0   V  ...    V  4.0    V  4.0    V  4.0    V  4.0    V  abr_mo19.csv  \n",
       "2  3.0   V  ...    V  5.0    V  5.0    V  5.0    V  4.0    V  abr_mo19.csv  \n",
       "3  4.0   V  ...    V  4.0    V  4.0    V  3.0    V  4.0    V  abr_mo19.csv  \n",
       "4  4.0   V  ...    V  2.0    V  2.0    V  1.0    V  1.0    V  abr_mo19.csv  \n",
       "\n",
       "[5 rows x 57 columns]"
      ]
     },
     "execution_count": 9,
     "metadata": {},
     "output_type": "execute_result"
    }
   ],
   "source": [
    "air_quality_df.head()\n",
    "\n"
   ]
  },
  {
   "cell_type": "code",
   "execution_count": 10,
   "metadata": {},
   "outputs": [],
   "source": [
    "# Creation of reference AirQuality csv only with interested magnitud to be used in the study (NO2)\n",
    "\n",
    "air_quality_df.to_csv(\"../data/interim/AirQuality/ref_air_quality.csv\")"
   ]
  },
  {
   "cell_type": "code",
   "execution_count": 11,
   "metadata": {},
   "outputs": [],
   "source": [
    "# Removal of temporal files not useful anymore, keeping original sources in raw folder\n",
    "\n",
    "text_files = glob.glob(\"../data/interim/AirQuality/*.txt\")\n",
    "xml_files = glob.glob(\"../data/interim/AirQuality/*.xml\")\n",
    "nv_csv_files = glob.glob(\"../data/interim/AirQuality/*mo*.csv\")\n",
    "\n",
    "for text_file in text_files:\n",
    "        os.remove(text_file)\n",
    "\n",
    "for xml_file in xml_files:\n",
    "        os.remove(xml_file)\n",
    "        \n",
    "for nv_csv_file in nv_csv_files:\n",
    "        os.remove(nv_csv_file)"
   ]
  },
  {
   "cell_type": "code",
   "execution_count": null,
   "metadata": {},
   "outputs": [],
   "source": []
  }
 ],
 "metadata": {
  "kernelspec": {
   "display_name": "Python 3",
   "language": "python",
   "name": "python3"
  },
  "language_info": {
   "codemirror_mode": {
    "name": "ipython",
    "version": 3
   },
   "file_extension": ".py",
   "mimetype": "text/x-python",
   "name": "python",
   "nbconvert_exporter": "python",
   "pygments_lexer": "ipython3",
   "version": "3.8.5"
  }
 },
 "nbformat": 4,
 "nbformat_minor": 4
}
