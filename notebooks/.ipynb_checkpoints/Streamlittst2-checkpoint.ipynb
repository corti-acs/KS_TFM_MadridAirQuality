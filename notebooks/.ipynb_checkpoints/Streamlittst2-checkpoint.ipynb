{
 "cells": [
  {
   "cell_type": "code",
   "execution_count": 8,
   "metadata": {},
   "outputs": [
    {
     "data": {
      "text/plain": [
       "DeltaGenerator(_root_container=0, _provided_cursor=None, _parent=None, _block_type=None, _form_data=None)"
      ]
     },
     "execution_count": 8,
     "metadata": {},
     "output_type": "execute_result"
    }
   ],
   "source": [
    "\n",
    "import streamlit as st\n",
    "import streamlit.components.v1 as components\n",
    "from PIL import Image\n",
    " \n",
    "st.title('MADRID AIR POLLUTION PREDICTION')\n",
    "#st.subheader(\"SubCabecero\")\n",
    "#st.text(\"Esto es texto\")\n",
    "#st.latex(\"y = x^2\")\n",
    "#st.code(\"if a == 1:\\n    print(a)\", language=\"python\")\n",
    "#st.code(\"var a = 1;\", language=\"javascript\")\n",
    "#st.markdown(\"Esto es **texto** usando *Markdown*\")\n",
    "\n",
    "\n",
    "#showing folium map html\n",
    "#st.header(\"Overview of all Air Station in Madrid\")\n",
    "#HtmlFile = open(\"MadridMap.html\", 'r', encoding='utf-8')\n",
    "#source_code = HtmlFile.read() \n",
    "#components.html(source_code,height = 600)\n",
    "\n",
    "\n",
    "#st.set_page_config(layout=\"wide\")\n",
    "\n",
    "col1, col2 = st.columns(2)\n",
    "\n",
    "#showing folium map html\n",
    "HtmlFile = open(\"MadridMap.html\", 'r', encoding='utf-8')\n",
    "source_code = HtmlFile.read() \n",
    "col1.header(\"Overview of all Air Station in Madrid\")\n",
    "components.html(source_code,height = 400)\n",
    "\n",
    "\n",
    "\n",
    "\n",
    "original = Image.open(\"BoxPlot.png\")\n",
    "col2.header(\"Today Real time measurement per station\")\n",
    "col2.image(original, use_column_width=True)"
   ]
  },
  {
   "cell_type": "code",
   "execution_count": null,
   "metadata": {},
   "outputs": [],
   "source": []
  }
 ],
 "metadata": {
  "kernelspec": {
   "display_name": "Python 3",
   "language": "python",
   "name": "python3"
  },
  "language_info": {
   "codemirror_mode": {
    "name": "ipython",
    "version": 3
   },
   "file_extension": ".py",
   "mimetype": "text/x-python",
   "name": "python",
   "nbconvert_exporter": "python",
   "pygments_lexer": "ipython3",
   "version": "3.8.5"
  }
 },
 "nbformat": 4,
 "nbformat_minor": 4
}
