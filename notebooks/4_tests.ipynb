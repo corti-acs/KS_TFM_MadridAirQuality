{
 "cells": [
  {
   "cell_type": "markdown",
   "metadata": {},
   "source": [
    "# FORECASTING WITH SARIMA MODEL\n",
    "\n",
    "https://medium.com/geekculture/time-series-analysis-using-arima-model-with-python-afe4b41bbec8"
   ]
  },
  {
   "cell_type": "markdown",
   "metadata": {},
   "source": [
    "\n",
    "\n",
    "The problem with plain ARIMA model is it does not support seasonality.\n",
    "In this hourly average dataset we could see seasonality pattern, therefore, we proceed with SARIMA model which uses seasonal differencing. Seasonal differencing is just similar to regular differencing, but, instead of subtracting successive terms, we subtract the value from previous season.\n",
    "\n",
    "ARIMA model includes three main parameters as p, d and q.\n",
    "\n",
    "p: The order of the autoregressive model.\n",
    "\n",
    "q: The order of the moving average model.\n",
    "\n",
    "d: The number of differences required to make the time series stationary.\n",
    "\n",
    "The SARIMA model builds upon the ARIMA model. It also includes the p, q, and d parameters, but also an extra set of parameters to account for time series seasonality.\n",
    "\n",
    "P: The order of the seasonal autoregressive model.\n",
    "\n",
    "Q: The order of the seasonal moving average model.\n",
    "\n",
    "D: The number of seasonal differences applied to the time series.\n",
    "\n",
    "Therefore we can denote the notation of the SARIMA model as SARIMA(p,d,q)(P,D,Q,s). Here s denotes the seasonality of the year."
   ]
  },
  {
   "cell_type": "code",
   "execution_count": 1,
   "metadata": {},
   "outputs": [],
   "source": [
    "#General libraries\n",
    "##################\n",
    "\n",
    "import pandas as pd\n",
    "import numpy as np\n",
    "from numpy import mean\n",
    "\n",
    "\n",
    "#Plotting libraries\n",
    "##################\n",
    "\n",
    "import matplotlib as mpl\n",
    "from matplotlib import pyplot as plt\n",
    "import seaborn as sbn\n",
    "from pandas.plotting import autocorrelation_plot\n",
    "from pandas import Series\n",
    "%matplotlib inline\n",
    "plt.rcParams['figure.figsize'] = (20.0, 10.0)\n",
    "plt.rcParams.update({'font.size': 12})\n",
    "plt.style.use('ggplot')\n",
    "\n",
    "#Libraries/functions for General Modelling, metrics, etc..\n",
    "###############################################\n",
    "\n",
    "\n",
    "from sklearn.metrics import mean_squared_error, mean_absolute_error\n",
    "from sklearn.metrics import accuracy_score\n",
    "#from sklearn.preprocessing import StandardScaler\n",
    "#from sklearn.preprocessing import MinMaxScaler\n",
    "\n",
    "#Libraries/functions for Modelling ARIMA\n",
    "#######################################\n",
    "\n",
    "from statsmodels.tsa.arima.model import ARIMA\n",
    "from statsmodels.tsa.arima.model import ARIMAResults\n",
    "from statsmodels.tsa.vector_ar.var_model import VAR\n",
    "from statsmodels.tsa.stattools import grangercausalitytests\n",
    "from statsmodels.tsa.stattools import adfuller\n",
    "from statsmodels.tsa.seasonal import seasonal_decompose\n",
    "from statsmodels.tsa.arima_model import ARIMA\n",
    "from statsmodels.tsa.arima_model import ARIMAResults\n",
    "import statsmodels.api as sm\n",
    "\n",
    "\n",
    "#Other Support Libraries/functions\n",
    "#################################\n",
    "\n",
    "import warnings\n",
    "import itertools\n",
    "import datetime\n",
    "from math import sqrt\n",
    "\n",
    "warnings.filterwarnings(\"ignore\")"
   ]
  },
  {
   "cell_type": "code",
   "execution_count": 25,
   "metadata": {
    "scrolled": true
   },
   "outputs": [
    {
     "data": {
      "text/html": [
       "<div>\n",
       "<style scoped>\n",
       "    .dataframe tbody tr th:only-of-type {\n",
       "        vertical-align: middle;\n",
       "    }\n",
       "\n",
       "    .dataframe tbody tr th {\n",
       "        vertical-align: top;\n",
       "    }\n",
       "\n",
       "    .dataframe thead th {\n",
       "        text-align: right;\n",
       "    }\n",
       "</style>\n",
       "<table border=\"1\" class=\"dataframe\">\n",
       "  <thead>\n",
       "    <tr style=\"text-align: right;\">\n",
       "      <th></th>\n",
       "      <th>NO2_index</th>\n",
       "    </tr>\n",
       "    <tr>\n",
       "      <th>TIME</th>\n",
       "      <th></th>\n",
       "    </tr>\n",
       "  </thead>\n",
       "  <tbody>\n",
       "    <tr>\n",
       "      <th>2021-08-31 19:59:59</th>\n",
       "      <td>12.0</td>\n",
       "    </tr>\n",
       "    <tr>\n",
       "      <th>2021-08-31 20:59:59</th>\n",
       "      <td>16.0</td>\n",
       "    </tr>\n",
       "    <tr>\n",
       "      <th>2021-08-31 21:59:59</th>\n",
       "      <td>59.0</td>\n",
       "    </tr>\n",
       "    <tr>\n",
       "      <th>2021-08-31 22:59:59</th>\n",
       "      <td>11.0</td>\n",
       "    </tr>\n",
       "    <tr>\n",
       "      <th>2021-08-31 23:59:59</th>\n",
       "      <td>8.0</td>\n",
       "    </tr>\n",
       "  </tbody>\n",
       "</table>\n",
       "</div>"
      ],
      "text/plain": [
       "                     NO2_index\n",
       "TIME                          \n",
       "2021-08-31 19:59:59       12.0\n",
       "2021-08-31 20:59:59       16.0\n",
       "2021-08-31 21:59:59       59.0\n",
       "2021-08-31 22:59:59       11.0\n",
       "2021-08-31 23:59:59        8.0"
      ]
     },
     "execution_count": 25,
     "metadata": {},
     "output_type": "execute_result"
    }
   ],
   "source": [
    "#Opening dataframe with AirStation 16 data\n",
    "########################################\n",
    "\n",
    "poc_16 = pd.read_csv (\"../data/processed/poc_16.csv\", sep= ',')\n",
    "poc_16.index = poc_16.TIME\n",
    "poc_16 = poc_16[[\"NO2_index\"]]\n",
    "poc_16.tail()"
   ]
  },
  {
   "cell_type": "code",
   "execution_count": 26,
   "metadata": {},
   "outputs": [
    {
     "data": {
      "text/html": [
       "<div>\n",
       "<style scoped>\n",
       "    .dataframe tbody tr th:only-of-type {\n",
       "        vertical-align: middle;\n",
       "    }\n",
       "\n",
       "    .dataframe tbody tr th {\n",
       "        vertical-align: top;\n",
       "    }\n",
       "\n",
       "    .dataframe thead th {\n",
       "        text-align: right;\n",
       "    }\n",
       "</style>\n",
       "<table border=\"1\" class=\"dataframe\">\n",
       "  <thead>\n",
       "    <tr style=\"text-align: right;\">\n",
       "      <th></th>\n",
       "      <th>NO2_index</th>\n",
       "    </tr>\n",
       "    <tr>\n",
       "      <th>TIME</th>\n",
       "      <th></th>\n",
       "    </tr>\n",
       "  </thead>\n",
       "  <tbody>\n",
       "    <tr>\n",
       "      <th>2019-01-01 00:59:59</th>\n",
       "      <td>53.0</td>\n",
       "    </tr>\n",
       "    <tr>\n",
       "      <th>2019-01-01 01:59:59</th>\n",
       "      <td>44.0</td>\n",
       "    </tr>\n",
       "    <tr>\n",
       "      <th>2019-01-01 02:59:59</th>\n",
       "      <td>54.0</td>\n",
       "    </tr>\n",
       "    <tr>\n",
       "      <th>2019-01-01 03:59:59</th>\n",
       "      <td>43.0</td>\n",
       "    </tr>\n",
       "    <tr>\n",
       "      <th>2019-01-01 04:59:59</th>\n",
       "      <td>42.0</td>\n",
       "    </tr>\n",
       "    <tr>\n",
       "      <th>...</th>\n",
       "      <td>...</td>\n",
       "    </tr>\n",
       "    <tr>\n",
       "      <th>2021-08-31 19:59:59</th>\n",
       "      <td>12.0</td>\n",
       "    </tr>\n",
       "    <tr>\n",
       "      <th>2021-08-31 20:59:59</th>\n",
       "      <td>16.0</td>\n",
       "    </tr>\n",
       "    <tr>\n",
       "      <th>2021-08-31 21:59:59</th>\n",
       "      <td>59.0</td>\n",
       "    </tr>\n",
       "    <tr>\n",
       "      <th>2021-08-31 22:59:59</th>\n",
       "      <td>11.0</td>\n",
       "    </tr>\n",
       "    <tr>\n",
       "      <th>2021-08-31 23:59:59</th>\n",
       "      <td>8.0</td>\n",
       "    </tr>\n",
       "  </tbody>\n",
       "</table>\n",
       "<p>23376 rows × 1 columns</p>\n",
       "</div>"
      ],
      "text/plain": [
       "                     NO2_index\n",
       "TIME                          \n",
       "2019-01-01 00:59:59       53.0\n",
       "2019-01-01 01:59:59       44.0\n",
       "2019-01-01 02:59:59       54.0\n",
       "2019-01-01 03:59:59       43.0\n",
       "2019-01-01 04:59:59       42.0\n",
       "...                        ...\n",
       "2021-08-31 19:59:59       12.0\n",
       "2021-08-31 20:59:59       16.0\n",
       "2021-08-31 21:59:59       59.0\n",
       "2021-08-31 22:59:59       11.0\n",
       "2021-08-31 23:59:59        8.0\n",
       "\n",
       "[23376 rows x 1 columns]"
      ]
     },
     "execution_count": 26,
     "metadata": {},
     "output_type": "execute_result"
    }
   ],
   "source": [
    "poc_16"
   ]
  },
  {
   "cell_type": "code",
   "execution_count": 27,
   "metadata": {},
   "outputs": [
    {
     "data": {
      "image/png": "[encoded data removed]",
      "text/plain": [
       "<Figure size 1584x720 with 1 Axes>"
      ]
     },
     "metadata": {},
     "output_type": "display_data"
    },
    {
     "name": "stdout",
     "output_type": "stream",
     "text": [
      "count    23376.000000\n",
      "mean        28.315495\n",
      "std         25.121162\n",
      "min          0.000000\n",
      "25%         11.000000\n",
      "50%         20.000000\n",
      "75%         38.000000\n",
      "max        326.000000\n",
      "dtype: float64\n"
     ]
    }
   ],
   "source": [
    "#plotting the data\n",
    "##################\n",
    "\n",
    "series = Series(poc_16[\"NO2_index\"].values,index=poc_16.index)\n",
    "series.plot(figsize=(22,10))\n",
    "plt.title('NO2 index from AirStation 16')\n",
    "plt.ylabel(\"$NO_2 (µg/m^3)$\", fontsize=12)\n",
    "plt.show()\n",
    "print(series.describe());"
   ]
  },
  {
   "cell_type": "markdown",
   "metadata": {},
   "source": [
    "**Test Dickey-Fuller**\n",
    "\n",
    "To identify the nature of data, we will be using the null hypothesis.\n",
    "\n",
    "H0: The null hypothesis: It is a statement about the population that either is believed to be true or is used to put forth an argument unless it can be shown to be incorrect beyond a reasonable doubt.\n",
    "\n",
    "H1: The alternative hypothesis: It is a claim about the population that is contradictory to H0 and what we conclude when we reject H0.\n",
    "\n",
    "H0: It is non-stationary\n",
    "\n",
    "H1: It is stationary\n",
    "\n",
    "We will be considering the null hypothesis that data is not stationary and the alternate hypothesis that data is stationary."
   ]
  },
  {
   "cell_type": "code",
   "execution_count": 28,
   "metadata": {},
   "outputs": [
    {
     "name": "stdout",
     "output_type": "stream",
     "text": [
      "Strong evidence against the null hypothesis(HO), reject the null hypothesis. Data is stationary\n",
      "ADF Test Statistic : -9.656699472912415\n",
      "p-value : 1.3879931518790027e-16\n",
      "#Lags Used : 47\n",
      "Number of Observations : 23328\n"
     ]
    }
   ],
   "source": [
    "# Test Dickey-Fuller\n",
    "####################\n",
    "\n",
    "result=adfuller(poc_16['NO2_index'])\n",
    "\n",
    "def adfuller_test(NO2_index):\n",
    "    result = adfuller(NO2_index)\n",
    "    labels = ['ADF Test Statistic','p-value','#Lags Used','Number of Observations']\n",
    "    for value,label in zip(result,labels):\n",
    "        print(label+' : '+str(value) )\n",
    "\n",
    "if result[1] <= 0.05:\n",
    "    print(\"Strong evidence against the null hypothesis(HO), reject the null hypothesis. Data is stationary\")\n",
    "else:\n",
    "    print(\"Weak evidence against null hypothesis. Data is non-stationary \")\n",
    "\n",
    "adfuller_test(poc_16['NO2_index'])"
   ]
  },
  {
   "cell_type": "markdown",
   "metadata": {},
   "source": [
    "**How we select suitable parameter combination to fit to SARIMA model ?**\n",
    "\n",
    "Selecting the best ARIMA model configuration is usually an iterative process. For that, we can use a “grid search” to iteratively explore different combinations of parameters.\n",
    "\n",
    "For each combination of parameters, we fit a new seasonal SARIMA model with the SARIMAX() function from the statsmodels module and calculate the AIC (Akaike information criterion). \n",
    "The Akaike Information Critera (AIC) is a widely used measure of a statistical model. It basically quantifies the goodness of fit, and the simplicity/parsimony, of the model into a single statistic.\n",
    "AIC is used to measure the relative quality of the statsmodels."
   ]
  },
  {
   "cell_type": "code",
   "execution_count": null,
   "metadata": {},
   "outputs": [],
   "source": []
  },
  {
   "cell_type": "code",
   "execution_count": null,
   "metadata": {},
   "outputs": [],
   "source": []
  },
  {
   "cell_type": "code",
   "execution_count": null,
   "metadata": {},
   "outputs": [],
   "source": []
  },
  {
   "cell_type": "code",
   "execution_count": null,
   "metadata": {},
   "outputs": [],
   "source": []
  },
  {
   "cell_type": "code",
   "execution_count": 31,
   "metadata": {
    "scrolled": true
   },
   "outputs": [
    {
     "data": {
      "image/png": "[encoded data removed]",
      "text/plain": [
       "<Figure size 864x576 with 1 Axes>"
      ]
     },
     "metadata": {},
     "output_type": "display_data"
    }
   ],
   "source": [
    "#Plotting autocorrelation charts to get info about parameters to use\n",
    "####################################################################\n",
    "\n",
    "fig = plt.figure(figsize=(12,8))\n",
    "ax1 = fig.add_subplot(211)\n",
    "fig = sm.graphics.tsa.plot_acf(poc_16.iloc[13:], lags=50, ax=ax1)"
   ]
  },
  {
   "cell_type": "code",
   "execution_count": null,
   "metadata": {},
   "outputs": [],
   "source": []
  },
  {
   "cell_type": "code",
   "execution_count": null,
   "metadata": {},
   "outputs": [],
   "source": []
  },
  {
   "cell_type": "code",
   "execution_count": null,
   "metadata": {},
   "outputs": [],
   "source": []
  },
  {
   "cell_type": "code",
   "execution_count": null,
   "metadata": {},
   "outputs": [],
   "source": []
  },
  {
   "cell_type": "code",
   "execution_count": null,
   "metadata": {},
   "outputs": [],
   "source": []
  },
  {
   "cell_type": "code",
   "execution_count": null,
   "metadata": {},
   "outputs": [],
   "source": []
  },
  {
   "cell_type": "code",
   "execution_count": null,
   "metadata": {},
   "outputs": [],
   "source": []
  },
  {
   "cell_type": "code",
   "execution_count": null,
   "metadata": {},
   "outputs": [],
   "source": []
  },
  {
   "cell_type": "code",
   "execution_count": null,
   "metadata": {},
   "outputs": [],
   "source": []
  },
  {
   "cell_type": "code",
   "execution_count": 29,
   "metadata": {},
   "outputs": [
    {
     "name": "stdout",
     "output_type": "stream",
     "text": [
      "Examples of parameter combinations for Seasonal ARIMA...\n",
      "SARIMAX: (0, 0, 1) x (0, 0, 1, 24)\n",
      "SARIMAX: (0, 0, 1) x (0, 1, 0, 24)\n",
      "SARIMAX: (0, 1, 0) x (0, 1, 1, 24)\n",
      "SARIMAX: (0, 1, 0) x (1, 0, 0, 24)\n"
     ]
    }
   ],
   "source": [
    "# Define the d and q parameters to take any value between 0 and 1\n",
    "#################################################################\n",
    "q = d = range(0, 2)\n",
    "\n",
    "# Define the p parameters to take any value between 0 and 3. \n",
    "#It is defining how many data points back will be used for prediction\n",
    "#####################################################################\n",
    "p = range(0, 4)\n",
    "\n",
    "# Generate all different combinations of p, q and q triplets\n",
    "############################################################\n",
    "pdq = list(itertools.product(p, d, q))\n",
    "\n",
    "# Generate all different combinations of seasonal p, q and q , keeping 12 Even with the first order of differencing, \n",
    "#we observe that there is still slow residual decay in the ACF plots at a seasonal lag period of 12. \n",
    "# This thus suggest a seasonal difference to be applied.\n",
    "\n",
    "seasonal_pdq = [(x[0], x[1], x[2], 24) for x in list(itertools.product(p, d, q))]\n",
    "\n",
    "print('Examples of parameter combinations for Seasonal ARIMA...')\n",
    "print('SARIMAX: {} x {}'.format(pdq[1], seasonal_pdq[1]))\n",
    "print('SARIMAX: {} x {}'.format(pdq[1], seasonal_pdq[2]))\n",
    "print('SARIMAX: {} x {}'.format(pdq[2], seasonal_pdq[3]))\n",
    "print('SARIMAX: {} x {}'.format(pdq[2], seasonal_pdq[4]))"
   ]
  },
  {
   "cell_type": "code",
   "execution_count": 30,
   "metadata": {},
   "outputs": [
    {
     "name": "stdout",
     "output_type": "stream",
     "text": [
      "Observations: 23376\n",
      "Training Observations: 13848\n",
      "Testing Observations: 9480\n"
     ]
    }
   ],
   "source": [
    "#Splitting train and test dataset\n",
    "#################################\n",
    "\n",
    "train_data = poc_16['2019-01-01':'2020-07-31']\n",
    "test_data = poc_16['2020-08-01':'2021-08-31']\n",
    "\n",
    "print('Observations: %d' % (len(poc_16)))\n",
    "print('Training Observations: %d' % (len(train_data)))\n",
    "print('Testing Observations: %d' % (len(test_data)))\n",
    "\n"
   ]
  },
  {
   "cell_type": "code",
   "execution_count": 6,
   "metadata": {},
   "outputs": [
    {
     "name": "stdout",
     "output_type": "stream",
     "text": [
      "SARIMAX(3, 1, 1)x(3, 1, 1, 12) - AIC:130911.99737085329\r"
     ]
    }
   ],
   "source": [
    "#Selecting the best combination to fit SARIMA\n",
    "##############################################\n",
    "\n",
    "\n",
    "AIC = []\n",
    "SARIMAX_model = []\n",
    "for param in pdq:\n",
    "    for param_seasonal in seasonal_pdq:\n",
    "        try:\n",
    "            mod = sm.tsa.statespace.SARIMAX(train_data,\n",
    "                                            order=param,\n",
    "                                            seasonal_order=param_seasonal,\n",
    "                                            enforce_stationarity=False,\n",
    "                                            enforce_invertibility=False)\n",
    "\n",
    "            results = mod.fit()\n",
    "\n",
    "            print('SARIMAX{}x{} - AIC:{}'.format(param, param_seasonal, results.aic), end='\\r')\n",
    "            AIC.append(results.aic)\n",
    "            SARIMAX_model.append([param, param_seasonal])\n",
    "        except:\n",
    "            continue"
   ]
  },
  {
   "cell_type": "code",
   "execution_count": 7,
   "metadata": {},
   "outputs": [
    {
     "name": "stdout",
     "output_type": "stream",
     "text": [
      "The smallest AIC is 130822.66053169433 for model SARIMAX(3, 0, 1)x(3, 1, 1, 12)\n"
     ]
    }
   ],
   "source": [
    "print('The smallest AIC is {} for model SARIMAX{}x{}'.format(min(AIC), SARIMAX_model[AIC.index(min(AIC))][0],SARIMAX_model[AIC.index(min(AIC))][1]))"
   ]
  },
  {
   "cell_type": "code",
   "execution_count": 7,
   "metadata": {},
   "outputs": [
    {
     "ename": "NameError",
     "evalue": "name 'SARIMAX_model' is not defined",
     "output_type": "error",
     "traceback": [
      "\u001b[0;31m---------------------------------------------------------------------------\u001b[0m",
      "\u001b[0;31mNameError\u001b[0m                                 Traceback (most recent call last)",
      "\u001b[0;32m<ipython-input-7-fd845c448677>\u001b[0m in \u001b[0;36m<module>\u001b[0;34m\u001b[0m\n\u001b[1;32m      3\u001b[0m \u001b[0;34m\u001b[0m\u001b[0m\n\u001b[1;32m      4\u001b[0m mod = sm.tsa.statespace.SARIMAX(train_data,\n\u001b[0;32m----> 5\u001b[0;31m                                 \u001b[0morder\u001b[0m\u001b[0;34m=\u001b[0m\u001b[0mSARIMAX_model\u001b[0m\u001b[0;34m[\u001b[0m\u001b[0mAIC\u001b[0m\u001b[0;34m.\u001b[0m\u001b[0mindex\u001b[0m\u001b[0;34m(\u001b[0m\u001b[0mmin\u001b[0m\u001b[0;34m(\u001b[0m\u001b[0mAIC\u001b[0m\u001b[0;34m)\u001b[0m\u001b[0;34m)\u001b[0m\u001b[0;34m]\u001b[0m\u001b[0;34m[\u001b[0m\u001b[0;36m0\u001b[0m\u001b[0;34m]\u001b[0m\u001b[0;34m,\u001b[0m\u001b[0;34m\u001b[0m\u001b[0;34m\u001b[0m\u001b[0m\n\u001b[0m\u001b[1;32m      6\u001b[0m                                 \u001b[0mseasonal_order\u001b[0m\u001b[0;34m=\u001b[0m\u001b[0mSARIMAX_model\u001b[0m\u001b[0;34m[\u001b[0m\u001b[0mAIC\u001b[0m\u001b[0;34m.\u001b[0m\u001b[0mindex\u001b[0m\u001b[0;34m(\u001b[0m\u001b[0mmin\u001b[0m\u001b[0;34m(\u001b[0m\u001b[0mAIC\u001b[0m\u001b[0;34m)\u001b[0m\u001b[0;34m)\u001b[0m\u001b[0;34m]\u001b[0m\u001b[0;34m[\u001b[0m\u001b[0;36m1\u001b[0m\u001b[0;34m]\u001b[0m\u001b[0;34m,\u001b[0m\u001b[0;34m\u001b[0m\u001b[0;34m\u001b[0m\u001b[0m\n\u001b[1;32m      7\u001b[0m                                 \u001b[0menforce_stationarity\u001b[0m\u001b[0;34m=\u001b[0m\u001b[0;32mFalse\u001b[0m\u001b[0;34m,\u001b[0m\u001b[0;34m\u001b[0m\u001b[0;34m\u001b[0m\u001b[0m\n",
      "\u001b[0;31mNameError\u001b[0m: name 'SARIMAX_model' is not defined"
     ]
    }
   ],
   "source": [
    "# Fitting the model auto-selecting the best combination\n",
    "#######################################################\n",
    "\n",
    "mod = sm.tsa.statespace.SARIMAX(train_data,\n",
    "                                order=SARIMAX_model[AIC.index(min(AIC))][0],\n",
    "                                seasonal_order=SARIMAX_model[AIC.index(min(AIC))][1],\n",
    "                                enforce_stationarity=False,\n",
    "                                enforce_invertibility=False)\n",
    "\n",
    "results = mod.fit()"
   ]
  },
  {
   "cell_type": "code",
   "execution_count": 31,
   "metadata": {},
   "outputs": [],
   "source": [
    "# Fitting the model manually selecting the best combination 3,0,1 x 3,1,1,12 - AIC 103712.375\n",
    "############################################################################################\n",
    "\n",
    "\n",
    "mod = sm.tsa.statespace.SARIMAX(train_data[['NO2_index']],\n",
    "                                order=(3,0,1),\n",
    "                                seasonal_order=(3,1,1,24),\n",
    "                                enforce_stationarity=False,\n",
    "                                enforce_invertibility=False)\n",
    "\n",
    "results = mod.fit()"
   ]
  },
  {
   "cell_type": "code",
   "execution_count": 32,
   "metadata": {},
   "outputs": [
    {
     "name": "stdout",
     "output_type": "stream",
     "text": [
      "                                     SARIMAX Results                                      \n",
      "==========================================================================================\n",
      "Dep. Variable:                          NO2_index   No. Observations:                13848\n",
      "Model:             SARIMAX(3, 0, 1)x(3, 1, 1, 24)   Log Likelihood              -51455.274\n",
      "Date:                            Tue, 14 Dec 2021   AIC                         102928.548\n",
      "Time:                                    21:04:20   BIC                         102996.306\n",
      "Sample:                                01-01-2019   HQIC                        102951.126\n",
      "                                     - 07-30-2020                                         \n",
      "Covariance Type:                              opg                                         \n",
      "==============================================================================\n",
      "                 coef    std err          z      P>|z|      [0.025      0.975]\n",
      "------------------------------------------------------------------------------\n",
      "ar.L1          0.5630      0.286      1.968      0.049       0.002       1.124\n",
      "ar.L2          0.2502      0.275      0.910      0.363      -0.289       0.789\n",
      "ar.L3         -0.0209      0.034     -0.624      0.532      -0.087       0.045\n",
      "ma.L1          0.3959      0.286      1.384      0.166      -0.165       0.956\n",
      "ar.S.L24       0.0628      0.005     12.689      0.000       0.053       0.073\n",
      "ar.S.L48       0.0262      0.006      4.449      0.000       0.015       0.038\n",
      "ar.S.L72       0.0004      0.007      0.067      0.946      -0.012       0.013\n",
      "ma.S.L24      -0.9494      0.003   -345.298      0.000      -0.955      -0.944\n",
      "sigma2       103.9789      0.215    482.958      0.000     103.557     104.401\n",
      "===================================================================================\n",
      "Ljung-Box (L1) (Q):                   0.00   Jarque-Bera (JB):          11247747.88\n",
      "Prob(Q):                              0.99   Prob(JB):                         0.00\n",
      "Heteroskedasticity (H):               0.72   Skew:                             0.38\n",
      "Prob(H) (two-sided):                  0.00   Kurtosis:                       143.12\n",
      "===================================================================================\n",
      "\n",
      "Warnings:\n",
      "[1] Covariance matrix calculated using the outer product of gradients (complex-step).\n"
     ]
    }
   ],
   "source": [
    "# Model summary\n",
    "###############\n",
    "\n",
    "print(results.summary())"
   ]
  },
  {
   "cell_type": "code",
   "execution_count": 33,
   "metadata": {
    "scrolled": true
   },
   "outputs": [
    {
     "data": {
      "image/png": "[encoded data removed]",
      "text/plain": [
       "<Figure size 1440x1008 with 4 Axes>"
      ]
     },
     "metadata": {},
     "output_type": "display_data"
    }
   ],
   "source": [
    "#Plotting diagnostics graphs to evaluate the model result\n",
    "#########################################################\n",
    "\n",
    "results.plot_diagnostics(figsize=(20, 14))\n",
    "plt.show()"
   ]
  },
  {
   "cell_type": "markdown",
   "metadata": {},
   "source": [
    "**DIAGNOSTICs PLOT ANALYSIS**\n",
    "\n",
    "STANDARDIZED RESIDUAL: Uniform variance around mean of 0.\n",
    "\n",
    "HISTOGRAM ESTIMATED DENSITY: Distribution looks like to be Normal Distribution (with mean 0)\n",
    "\n",
    "NORMAL Q-Q: All the dots should fall perfectly in line with the red line. Any significant deviations would imply the distribution is skewed.\n",
    "\n",
    "CORRELOGRAM: Plot show that residual errors are not autocorrelated. In case of autocorrelation would mean that there is some pattern in the residual errors which are not explained in this model.\n",
    "\n",
    "Overall, it seems to be a good fit. Let’s forecast"
   ]
  },
  {
   "cell_type": "code",
   "execution_count": 9,
   "metadata": {},
   "outputs": [],
   "source": [
    "# Saving the model\n",
    "##################\n",
    "\n",
    "results.save('../models/poc_16_SARIMAmodel_301_311_12.pkl')"
   ]
  },
  {
   "cell_type": "markdown",
   "metadata": {},
   "source": [
    "## Non - Dynamic Forecasting (Static)"
   ]
  },
  {
   "cell_type": "markdown",
   "metadata": {},
   "source": [
    "\n",
    "\n",
    "This method produce one-step-ahead forecasts, meaning that forecasts at each point are generated using the full history up to that point.\n"
   ]
  },
  {
   "cell_type": "code",
   "execution_count": 34,
   "metadata": {},
   "outputs": [],
   "source": [
    "modelB = sm.tsa.statespace.SARIMAX(train_data[['NO2_index']],\n",
    "                                order=(3,0,1),\n",
    "                                seasonal_order=(3,1,1,24),\n",
    "                                enforce_stationarity=False,\n",
    "                                enforce_invertibility=False)\n",
    "resB = modelB.smooth(results.params)"
   ]
  },
  {
   "cell_type": "markdown",
   "metadata": {},
   "source": [
    "Next, we want to get results for the full dataset but using the estimated parameters (on a subset of the data)."
   ]
  },
  {
   "cell_type": "code",
   "execution_count": 35,
   "metadata": {
    "scrolled": true
   },
   "outputs": [
    {
     "data": {
      "text/html": [
       "<div>\n",
       "<style scoped>\n",
       "    .dataframe tbody tr th:only-of-type {\n",
       "        vertical-align: middle;\n",
       "    }\n",
       "\n",
       "    .dataframe tbody tr th {\n",
       "        vertical-align: top;\n",
       "    }\n",
       "\n",
       "    .dataframe thead th {\n",
       "        text-align: right;\n",
       "    }\n",
       "</style>\n",
       "<table border=\"1\" class=\"dataframe\">\n",
       "  <thead>\n",
       "    <tr style=\"text-align: right;\">\n",
       "      <th></th>\n",
       "      <th>NO2_index</th>\n",
       "    </tr>\n",
       "    <tr>\n",
       "      <th>TIME</th>\n",
       "      <th></th>\n",
       "    </tr>\n",
       "  </thead>\n",
       "  <tbody>\n",
       "    <tr>\n",
       "      <th>2020-08-01 00:59:59</th>\n",
       "      <td>23.0</td>\n",
       "    </tr>\n",
       "    <tr>\n",
       "      <th>2020-08-01 01:59:59</th>\n",
       "      <td>16.0</td>\n",
       "    </tr>\n",
       "    <tr>\n",
       "      <th>2020-08-01 02:59:59</th>\n",
       "      <td>20.0</td>\n",
       "    </tr>\n",
       "    <tr>\n",
       "      <th>2020-08-01 03:59:59</th>\n",
       "      <td>24.0</td>\n",
       "    </tr>\n",
       "    <tr>\n",
       "      <th>2020-08-01 04:59:59</th>\n",
       "      <td>38.0</td>\n",
       "    </tr>\n",
       "    <tr>\n",
       "      <th>...</th>\n",
       "      <td>...</td>\n",
       "    </tr>\n",
       "    <tr>\n",
       "      <th>2021-08-30 19:59:59</th>\n",
       "      <td>17.0</td>\n",
       "    </tr>\n",
       "    <tr>\n",
       "      <th>2021-08-30 20:59:59</th>\n",
       "      <td>25.0</td>\n",
       "    </tr>\n",
       "    <tr>\n",
       "      <th>2021-08-30 21:59:59</th>\n",
       "      <td>28.0</td>\n",
       "    </tr>\n",
       "    <tr>\n",
       "      <th>2021-08-30 22:59:59</th>\n",
       "      <td>31.0</td>\n",
       "    </tr>\n",
       "    <tr>\n",
       "      <th>2021-08-30 23:59:59</th>\n",
       "      <td>22.0</td>\n",
       "    </tr>\n",
       "  </tbody>\n",
       "</table>\n",
       "<p>9480 rows × 1 columns</p>\n",
       "</div>"
      ],
      "text/plain": [
       "                     NO2_index\n",
       "TIME                          \n",
       "2020-08-01 00:59:59       23.0\n",
       "2020-08-01 01:59:59       16.0\n",
       "2020-08-01 02:59:59       20.0\n",
       "2020-08-01 03:59:59       24.0\n",
       "2020-08-01 04:59:59       38.0\n",
       "...                        ...\n",
       "2021-08-30 19:59:59       17.0\n",
       "2021-08-30 20:59:59       25.0\n",
       "2021-08-30 21:59:59       28.0\n",
       "2021-08-30 22:59:59       31.0\n",
       "2021-08-30 23:59:59       22.0\n",
       "\n",
       "[9480 rows x 1 columns]"
      ]
     },
     "execution_count": 35,
     "metadata": {},
     "output_type": "execute_result"
    }
   ],
   "source": [
    "test_data"
   ]
  },
  {
   "cell_type": "code",
   "execution_count": 36,
   "metadata": {},
   "outputs": [],
   "source": [
    "#NonDynamic forecasting - one step ahead\n",
    "########################################\n",
    "\n",
    "\n",
    "test_data['forecast_1_step'] = resB.predict(dynamic=False)\n",
    "#pred_ci = pred.conf_int()"
   ]
  },
  {
   "cell_type": "code",
   "execution_count": 37,
   "metadata": {},
   "outputs": [
    {
     "data": {
      "text/html": [
       "<div>\n",
       "<style scoped>\n",
       "    .dataframe tbody tr th:only-of-type {\n",
       "        vertical-align: middle;\n",
       "    }\n",
       "\n",
       "    .dataframe tbody tr th {\n",
       "        vertical-align: top;\n",
       "    }\n",
       "\n",
       "    .dataframe thead th {\n",
       "        text-align: right;\n",
       "    }\n",
       "</style>\n",
       "<table border=\"1\" class=\"dataframe\">\n",
       "  <thead>\n",
       "    <tr style=\"text-align: right;\">\n",
       "      <th></th>\n",
       "      <th>NO2_index</th>\n",
       "      <th>forecast_1_step</th>\n",
       "    </tr>\n",
       "    <tr>\n",
       "      <th>TIME</th>\n",
       "      <th></th>\n",
       "      <th></th>\n",
       "    </tr>\n",
       "  </thead>\n",
       "  <tbody>\n",
       "    <tr>\n",
       "      <th>2020-08-01 00:59:59</th>\n",
       "      <td>23.0</td>\n",
       "      <td>NaN</td>\n",
       "    </tr>\n",
       "    <tr>\n",
       "      <th>2020-08-01 01:59:59</th>\n",
       "      <td>16.0</td>\n",
       "      <td>NaN</td>\n",
       "    </tr>\n",
       "    <tr>\n",
       "      <th>2020-08-01 02:59:59</th>\n",
       "      <td>20.0</td>\n",
       "      <td>NaN</td>\n",
       "    </tr>\n",
       "    <tr>\n",
       "      <th>2020-08-01 03:59:59</th>\n",
       "      <td>24.0</td>\n",
       "      <td>NaN</td>\n",
       "    </tr>\n",
       "    <tr>\n",
       "      <th>2020-08-01 04:59:59</th>\n",
       "      <td>38.0</td>\n",
       "      <td>NaN</td>\n",
       "    </tr>\n",
       "    <tr>\n",
       "      <th>...</th>\n",
       "      <td>...</td>\n",
       "      <td>...</td>\n",
       "    </tr>\n",
       "    <tr>\n",
       "      <th>2021-08-30 19:59:59</th>\n",
       "      <td>17.0</td>\n",
       "      <td>NaN</td>\n",
       "    </tr>\n",
       "    <tr>\n",
       "      <th>2021-08-30 20:59:59</th>\n",
       "      <td>25.0</td>\n",
       "      <td>NaN</td>\n",
       "    </tr>\n",
       "    <tr>\n",
       "      <th>2021-08-30 21:59:59</th>\n",
       "      <td>28.0</td>\n",
       "      <td>NaN</td>\n",
       "    </tr>\n",
       "    <tr>\n",
       "      <th>2021-08-30 22:59:59</th>\n",
       "      <td>31.0</td>\n",
       "      <td>NaN</td>\n",
       "    </tr>\n",
       "    <tr>\n",
       "      <th>2021-08-30 23:59:59</th>\n",
       "      <td>22.0</td>\n",
       "      <td>NaN</td>\n",
       "    </tr>\n",
       "  </tbody>\n",
       "</table>\n",
       "<p>9480 rows × 2 columns</p>\n",
       "</div>"
      ],
      "text/plain": [
       "                     NO2_index  forecast_1_step\n",
       "TIME                                           \n",
       "2020-08-01 00:59:59       23.0              NaN\n",
       "2020-08-01 01:59:59       16.0              NaN\n",
       "2020-08-01 02:59:59       20.0              NaN\n",
       "2020-08-01 03:59:59       24.0              NaN\n",
       "2020-08-01 04:59:59       38.0              NaN\n",
       "...                        ...              ...\n",
       "2021-08-30 19:59:59       17.0              NaN\n",
       "2021-08-30 20:59:59       25.0              NaN\n",
       "2021-08-30 21:59:59       28.0              NaN\n",
       "2021-08-30 22:59:59       31.0              NaN\n",
       "2021-08-30 23:59:59       22.0              NaN\n",
       "\n",
       "[9480 rows x 2 columns]"
      ]
     },
     "execution_count": 37,
     "metadata": {},
     "output_type": "execute_result"
    }
   ],
   "source": [
    "test_data"
   ]
  },
  {
   "cell_type": "code",
   "execution_count": 15,
   "metadata": {},
   "outputs": [
    {
     "data": {
      "image/png": "[encoded data removed]",
      "text/plain": [
       "<Figure size 864x576 with 1 Axes>"
      ]
     },
     "metadata": {},
     "output_type": "display_data"
    }
   ],
   "source": [
    "#Plotting forecast_1_step ahead vs real data\n",
    "############################################\n",
    "\n",
    "\n",
    "test_data[['NO2_index', 'forecast_1_step']].plot(figsize=(12, 8))\n",
    "plt.ylabel(\"$NO_2 (µg/m^3)$\", fontsize=12)\n",
    "plt.title(\"Forecasting One-Step-Ahead vs Real data\");"
   ]
  },
  {
   "cell_type": "markdown",
   "metadata": {},
   "source": [
    "### EVALUATING THE ONE-STEP-AHEAD MODEL\n",
    "\n",
    "The **Mean absolute error** represents the average of the absolute difference between the actual and predicted values in the dataset. It measures the average of the residuals in the dataset.\n",
    "\n",
    "The **Mean Squared Error** represents the average of the squared difference between the original and predicted values in the data set. It measures the variance of the residuals.\n",
    "\n",
    "The **Root Mean Squared Error** is the square root of Mean Squared error. It measures the standard deviation of residuals.\n",
    "\n",
    "\n",
    "Differences among these evaluation metrics\n",
    "\n",
    "Mean Squared Error(MSE) and Root Mean Square Error penalizes the large prediction errors vi-a-vis Mean Absolute Error (MAE). However, RMSE is widely used than MSE to evaluate the performance of the regression model with other random models as it has the same units as the dependent variable (Y-axis).\n",
    "\n",
    "MSE is a differentiable function that makes it easy to perform mathematical operations in comparison to a non-differentiable function like MAE. Therefore, in many models, RMSE is used as a default metric for calculating Loss Function despite being harder to interpret than MAE.\n",
    "\n",
    "MAE is more robust to data with outliers.\n",
    "\n",
    "The lower value of MAE, MSE, and RMSE implies higher accuracy of a regression model. However, a higher value of R square is considered desirable.\n",
    "\n",
    "\n"
   ]
  },
  {
   "cell_type": "code",
   "execution_count": 18,
   "metadata": {
    "scrolled": true
   },
   "outputs": [
    {
     "ename": "ValueError",
     "evalue": "Found array with 0 sample(s) (shape=(0,)) while a minimum of 1 is required.",
     "output_type": "error",
     "traceback": [
      "\u001b[0;31m---------------------------------------------------------------------------\u001b[0m",
      "\u001b[0;31mValueError\u001b[0m                                Traceback (most recent call last)",
      "\u001b[0;32m<ipython-input-18-7addf3ee7a14>\u001b[0m in \u001b[0;36m<module>\u001b[0;34m\u001b[0m\n\u001b[1;32m      3\u001b[0m \u001b[0;34m\u001b[0m\u001b[0m\n\u001b[1;32m      4\u001b[0m \u001b[0mtest_data\u001b[0m \u001b[0;34m=\u001b[0m \u001b[0mtest_data\u001b[0m\u001b[0;34m.\u001b[0m\u001b[0mdropna\u001b[0m\u001b[0;34m(\u001b[0m\u001b[0;34m)\u001b[0m\u001b[0;34m\u001b[0m\u001b[0;34m\u001b[0m\u001b[0m\n\u001b[0;32m----> 5\u001b[0;31m \u001b[0mmea\u001b[0m \u001b[0;34m=\u001b[0m \u001b[0mmean_absolute_error\u001b[0m\u001b[0;34m(\u001b[0m\u001b[0mtest_data\u001b[0m\u001b[0;34m.\u001b[0m\u001b[0mNO2_index\u001b[0m\u001b[0;34m,\u001b[0m \u001b[0mtest_data\u001b[0m\u001b[0;34m.\u001b[0m\u001b[0mforecast_1_step\u001b[0m\u001b[0;34m)\u001b[0m\u001b[0;34m\u001b[0m\u001b[0;34m\u001b[0m\u001b[0m\n\u001b[0m\u001b[1;32m      6\u001b[0m \u001b[0mmae\u001b[0m \u001b[0;34m=\u001b[0m\u001b[0mmean_squared_error\u001b[0m\u001b[0;34m(\u001b[0m\u001b[0mtest_data\u001b[0m\u001b[0;34m.\u001b[0m\u001b[0mNO2_index\u001b[0m\u001b[0;34m,\u001b[0m \u001b[0mtest_data\u001b[0m\u001b[0;34m.\u001b[0m\u001b[0mforecast_1_step\u001b[0m\u001b[0;34m)\u001b[0m\u001b[0;34m\u001b[0m\u001b[0;34m\u001b[0m\u001b[0m\n\u001b[1;32m      7\u001b[0m \u001b[0mrmse\u001b[0m \u001b[0;34m=\u001b[0m \u001b[0msqrt\u001b[0m\u001b[0;34m(\u001b[0m\u001b[0mmean_squared_error\u001b[0m\u001b[0;34m(\u001b[0m\u001b[0mtest_data\u001b[0m\u001b[0;34m.\u001b[0m\u001b[0mNO2_index\u001b[0m\u001b[0;34m,\u001b[0m \u001b[0mtest_data\u001b[0m\u001b[0;34m.\u001b[0m\u001b[0mforecast_1_step\u001b[0m\u001b[0;34m)\u001b[0m\u001b[0;34m)\u001b[0m\u001b[0;34m\u001b[0m\u001b[0;34m\u001b[0m\u001b[0m\n",
      "\u001b[0;32m~/opt/anaconda3/lib/python3.8/site-packages/sklearn/utils/validation.py\u001b[0m in \u001b[0;36minner_f\u001b[0;34m(*args, **kwargs)\u001b[0m\n\u001b[1;32m     70\u001b[0m                           FutureWarning)\n\u001b[1;32m     71\u001b[0m         \u001b[0mkwargs\u001b[0m\u001b[0;34m.\u001b[0m\u001b[0mupdate\u001b[0m\u001b[0;34m(\u001b[0m\u001b[0;34m{\u001b[0m\u001b[0mk\u001b[0m\u001b[0;34m:\u001b[0m \u001b[0marg\u001b[0m \u001b[0;32mfor\u001b[0m \u001b[0mk\u001b[0m\u001b[0;34m,\u001b[0m \u001b[0marg\u001b[0m \u001b[0;32min\u001b[0m \u001b[0mzip\u001b[0m\u001b[0;34m(\u001b[0m\u001b[0msig\u001b[0m\u001b[0;34m.\u001b[0m\u001b[0mparameters\u001b[0m\u001b[0;34m,\u001b[0m \u001b[0margs\u001b[0m\u001b[0;34m)\u001b[0m\u001b[0;34m}\u001b[0m\u001b[0;34m)\u001b[0m\u001b[0;34m\u001b[0m\u001b[0;34m\u001b[0m\u001b[0m\n\u001b[0;32m---> 72\u001b[0;31m         \u001b[0;32mreturn\u001b[0m \u001b[0mf\u001b[0m\u001b[0;34m(\u001b[0m\u001b[0;34m**\u001b[0m\u001b[0mkwargs\u001b[0m\u001b[0;34m)\u001b[0m\u001b[0;34m\u001b[0m\u001b[0;34m\u001b[0m\u001b[0m\n\u001b[0m\u001b[1;32m     73\u001b[0m     \u001b[0;32mreturn\u001b[0m \u001b[0minner_f\u001b[0m\u001b[0;34m\u001b[0m\u001b[0;34m\u001b[0m\u001b[0m\n\u001b[1;32m     74\u001b[0m \u001b[0;34m\u001b[0m\u001b[0m\n",
      "\u001b[0;32m~/opt/anaconda3/lib/python3.8/site-packages/sklearn/metrics/_regression.py\u001b[0m in \u001b[0;36mmean_absolute_error\u001b[0;34m(y_true, y_pred, sample_weight, multioutput)\u001b[0m\n\u001b[1;32m    176\u001b[0m     \u001b[0;36m0.85\u001b[0m\u001b[0;34m...\u001b[0m\u001b[0;34m\u001b[0m\u001b[0;34m\u001b[0m\u001b[0m\n\u001b[1;32m    177\u001b[0m     \"\"\"\n\u001b[0;32m--> 178\u001b[0;31m     y_type, y_true, y_pred, multioutput = _check_reg_targets(\n\u001b[0m\u001b[1;32m    179\u001b[0m         y_true, y_pred, multioutput)\n\u001b[1;32m    180\u001b[0m     \u001b[0mcheck_consistent_length\u001b[0m\u001b[0;34m(\u001b[0m\u001b[0my_true\u001b[0m\u001b[0;34m,\u001b[0m \u001b[0my_pred\u001b[0m\u001b[0;34m,\u001b[0m \u001b[0msample_weight\u001b[0m\u001b[0;34m)\u001b[0m\u001b[0;34m\u001b[0m\u001b[0;34m\u001b[0m\u001b[0m\n",
      "\u001b[0;32m~/opt/anaconda3/lib/python3.8/site-packages/sklearn/metrics/_regression.py\u001b[0m in \u001b[0;36m_check_reg_targets\u001b[0;34m(y_true, y_pred, multioutput, dtype)\u001b[0m\n\u001b[1;32m     83\u001b[0m     \"\"\"\n\u001b[1;32m     84\u001b[0m     \u001b[0mcheck_consistent_length\u001b[0m\u001b[0;34m(\u001b[0m\u001b[0my_true\u001b[0m\u001b[0;34m,\u001b[0m \u001b[0my_pred\u001b[0m\u001b[0;34m)\u001b[0m\u001b[0;34m\u001b[0m\u001b[0;34m\u001b[0m\u001b[0m\n\u001b[0;32m---> 85\u001b[0;31m     \u001b[0my_true\u001b[0m \u001b[0;34m=\u001b[0m \u001b[0mcheck_array\u001b[0m\u001b[0;34m(\u001b[0m\u001b[0my_true\u001b[0m\u001b[0;34m,\u001b[0m \u001b[0mensure_2d\u001b[0m\u001b[0;34m=\u001b[0m\u001b[0;32mFalse\u001b[0m\u001b[0;34m,\u001b[0m \u001b[0mdtype\u001b[0m\u001b[0;34m=\u001b[0m\u001b[0mdtype\u001b[0m\u001b[0;34m)\u001b[0m\u001b[0;34m\u001b[0m\u001b[0;34m\u001b[0m\u001b[0m\n\u001b[0m\u001b[1;32m     86\u001b[0m     \u001b[0my_pred\u001b[0m \u001b[0;34m=\u001b[0m \u001b[0mcheck_array\u001b[0m\u001b[0;34m(\u001b[0m\u001b[0my_pred\u001b[0m\u001b[0;34m,\u001b[0m \u001b[0mensure_2d\u001b[0m\u001b[0;34m=\u001b[0m\u001b[0;32mFalse\u001b[0m\u001b[0;34m,\u001b[0m \u001b[0mdtype\u001b[0m\u001b[0;34m=\u001b[0m\u001b[0mdtype\u001b[0m\u001b[0;34m)\u001b[0m\u001b[0;34m\u001b[0m\u001b[0;34m\u001b[0m\u001b[0m\n\u001b[1;32m     87\u001b[0m \u001b[0;34m\u001b[0m\u001b[0m\n",
      "\u001b[0;32m~/opt/anaconda3/lib/python3.8/site-packages/sklearn/utils/validation.py\u001b[0m in \u001b[0;36minner_f\u001b[0;34m(*args, **kwargs)\u001b[0m\n\u001b[1;32m     70\u001b[0m                           FutureWarning)\n\u001b[1;32m     71\u001b[0m         \u001b[0mkwargs\u001b[0m\u001b[0;34m.\u001b[0m\u001b[0mupdate\u001b[0m\u001b[0;34m(\u001b[0m\u001b[0;34m{\u001b[0m\u001b[0mk\u001b[0m\u001b[0;34m:\u001b[0m \u001b[0marg\u001b[0m \u001b[0;32mfor\u001b[0m \u001b[0mk\u001b[0m\u001b[0;34m,\u001b[0m \u001b[0marg\u001b[0m \u001b[0;32min\u001b[0m \u001b[0mzip\u001b[0m\u001b[0;34m(\u001b[0m\u001b[0msig\u001b[0m\u001b[0;34m.\u001b[0m\u001b[0mparameters\u001b[0m\u001b[0;34m,\u001b[0m \u001b[0margs\u001b[0m\u001b[0;34m)\u001b[0m\u001b[0;34m}\u001b[0m\u001b[0;34m)\u001b[0m\u001b[0;34m\u001b[0m\u001b[0;34m\u001b[0m\u001b[0m\n\u001b[0;32m---> 72\u001b[0;31m         \u001b[0;32mreturn\u001b[0m \u001b[0mf\u001b[0m\u001b[0;34m(\u001b[0m\u001b[0;34m**\u001b[0m\u001b[0mkwargs\u001b[0m\u001b[0;34m)\u001b[0m\u001b[0;34m\u001b[0m\u001b[0;34m\u001b[0m\u001b[0m\n\u001b[0m\u001b[1;32m     73\u001b[0m     \u001b[0;32mreturn\u001b[0m \u001b[0minner_f\u001b[0m\u001b[0;34m\u001b[0m\u001b[0;34m\u001b[0m\u001b[0m\n\u001b[1;32m     74\u001b[0m \u001b[0;34m\u001b[0m\u001b[0m\n",
      "\u001b[0;32m~/opt/anaconda3/lib/python3.8/site-packages/sklearn/utils/validation.py\u001b[0m in \u001b[0;36mcheck_array\u001b[0;34m(array, accept_sparse, accept_large_sparse, dtype, order, copy, force_all_finite, ensure_2d, allow_nd, ensure_min_samples, ensure_min_features, estimator)\u001b[0m\n\u001b[1;32m    648\u001b[0m         \u001b[0mn_samples\u001b[0m \u001b[0;34m=\u001b[0m \u001b[0m_num_samples\u001b[0m\u001b[0;34m(\u001b[0m\u001b[0marray\u001b[0m\u001b[0;34m)\u001b[0m\u001b[0;34m\u001b[0m\u001b[0;34m\u001b[0m\u001b[0m\n\u001b[1;32m    649\u001b[0m         \u001b[0;32mif\u001b[0m \u001b[0mn_samples\u001b[0m \u001b[0;34m<\u001b[0m \u001b[0mensure_min_samples\u001b[0m\u001b[0;34m:\u001b[0m\u001b[0;34m\u001b[0m\u001b[0;34m\u001b[0m\u001b[0m\n\u001b[0;32m--> 650\u001b[0;31m             raise ValueError(\"Found array with %d sample(s) (shape=%s) while a\"\n\u001b[0m\u001b[1;32m    651\u001b[0m                              \u001b[0;34m\" minimum of %d is required%s.\"\u001b[0m\u001b[0;34m\u001b[0m\u001b[0;34m\u001b[0m\u001b[0m\n\u001b[1;32m    652\u001b[0m                              % (n_samples, array.shape, ensure_min_samples,\n",
      "\u001b[0;31mValueError\u001b[0m: Found array with 0 sample(s) (shape=(0,)) while a minimum of 1 is required."
     ]
    }
   ],
   "source": [
    "#Evaluating the model\n",
    "#####################\n",
    "\n",
    "test_data = test_data.dropna()\n",
    "mea = mean_absolute_error(test_data.NO2_index, test_data.forecast_1_step)\n",
    "mae =mean_squared_error(test_data.NO2_index, test_data.forecast_1_step)\n",
    "rmse = sqrt(mean_squared_error(test_data.NO2_index, test_data.forecast_1_step))\n",
    "\n",
    "print(\"Mean Square Error: \",mea)\n",
    "print(\"Mean Absolute Error: \",mae)\n",
    "print(\"Root Mean Squared Error: \",rmse)"
   ]
  },
  {
   "cell_type": "markdown",
   "metadata": {},
   "source": [
    "\n",
    "\n",
    "  Prediction Models | MSE | MAE | RMSE\n",
    ":--------: | ------- | ------- | ------- \n",
    "Static forecasting: one-step-ahead|5.8 | 78.6 | 8.8 | \n"
   ]
  },
  {
   "cell_type": "markdown",
   "metadata": {},
   "source": [
    "## Dynamic Forecasting - 24 hours window"
   ]
  },
  {
   "cell_type": "markdown",
   "metadata": {},
   "source": [
    "\n",
    "By the dynamic forecasting we only use information from the time series up to a certain point, and after that, forecasts are generated using values from previous forecasted time points. This method allow calculate different time windows"
   ]
  },
  {
   "cell_type": "code",
   "execution_count": 19,
   "metadata": {},
   "outputs": [],
   "source": [
    "#Splitting train and test dataset\n",
    "#################################\n",
    "\n",
    "train_data = poc_16['2019-01-01':'2020-07-31']\n",
    "test_data = poc_16['2020-08-01':'2021-08-31']"
   ]
  },
  {
   "cell_type": "code",
   "execution_count": 20,
   "metadata": {},
   "outputs": [],
   "source": [
    "#concatenating train and test\n",
    "#############################\n",
    "\n",
    "data = pd.concat([train_data, test_data])[['NO2_index']]"
   ]
  },
  {
   "cell_type": "code",
   "execution_count": 21,
   "metadata": {},
   "outputs": [],
   "source": [
    "#Running the model\n",
    "##################\n",
    "\n",
    "modelB = sm.tsa.SARIMAX(train_data[['NO2_index']], exogenous=train_data[['HOUR']], order=(3,0,1),\n",
    "                                seasonal_order=(3,1,1,12),\n",
    "                                enforce_stationarity=False,\n",
    "                                enforce_invertibility=False)\n",
    "resB = modelB.smooth(results.params)"
   ]
  },
  {
   "cell_type": "code",
   "execution_count": null,
   "metadata": {},
   "outputs": [],
   "source": [
    "#Predicting 24 hours window\n",
    "###########################\n",
    "\n",
    "forecast = [np.NaN]*len(data)\n",
    "for i in range(len(train_data), len(data)-25):\n",
    "    pred = resB.predict(start = i, end=i+24, dynamic=True)\n",
    "    forecast[i+24] = pred.iloc[24] "
   ]
  },
  {
   "cell_type": "code",
   "execution_count": 126,
   "metadata": {},
   "outputs": [
    {
     "data": {
      "text/html": [
       "<div>\n",
       "<style scoped>\n",
       "    .dataframe tbody tr th:only-of-type {\n",
       "        vertical-align: middle;\n",
       "    }\n",
       "\n",
       "    .dataframe tbody tr th {\n",
       "        vertical-align: top;\n",
       "    }\n",
       "\n",
       "    .dataframe thead th {\n",
       "        text-align: right;\n",
       "    }\n",
       "</style>\n",
       "<table border=\"1\" class=\"dataframe\">\n",
       "  <thead>\n",
       "    <tr style=\"text-align: right;\">\n",
       "      <th></th>\n",
       "      <th>NO2_index</th>\n",
       "      <th>forecast_24</th>\n",
       "    </tr>\n",
       "    <tr>\n",
       "      <th>TIME</th>\n",
       "      <th></th>\n",
       "      <th></th>\n",
       "    </tr>\n",
       "  </thead>\n",
       "  <tbody>\n",
       "    <tr>\n",
       "      <th>2019-01-01 00:59:59</th>\n",
       "      <td>53.0</td>\n",
       "      <td>NaN</td>\n",
       "    </tr>\n",
       "    <tr>\n",
       "      <th>2019-01-01 01:59:59</th>\n",
       "      <td>44.0</td>\n",
       "      <td>NaN</td>\n",
       "    </tr>\n",
       "    <tr>\n",
       "      <th>2019-01-01 02:59:59</th>\n",
       "      <td>54.0</td>\n",
       "      <td>NaN</td>\n",
       "    </tr>\n",
       "    <tr>\n",
       "      <th>2019-01-01 03:59:59</th>\n",
       "      <td>43.0</td>\n",
       "      <td>NaN</td>\n",
       "    </tr>\n",
       "    <tr>\n",
       "      <th>2019-01-01 04:59:59</th>\n",
       "      <td>42.0</td>\n",
       "      <td>NaN</td>\n",
       "    </tr>\n",
       "    <tr>\n",
       "      <th>...</th>\n",
       "      <td>...</td>\n",
       "      <td>...</td>\n",
       "    </tr>\n",
       "    <tr>\n",
       "      <th>2021-08-30 19:59:59</th>\n",
       "      <td>17.0</td>\n",
       "      <td>17.576332</td>\n",
       "    </tr>\n",
       "    <tr>\n",
       "      <th>2021-08-30 20:59:59</th>\n",
       "      <td>25.0</td>\n",
       "      <td>23.559061</td>\n",
       "    </tr>\n",
       "    <tr>\n",
       "      <th>2021-08-30 21:59:59</th>\n",
       "      <td>28.0</td>\n",
       "      <td>23.254498</td>\n",
       "    </tr>\n",
       "    <tr>\n",
       "      <th>2021-08-30 22:59:59</th>\n",
       "      <td>31.0</td>\n",
       "      <td>23.546186</td>\n",
       "    </tr>\n",
       "    <tr>\n",
       "      <th>2021-08-30 23:59:59</th>\n",
       "      <td>22.0</td>\n",
       "      <td>NaN</td>\n",
       "    </tr>\n",
       "  </tbody>\n",
       "</table>\n",
       "<p>23328 rows × 2 columns</p>\n",
       "</div>"
      ],
      "text/plain": [
       "                     NO2_index  forecast_24\n",
       "TIME                                       \n",
       "2019-01-01 00:59:59       53.0          NaN\n",
       "2019-01-01 01:59:59       44.0          NaN\n",
       "2019-01-01 02:59:59       54.0          NaN\n",
       "2019-01-01 03:59:59       43.0          NaN\n",
       "2019-01-01 04:59:59       42.0          NaN\n",
       "...                        ...          ...\n",
       "2021-08-30 19:59:59       17.0    17.576332\n",
       "2021-08-30 20:59:59       25.0    23.559061\n",
       "2021-08-30 21:59:59       28.0    23.254498\n",
       "2021-08-30 22:59:59       31.0    23.546186\n",
       "2021-08-30 23:59:59       22.0          NaN\n",
       "\n",
       "[23328 rows x 2 columns]"
      ]
     },
     "execution_count": 126,
     "metadata": {},
     "output_type": "execute_result"
    }
   ],
   "source": [
    "data['forecast_24'] = forecast\n",
    "data"
   ]
  },
  {
   "cell_type": "code",
   "execution_count": 127,
   "metadata": {},
   "outputs": [
    {
     "data": {
      "image/png": "[encoded data removed]",
      "text/plain": [
       "<Figure size 864x576 with 1 Axes>"
      ]
     },
     "metadata": {},
     "output_type": "display_data"
    }
   ],
   "source": [
    "#Plotting 24hours prediction window vs real data\n",
    "################################################\n",
    "\n",
    "data[['NO2_index', 'forecast_24']].plot(figsize=(12, 8))\n",
    "\n",
    "plt.ylabel(\"$NO_2 (µg/m^3)$\", fontsize=12)\n",
    "plt.title(\"Forecasting 24 hours window vs Real data\");"
   ]
  },
  {
   "cell_type": "code",
   "execution_count": 128,
   "metadata": {},
   "outputs": [
    {
     "name": "stdout",
     "output_type": "stream",
     "text": [
      "Mean Square Error:  13.300817658548352\n",
      "Mean Absolute Error:  340.8621112998259\n",
      "Root Mean Squared Error:  18.46245138923393\n"
     ]
    }
   ],
   "source": [
    "#Evaluating the 24 hour window dynamic forecasting model\n",
    "########################################################\n",
    "\n",
    "data = data.dropna()\n",
    "\n",
    "mea = mean_absolute_error(data.NO2_index, data.forecast_24)\n",
    "mae = mean_squared_error(data.NO2_index, data.forecast_24)\n",
    "rmse = sqrt(mean_squared_error(data.NO2_index, data.forecast_24))\n",
    "\n",
    "print(\"Mean Square Error: \",mea)\n",
    "print(\"Mean Absolute Error: \",mae)\n",
    "print(\"Root Mean Squared Error: \",rmse)"
   ]
  },
  {
   "cell_type": "markdown",
   "metadata": {},
   "source": [
    "\n",
    "**MODEL EVALUATION**\n",
    "\n",
    "  Prediction Models | MSE | MAE | RMSE\n",
    ":--------: | ------- | ------- | ------- \n",
    "Static forecasting: one-step-ahead|5.8 | 78.6 | 8.8 | \n",
    "Dynamic forecasting: 24 hour window |13.3 | 340.8 | 18.4 |"
   ]
  },
  {
   "cell_type": "markdown",
   "metadata": {},
   "source": [
    "## Dynamic Forecasting - 24-12-6-2 hours prediction window"
   ]
  },
  {
   "cell_type": "code",
   "execution_count": null,
   "metadata": {},
   "outputs": [],
   "source": [
    "#Splitting train and test dataset\n",
    "#################################\n",
    "\n",
    "train_data = poc_16['2019-01-01':'2020-07-31']\n",
    "test_data = poc_16['2020-08-01':'2021-08-31']\n",
    "\n",
    "#concatenating train and test\n",
    "#############################\n",
    "\n",
    "data = pd.concat([train_data, test_data])[['NO2_index']]\n",
    "\n",
    "#Running the model\n",
    "##################\n",
    "\n",
    "\n",
    "\n",
    "modelB = sm.tsa.SARIMAX(train_data[['NO2_index']], exogenous=train_data[['HOUR','DAYWEEK', 'Temperature','WindSpeed']], order=(3,0,1),\n",
    "                                seasonal_order=(3,1,1,12),\n",
    "                                enforce_stationarity=False,\n",
    "                                enforce_invertibility=False)\n",
    "resB = modelB.smooth(results.params)\n",
    "\n",
    "#Predicting 24 hours window\n",
    "###########################\n",
    "\n",
    "forecast = [np.NaN]*len(data)\n",
    "for i in range(len(train_data), len(data)-25):\n",
    "    pred = resB.predict(start = i, end=i+24, dynamic=True)\n",
    "    forecast[i+24] = pred.iloc[24] \n",
    "\n",
    "data['forecast_24'] = forecast\n",
    "    \n",
    "#Predicting 12 hours window\n",
    "###########################\n",
    "\n",
    "forecast12 = [np.NaN]*len(data)\n",
    "for i in range(len(train_data), len(data)-13):\n",
    "    pred = resB.predict(start = i, end=i+12, dynamic=True)\n",
    "    forecast12[i+12] = pred.iloc[12] \n",
    "    \n",
    "data['forecast_12'] = forecast12\n",
    "\n",
    "#Predicting 6 hours window\n",
    "###########################\n",
    "\n",
    "forecast6 = [np.NaN]*len(data)\n",
    "for i in range(len(train_data), len(data)-7):\n",
    "    pred = resB.predict(start = i, end=i+6, dynamic=True)\n",
    "    forecast6[i+6] = pred.iloc[6] \n",
    "    \n",
    "data['forecast_6'] = forecast6\n",
    "\n",
    "#Predicting 2 hours window\n",
    "###########################\n",
    "\n",
    "forecast2 = [np.NaN]*len(data)\n",
    "for i in range(len(train_data), len(data)-3):\n",
    "    pred = resB.predict(start = i, end=i+2, dynamic=True)\n",
    "    forecast2[i+2] = pred.iloc[2] \n",
    "    \n",
    "data['forecast_2'] = forecast2\n",
    "data"
   ]
  },
  {
   "cell_type": "code",
   "execution_count": 14,
   "metadata": {},
   "outputs": [
    {
     "name": "stdout",
     "output_type": "stream",
     "text": [
      "Evaluation Metrics 24 hours prediction window\n",
      "Mean Square Error:  13.498360165397955\n",
      "Mean Absolute Error:  349.61871954945053\n",
      "Root Mean Squared Error:  18.69809400846649\n",
      "--------------------------------------------\n",
      "--------------------------------------------\n",
      "Evaluation Metrics 12 hours prediction window\n",
      "Mean Square Error:  13.038118771836324\n",
      "Mean Absolute Error:  330.55023699470274\n",
      "Root Mean Squared Error:  18.18104059163564\n",
      "--------------------------------------------\n",
      "--------------------------------------------\n",
      "Evaluation Metrics 6 hours prediction window\n",
      "Mean Square Error:  12.500358977954518\n",
      "Mean Absolute Error:  309.0303964143065\n",
      "Root Mean Squared Error:  17.579260405782335\n",
      "--------------------------------------------\n",
      "--------------------------------------------\n",
      "Evaluation Metrics 2 hours prediction window\n",
      "Mean Square Error:  10.33708402693427\n",
      "Mean Absolute Error:  227.18620425982505\n",
      "Root Mean Squared Error:  15.072697312021662\n"
     ]
    }
   ],
   "source": [
    "#Evaluating the 24-12-6-2 hour window dynamic forecasting model\n",
    "##############################################################\n",
    "\n",
    "data = data.dropna()\n",
    "\n",
    "mea_24 = mean_absolute_error(data.NO2_index, data.forecast_24)\n",
    "mae_24 = mean_squared_error(data.NO2_index, data.forecast_24)\n",
    "rmse_24= sqrt(mean_squared_error(data.NO2_index, data.forecast_24))\n",
    "\n",
    "mea_12 = mean_absolute_error(data.NO2_index, data.forecast_12)\n",
    "mae_12 = mean_squared_error(data.NO2_index, data.forecast_12)\n",
    "rmse_12= sqrt(mean_squared_error(data.NO2_index, data.forecast_12))\n",
    "\n",
    "mea_6 = mean_absolute_error(data.NO2_index, data.forecast_6)\n",
    "mae_6 = mean_squared_error(data.NO2_index, data.forecast_6)\n",
    "rmse_6= sqrt(mean_squared_error(data.NO2_index, data.forecast_6))\n",
    "\n",
    "mea_2 = mean_absolute_error(data.NO2_index, data.forecast_2)\n",
    "mae_2 = mean_squared_error(data.NO2_index, data.forecast_2)\n",
    "rmse_2= sqrt(mean_squared_error(data.NO2_index, data.forecast_2))\n",
    "\n",
    "print(\"Evaluation Metrics 24 hours prediction window\")\n",
    "print(\"Mean Square Error: \",mea_24)\n",
    "print(\"Mean Absolute Error: \",mae_24)\n",
    "print(\"Root Mean Squared Error: \",rmse_24)\n",
    "print(\"--------------------------------------------\")\n",
    "print(\"--------------------------------------------\")\n",
    "print(\"Evaluation Metrics 12 hours prediction window\")\n",
    "print(\"Mean Square Error: \",mea_12)\n",
    "print(\"Mean Absolute Error: \",mae_12)\n",
    "print(\"Root Mean Squared Error: \",rmse_12)\n",
    "print(\"--------------------------------------------\")\n",
    "print(\"--------------------------------------------\")\n",
    "print(\"Evaluation Metrics 6 hours prediction window\")\n",
    "print(\"Mean Square Error: \",mea_6)\n",
    "print(\"Mean Absolute Error: \",mae_6)\n",
    "print(\"Root Mean Squared Error: \",rmse_6)\n",
    "print(\"--------------------------------------------\")\n",
    "print(\"--------------------------------------------\")\n",
    "print(\"Evaluation Metrics 2 hours prediction window\")\n",
    "print(\"Mean Square Error: \",mea_2)\n",
    "print(\"Mean Absolute Error: \",mae_2)\n",
    "print(\"Root Mean Squared Error: \",rmse_2)"
   ]
  },
  {
   "cell_type": "markdown",
   "metadata": {},
   "source": [
    "**MODEL EVALUATION**\n",
    "\n",
    "  Prediction Models | MSE | MAE | RMSE\n",
    ":--------: | ------- | ------- | ------- \n",
    "Static forecasting: one-step-ahead|5.8 | 78.6 | 8.8 | \n",
    "Dynamic forecasting: 24 hour window |13.3 | 340.8 | 18.4 |\n",
    "Dynamic forecasting: 12 hour window |12.7 | 316.1 | 17.7 |\n",
    "Dynamic forecasting: 6 hour window |12.2 | 295.3 | 17.1 |\n",
    "Dynamic forecasting: 2 hour window |10.2 | 219.6 | 14.8 |"
   ]
  },
  {
   "cell_type": "code",
   "execution_count": 161,
   "metadata": {},
   "outputs": [
    {
     "data": {
      "text/html": [
       "<div>\n",
       "<style scoped>\n",
       "    .dataframe tbody tr th:only-of-type {\n",
       "        vertical-align: middle;\n",
       "    }\n",
       "\n",
       "    .dataframe tbody tr th {\n",
       "        vertical-align: top;\n",
       "    }\n",
       "\n",
       "    .dataframe thead th {\n",
       "        text-align: right;\n",
       "    }\n",
       "</style>\n",
       "<table border=\"1\" class=\"dataframe\">\n",
       "  <thead>\n",
       "    <tr style=\"text-align: right;\">\n",
       "      <th></th>\n",
       "      <th>NO2_index</th>\n",
       "      <th>forecast_24</th>\n",
       "      <th>forecast_12</th>\n",
       "      <th>forecast_6</th>\n",
       "      <th>forecast_2</th>\n",
       "    </tr>\n",
       "    <tr>\n",
       "      <th>TIME</th>\n",
       "      <th></th>\n",
       "      <th></th>\n",
       "      <th></th>\n",
       "      <th></th>\n",
       "      <th></th>\n",
       "    </tr>\n",
       "  </thead>\n",
       "  <tbody>\n",
       "    <tr>\n",
       "      <th>2020-08-02 00:59:59</th>\n",
       "      <td>14.0</td>\n",
       "      <td>10.890550</td>\n",
       "      <td>15.196997</td>\n",
       "      <td>14.217585</td>\n",
       "      <td>10.675587</td>\n",
       "    </tr>\n",
       "    <tr>\n",
       "      <th>2020-08-02 01:59:59</th>\n",
       "      <td>12.0</td>\n",
       "      <td>10.359535</td>\n",
       "      <td>10.267748</td>\n",
       "      <td>8.544177</td>\n",
       "      <td>7.035286</td>\n",
       "    </tr>\n",
       "    <tr>\n",
       "      <th>2020-08-02 02:59:59</th>\n",
       "      <td>16.0</td>\n",
       "      <td>7.721643</td>\n",
       "      <td>9.348363</td>\n",
       "      <td>6.765913</td>\n",
       "      <td>6.232318</td>\n",
       "    </tr>\n",
       "    <tr>\n",
       "      <th>2020-08-02 03:59:59</th>\n",
       "      <td>16.0</td>\n",
       "      <td>8.818094</td>\n",
       "      <td>9.454069</td>\n",
       "      <td>7.300588</td>\n",
       "      <td>9.120204</td>\n",
       "    </tr>\n",
       "    <tr>\n",
       "      <th>2020-08-02 04:59:59</th>\n",
       "      <td>4.0</td>\n",
       "      <td>9.987590</td>\n",
       "      <td>11.324408</td>\n",
       "      <td>9.279560</td>\n",
       "      <td>12.004380</td>\n",
       "    </tr>\n",
       "    <tr>\n",
       "      <th>...</th>\n",
       "      <td>...</td>\n",
       "      <td>...</td>\n",
       "      <td>...</td>\n",
       "      <td>...</td>\n",
       "      <td>...</td>\n",
       "    </tr>\n",
       "    <tr>\n",
       "      <th>2021-08-30 18:59:59</th>\n",
       "      <td>17.0</td>\n",
       "      <td>11.806960</td>\n",
       "      <td>9.827061</td>\n",
       "      <td>11.488062</td>\n",
       "      <td>13.734886</td>\n",
       "    </tr>\n",
       "    <tr>\n",
       "      <th>2021-08-30 19:59:59</th>\n",
       "      <td>17.0</td>\n",
       "      <td>17.576332</td>\n",
       "      <td>15.718573</td>\n",
       "      <td>17.581867</td>\n",
       "      <td>20.518584</td>\n",
       "    </tr>\n",
       "    <tr>\n",
       "      <th>2021-08-30 20:59:59</th>\n",
       "      <td>25.0</td>\n",
       "      <td>23.559061</td>\n",
       "      <td>22.604218</td>\n",
       "      <td>22.177074</td>\n",
       "      <td>24.073885</td>\n",
       "    </tr>\n",
       "    <tr>\n",
       "      <th>2021-08-30 21:59:59</th>\n",
       "      <td>28.0</td>\n",
       "      <td>23.254498</td>\n",
       "      <td>26.123623</td>\n",
       "      <td>23.198921</td>\n",
       "      <td>26.561949</td>\n",
       "    </tr>\n",
       "    <tr>\n",
       "      <th>2021-08-30 22:59:59</th>\n",
       "      <td>31.0</td>\n",
       "      <td>23.546186</td>\n",
       "      <td>25.853858</td>\n",
       "      <td>24.425305</td>\n",
       "      <td>23.040419</td>\n",
       "    </tr>\n",
       "  </tbody>\n",
       "</table>\n",
       "<p>9455 rows × 5 columns</p>\n",
       "</div>"
      ],
      "text/plain": [
       "                     NO2_index  forecast_24  forecast_12  forecast_6  \\\n",
       "TIME                                                                   \n",
       "2020-08-02 00:59:59       14.0    10.890550    15.196997   14.217585   \n",
       "2020-08-02 01:59:59       12.0    10.359535    10.267748    8.544177   \n",
       "2020-08-02 02:59:59       16.0     7.721643     9.348363    6.765913   \n",
       "2020-08-02 03:59:59       16.0     8.818094     9.454069    7.300588   \n",
       "2020-08-02 04:59:59        4.0     9.987590    11.324408    9.279560   \n",
       "...                        ...          ...          ...         ...   \n",
       "2021-08-30 18:59:59       17.0    11.806960     9.827061   11.488062   \n",
       "2021-08-30 19:59:59       17.0    17.576332    15.718573   17.581867   \n",
       "2021-08-30 20:59:59       25.0    23.559061    22.604218   22.177074   \n",
       "2021-08-30 21:59:59       28.0    23.254498    26.123623   23.198921   \n",
       "2021-08-30 22:59:59       31.0    23.546186    25.853858   24.425305   \n",
       "\n",
       "                     forecast_2  \n",
       "TIME                             \n",
       "2020-08-02 00:59:59   10.675587  \n",
       "2020-08-02 01:59:59    7.035286  \n",
       "2020-08-02 02:59:59    6.232318  \n",
       "2020-08-02 03:59:59    9.120204  \n",
       "2020-08-02 04:59:59   12.004380  \n",
       "...                         ...  \n",
       "2021-08-30 18:59:59   13.734886  \n",
       "2021-08-30 19:59:59   20.518584  \n",
       "2021-08-30 20:59:59   24.073885  \n",
       "2021-08-30 21:59:59   26.561949  \n",
       "2021-08-30 22:59:59   23.040419  \n",
       "\n",
       "[9455 rows x 5 columns]"
      ]
     },
     "execution_count": 161,
     "metadata": {},
     "output_type": "execute_result"
    }
   ],
   "source": [
    "data"
   ]
  },
  {
   "cell_type": "code",
   "execution_count": 164,
   "metadata": {},
   "outputs": [
    {
     "data": {
      "image/png": "[encoded data removed]",
      "text/plain": [
       "<Figure size 864x576 with 1 Axes>"
      ]
     },
     "metadata": {},
     "output_type": "display_data"
    }
   ],
   "source": [
    "#Plotting 24-12-6-2 hours prediction window vs real data\n",
    "################################################\n",
    "\n",
    "data[['NO2_index', 'forecast_24']].plot(figsize=(12, 8))\n",
    "\n",
    "plt.ylabel(\"$NO_2 (µg/m^3)$\", fontsize=12)\n",
    "plt.title(\"Forecasting 24 hours window vs Real data\");"
   ]
  },
  {
   "cell_type": "code",
   "execution_count": null,
   "metadata": {},
   "outputs": [],
   "source": []
  },
  {
   "cell_type": "code",
   "execution_count": null,
   "metadata": {},
   "outputs": [],
   "source": []
  },
  {
   "cell_type": "code",
   "execution_count": null,
   "metadata": {},
   "outputs": [],
   "source": []
  },
  {
   "cell_type": "code",
   "execution_count": null,
   "metadata": {},
   "outputs": [],
   "source": []
  },
  {
   "cell_type": "code",
   "execution_count": null,
   "metadata": {},
   "outputs": [],
   "source": []
  },
  {
   "cell_type": "code",
   "execution_count": null,
   "metadata": {},
   "outputs": [],
   "source": []
  },
  {
   "cell_type": "code",
   "execution_count": null,
   "metadata": {},
   "outputs": [],
   "source": []
  },
  {
   "cell_type": "code",
   "execution_count": null,
   "metadata": {},
   "outputs": [],
   "source": []
  },
  {
   "cell_type": "code",
   "execution_count": null,
   "metadata": {},
   "outputs": [],
   "source": []
  },
  {
   "cell_type": "code",
   "execution_count": null,
   "metadata": {},
   "outputs": [],
   "source": []
  },
  {
   "cell_type": "code",
   "execution_count": null,
   "metadata": {},
   "outputs": [],
   "source": []
  },
  {
   "cell_type": "code",
   "execution_count": 102,
   "metadata": {},
   "outputs": [],
   "source": [
    "#Defining timing to start prediction\n",
    "####################################\n",
    "\n",
    "#Splitting train and test dataset\n",
    "#################################\n",
    "\n",
    "train_data = poc_16['2019-01-01 00:00:59':'2020-07-31 00:00:59']\n",
    "test_data = poc_16['2020-08-01 00:00:59':'2021-08-31 23:59:59']\n",
    "\n"
   ]
  },
  {
   "cell_type": "code",
   "execution_count": 103,
   "metadata": {},
   "outputs": [],
   "source": [
    "time_slot = pd.to_datetime('2020-08-01 02:59:59')"
   ]
  },
  {
   "cell_type": "code",
   "execution_count": 104,
   "metadata": {
    "scrolled": true
   },
   "outputs": [
    {
     "data": {
      "text/html": [
       "<div>\n",
       "<style scoped>\n",
       "    .dataframe tbody tr th:only-of-type {\n",
       "        vertical-align: middle;\n",
       "    }\n",
       "\n",
       "    .dataframe tbody tr th {\n",
       "        vertical-align: top;\n",
       "    }\n",
       "\n",
       "    .dataframe thead th {\n",
       "        text-align: right;\n",
       "    }\n",
       "</style>\n",
       "<table border=\"1\" class=\"dataframe\">\n",
       "  <thead>\n",
       "    <tr style=\"text-align: right;\">\n",
       "      <th></th>\n",
       "      <th>NO2_index</th>\n",
       "    </tr>\n",
       "    <tr>\n",
       "      <th>TIME</th>\n",
       "      <th></th>\n",
       "    </tr>\n",
       "  </thead>\n",
       "  <tbody>\n",
       "    <tr>\n",
       "      <th>2020-08-01 00:59:59</th>\n",
       "      <td>23.0</td>\n",
       "    </tr>\n",
       "    <tr>\n",
       "      <th>2020-08-01 01:59:59</th>\n",
       "      <td>16.0</td>\n",
       "    </tr>\n",
       "    <tr>\n",
       "      <th>2020-08-01 02:59:59</th>\n",
       "      <td>20.0</td>\n",
       "    </tr>\n",
       "  </tbody>\n",
       "</table>\n",
       "</div>"
      ],
      "text/plain": [
       "                     NO2_index\n",
       "TIME                          \n",
       "2020-08-01 00:59:59       23.0\n",
       "2020-08-01 01:59:59       16.0\n",
       "2020-08-01 02:59:59       20.0"
      ]
     },
     "execution_count": 104,
     "metadata": {},
     "output_type": "execute_result"
    }
   ],
   "source": [
    "test_data[:'2020-08-01 02:59:59']"
   ]
  },
  {
   "cell_type": "code",
   "execution_count": 106,
   "metadata": {},
   "outputs": [
    {
     "data": {
      "text/html": [
       "<div>\n",
       "<style scoped>\n",
       "    .dataframe tbody tr th:only-of-type {\n",
       "        vertical-align: middle;\n",
       "    }\n",
       "\n",
       "    .dataframe tbody tr th {\n",
       "        vertical-align: top;\n",
       "    }\n",
       "\n",
       "    .dataframe thead th {\n",
       "        text-align: right;\n",
       "    }\n",
       "</style>\n",
       "<table border=\"1\" class=\"dataframe\">\n",
       "  <thead>\n",
       "    <tr style=\"text-align: right;\">\n",
       "      <th></th>\n",
       "      <th>NO2_index</th>\n",
       "    </tr>\n",
       "    <tr>\n",
       "      <th>TIME</th>\n",
       "      <th></th>\n",
       "    </tr>\n",
       "  </thead>\n",
       "  <tbody>\n",
       "    <tr>\n",
       "      <th>2019-01-01 00:59:59</th>\n",
       "      <td>53.0</td>\n",
       "    </tr>\n",
       "    <tr>\n",
       "      <th>2019-01-01 01:59:59</th>\n",
       "      <td>44.0</td>\n",
       "    </tr>\n",
       "    <tr>\n",
       "      <th>2019-01-01 02:59:59</th>\n",
       "      <td>54.0</td>\n",
       "    </tr>\n",
       "    <tr>\n",
       "      <th>2019-01-01 03:59:59</th>\n",
       "      <td>43.0</td>\n",
       "    </tr>\n",
       "    <tr>\n",
       "      <th>2019-01-01 04:59:59</th>\n",
       "      <td>42.0</td>\n",
       "    </tr>\n",
       "    <tr>\n",
       "      <th>...</th>\n",
       "      <td>...</td>\n",
       "    </tr>\n",
       "    <tr>\n",
       "      <th>2020-07-30 22:59:59</th>\n",
       "      <td>11.0</td>\n",
       "    </tr>\n",
       "    <tr>\n",
       "      <th>2020-07-30 23:59:59</th>\n",
       "      <td>10.0</td>\n",
       "    </tr>\n",
       "    <tr>\n",
       "      <th>2020-08-01 00:59:59</th>\n",
       "      <td>23.0</td>\n",
       "    </tr>\n",
       "    <tr>\n",
       "      <th>2020-08-01 01:59:59</th>\n",
       "      <td>16.0</td>\n",
       "    </tr>\n",
       "    <tr>\n",
       "      <th>2020-08-01 02:59:59</th>\n",
       "      <td>20.0</td>\n",
       "    </tr>\n",
       "  </tbody>\n",
       "</table>\n",
       "<p>13851 rows × 1 columns</p>\n",
       "</div>"
      ],
      "text/plain": [
       "                     NO2_index\n",
       "TIME                          \n",
       "2019-01-01 00:59:59       53.0\n",
       "2019-01-01 01:59:59       44.0\n",
       "2019-01-01 02:59:59       54.0\n",
       "2019-01-01 03:59:59       43.0\n",
       "2019-01-01 04:59:59       42.0\n",
       "...                        ...\n",
       "2020-07-30 22:59:59       11.0\n",
       "2020-07-30 23:59:59       10.0\n",
       "2020-08-01 00:59:59       23.0\n",
       "2020-08-01 01:59:59       16.0\n",
       "2020-08-01 02:59:59       20.0\n",
       "\n",
       "[13851 rows x 1 columns]"
      ]
     },
     "execution_count": 106,
     "metadata": {},
     "output_type": "execute_result"
    }
   ],
   "source": [
    "data = pd.concat([train_data, test_data[:'2020-08-01 02:59:59']])[['NO2_index']]\n",
    "data"
   ]
  },
  {
   "cell_type": "code",
   "execution_count": 107,
   "metadata": {},
   "outputs": [],
   "source": [
    "from datetime import timedelta"
   ]
  },
  {
   "cell_type": "code",
   "execution_count": 108,
   "metadata": {},
   "outputs": [],
   "source": [
    "data = pd.concat([data, pd.DataFrame(index=[time_slot + timedelta(hours=i) for i in range(1,25)])])"
   ]
  },
  {
   "cell_type": "code",
   "execution_count": 109,
   "metadata": {},
   "outputs": [
    {
     "data": {
      "text/html": [
       "<div>\n",
       "<style scoped>\n",
       "    .dataframe tbody tr th:only-of-type {\n",
       "        vertical-align: middle;\n",
       "    }\n",
       "\n",
       "    .dataframe tbody tr th {\n",
       "        vertical-align: top;\n",
       "    }\n",
       "\n",
       "    .dataframe thead th {\n",
       "        text-align: right;\n",
       "    }\n",
       "</style>\n",
       "<table border=\"1\" class=\"dataframe\">\n",
       "  <thead>\n",
       "    <tr style=\"text-align: right;\">\n",
       "      <th></th>\n",
       "      <th>NO2_index</th>\n",
       "    </tr>\n",
       "  </thead>\n",
       "  <tbody>\n",
       "    <tr>\n",
       "      <th>2019-01-01 00:59:59</th>\n",
       "      <td>53.0</td>\n",
       "    </tr>\n",
       "    <tr>\n",
       "      <th>2019-01-01 01:59:59</th>\n",
       "      <td>44.0</td>\n",
       "    </tr>\n",
       "    <tr>\n",
       "      <th>2019-01-01 02:59:59</th>\n",
       "      <td>54.0</td>\n",
       "    </tr>\n",
       "    <tr>\n",
       "      <th>2019-01-01 03:59:59</th>\n",
       "      <td>43.0</td>\n",
       "    </tr>\n",
       "    <tr>\n",
       "      <th>2019-01-01 04:59:59</th>\n",
       "      <td>42.0</td>\n",
       "    </tr>\n",
       "    <tr>\n",
       "      <th>...</th>\n",
       "      <td>...</td>\n",
       "    </tr>\n",
       "    <tr>\n",
       "      <th>2020-08-01 22:59:59</th>\n",
       "      <td>NaN</td>\n",
       "    </tr>\n",
       "    <tr>\n",
       "      <th>2020-08-01 23:59:59</th>\n",
       "      <td>NaN</td>\n",
       "    </tr>\n",
       "    <tr>\n",
       "      <th>2020-08-02 00:59:59</th>\n",
       "      <td>NaN</td>\n",
       "    </tr>\n",
       "    <tr>\n",
       "      <th>2020-08-02 01:59:59</th>\n",
       "      <td>NaN</td>\n",
       "    </tr>\n",
       "    <tr>\n",
       "      <th>2020-08-02 02:59:59</th>\n",
       "      <td>NaN</td>\n",
       "    </tr>\n",
       "  </tbody>\n",
       "</table>\n",
       "<p>13875 rows × 1 columns</p>\n",
       "</div>"
      ],
      "text/plain": [
       "                     NO2_index\n",
       "2019-01-01 00:59:59       53.0\n",
       "2019-01-01 01:59:59       44.0\n",
       "2019-01-01 02:59:59       54.0\n",
       "2019-01-01 03:59:59       43.0\n",
       "2019-01-01 04:59:59       42.0\n",
       "...                        ...\n",
       "2020-08-01 22:59:59        NaN\n",
       "2020-08-01 23:59:59        NaN\n",
       "2020-08-02 00:59:59        NaN\n",
       "2020-08-02 01:59:59        NaN\n",
       "2020-08-02 02:59:59        NaN\n",
       "\n",
       "[13875 rows x 1 columns]"
      ]
     },
     "execution_count": 109,
     "metadata": {},
     "output_type": "execute_result"
    }
   ],
   "source": [
    "data"
   ]
  },
  {
   "cell_type": "code",
   "execution_count": 110,
   "metadata": {},
   "outputs": [],
   "source": [
    "modelB = sm.tsa.SARIMAX(data, order=(3,0,1),\n",
    "                                seasonal_order=(3,1,1,12),\n",
    "                                enforce_stationarity=False,\n",
    "                                enforce_invertibility=False)\n",
    "resB = modelB.smooth(results.params)"
   ]
  },
  {
   "cell_type": "code",
   "execution_count": 112,
   "metadata": {},
   "outputs": [
    {
     "ename": "KeyError",
     "evalue": "'The `start` argument could not be matched to a location related to the index of the data.'",
     "output_type": "error",
     "traceback": [
      "\u001b[0;31m---------------------------------------------------------------------------\u001b[0m",
      "\u001b[0;31mKeyError\u001b[0m                                  Traceback (most recent call last)",
      "\u001b[0;32m~/opt/anaconda3/lib/python3.8/site-packages/pandas/core/indexes/base.py\u001b[0m in \u001b[0;36mget_loc\u001b[0;34m(self, key, method, tolerance)\u001b[0m\n\u001b[1;32m   2894\u001b[0m             \u001b[0;32mtry\u001b[0m\u001b[0;34m:\u001b[0m\u001b[0;34m\u001b[0m\u001b[0;34m\u001b[0m\u001b[0m\n\u001b[0;32m-> 2895\u001b[0;31m                 \u001b[0;32mreturn\u001b[0m \u001b[0mself\u001b[0m\u001b[0;34m.\u001b[0m\u001b[0m_engine\u001b[0m\u001b[0;34m.\u001b[0m\u001b[0mget_loc\u001b[0m\u001b[0;34m(\u001b[0m\u001b[0mcasted_key\u001b[0m\u001b[0;34m)\u001b[0m\u001b[0;34m\u001b[0m\u001b[0;34m\u001b[0m\u001b[0m\n\u001b[0m\u001b[1;32m   2896\u001b[0m             \u001b[0;32mexcept\u001b[0m \u001b[0mKeyError\u001b[0m \u001b[0;32mas\u001b[0m \u001b[0merr\u001b[0m\u001b[0;34m:\u001b[0m\u001b[0;34m\u001b[0m\u001b[0;34m\u001b[0m\u001b[0m\n",
      "\u001b[0;32mpandas/_libs/index.pyx\u001b[0m in \u001b[0;36mpandas._libs.index.IndexEngine.get_loc\u001b[0;34m()\u001b[0m\n",
      "\u001b[0;32mpandas/_libs/index.pyx\u001b[0m in \u001b[0;36mpandas._libs.index.IndexEngine.get_loc\u001b[0;34m()\u001b[0m\n",
      "\u001b[0;32mpandas/_libs/hashtable_class_helper.pxi\u001b[0m in \u001b[0;36mpandas._libs.hashtable.PyObjectHashTable.get_item\u001b[0;34m()\u001b[0m\n",
      "\u001b[0;32mpandas/_libs/hashtable_class_helper.pxi\u001b[0m in \u001b[0;36mpandas._libs.hashtable.PyObjectHashTable.get_item\u001b[0;34m()\u001b[0m\n",
      "\u001b[0;31mKeyError\u001b[0m: Timestamp('2020-08-01 00:59:59')",
      "\nThe above exception was the direct cause of the following exception:\n",
      "\u001b[0;31mKeyError\u001b[0m                                  Traceback (most recent call last)",
      "\u001b[0;32m~/opt/anaconda3/lib/python3.8/site-packages/statsmodels/tsa/base/tsa_model.py\u001b[0m in \u001b[0;36mget_index_label_loc\u001b[0;34m(key, index, row_labels)\u001b[0m\n\u001b[1;32m    237\u001b[0m             \u001b[0;32mif\u001b[0m \u001b[0;32mnot\u001b[0m \u001b[0misinstance\u001b[0m\u001b[0;34m(\u001b[0m\u001b[0mkey\u001b[0m\u001b[0;34m,\u001b[0m \u001b[0;34m(\u001b[0m\u001b[0mint\u001b[0m\u001b[0;34m,\u001b[0m \u001b[0mnp\u001b[0m\u001b[0;34m.\u001b[0m\u001b[0minteger\u001b[0m\u001b[0;34m)\u001b[0m\u001b[0;34m)\u001b[0m\u001b[0;34m:\u001b[0m\u001b[0;34m\u001b[0m\u001b[0;34m\u001b[0m\u001b[0m\n\u001b[0;32m--> 238\u001b[0;31m                 \u001b[0mloc\u001b[0m \u001b[0;34m=\u001b[0m \u001b[0mrow_labels\u001b[0m\u001b[0;34m.\u001b[0m\u001b[0mget_loc\u001b[0m\u001b[0;34m(\u001b[0m\u001b[0mkey\u001b[0m\u001b[0;34m)\u001b[0m\u001b[0;34m\u001b[0m\u001b[0;34m\u001b[0m\u001b[0m\n\u001b[0m\u001b[1;32m    239\u001b[0m             \u001b[0;32melse\u001b[0m\u001b[0;34m:\u001b[0m\u001b[0;34m\u001b[0m\u001b[0;34m\u001b[0m\u001b[0m\n",
      "\u001b[0;32m~/opt/anaconda3/lib/python3.8/site-packages/pandas/core/indexes/base.py\u001b[0m in \u001b[0;36mget_loc\u001b[0;34m(self, key, method, tolerance)\u001b[0m\n\u001b[1;32m   2896\u001b[0m             \u001b[0;32mexcept\u001b[0m \u001b[0mKeyError\u001b[0m \u001b[0;32mas\u001b[0m \u001b[0merr\u001b[0m\u001b[0;34m:\u001b[0m\u001b[0;34m\u001b[0m\u001b[0;34m\u001b[0m\u001b[0m\n\u001b[0;32m-> 2897\u001b[0;31m                 \u001b[0;32mraise\u001b[0m \u001b[0mKeyError\u001b[0m\u001b[0;34m(\u001b[0m\u001b[0mkey\u001b[0m\u001b[0;34m)\u001b[0m \u001b[0;32mfrom\u001b[0m \u001b[0merr\u001b[0m\u001b[0;34m\u001b[0m\u001b[0;34m\u001b[0m\u001b[0m\n\u001b[0m\u001b[1;32m   2898\u001b[0m \u001b[0;34m\u001b[0m\u001b[0m\n",
      "\u001b[0;31mKeyError\u001b[0m: Timestamp('2020-08-01 00:59:59')",
      "\nDuring handling of the above exception, another exception occurred:\n",
      "\u001b[0;31mKeyError\u001b[0m                                  Traceback (most recent call last)",
      "\u001b[0;32m~/opt/anaconda3/lib/python3.8/site-packages/statsmodels/tsa/base/tsa_model.py\u001b[0m in \u001b[0;36mget_prediction_index\u001b[0;34m(start, end, nobs, base_index, index, silent, index_none, index_generated, data)\u001b[0m\n\u001b[1;32m    337\u001b[0m     \u001b[0;32mtry\u001b[0m\u001b[0;34m:\u001b[0m\u001b[0;34m\u001b[0m\u001b[0;34m\u001b[0m\u001b[0m\n\u001b[0;32m--> 338\u001b[0;31m         \u001b[0mstart\u001b[0m\u001b[0;34m,\u001b[0m \u001b[0m_\u001b[0m\u001b[0;34m,\u001b[0m \u001b[0mstart_oos\u001b[0m \u001b[0;34m=\u001b[0m \u001b[0mget_index_label_loc\u001b[0m\u001b[0;34m(\u001b[0m\u001b[0mstart\u001b[0m\u001b[0;34m,\u001b[0m \u001b[0mbase_index\u001b[0m\u001b[0;34m,\u001b[0m \u001b[0mdata\u001b[0m\u001b[0;34m.\u001b[0m\u001b[0mrow_labels\u001b[0m\u001b[0;34m)\u001b[0m\u001b[0;34m\u001b[0m\u001b[0;34m\u001b[0m\u001b[0m\n\u001b[0m\u001b[1;32m    339\u001b[0m     \u001b[0;32mexcept\u001b[0m \u001b[0mKeyError\u001b[0m\u001b[0;34m:\u001b[0m\u001b[0;34m\u001b[0m\u001b[0;34m\u001b[0m\u001b[0m\n",
      "\u001b[0;32m~/opt/anaconda3/lib/python3.8/site-packages/statsmodels/tsa/base/tsa_model.py\u001b[0m in \u001b[0;36mget_index_label_loc\u001b[0;34m(key, index, row_labels)\u001b[0m\n\u001b[1;32m    269\u001b[0m         \u001b[0;32mexcept\u001b[0m\u001b[0;34m:\u001b[0m\u001b[0;34m\u001b[0m\u001b[0;34m\u001b[0m\u001b[0m\n\u001b[0;32m--> 270\u001b[0;31m             \u001b[0;32mraise\u001b[0m \u001b[0me\u001b[0m\u001b[0;34m\u001b[0m\u001b[0;34m\u001b[0m\u001b[0m\n\u001b[0m\u001b[1;32m    271\u001b[0m     \u001b[0;32mreturn\u001b[0m \u001b[0mloc\u001b[0m\u001b[0;34m,\u001b[0m \u001b[0mindex\u001b[0m\u001b[0;34m,\u001b[0m \u001b[0mindex_was_expanded\u001b[0m\u001b[0;34m\u001b[0m\u001b[0;34m\u001b[0m\u001b[0m\n",
      "\u001b[0;32m~/opt/anaconda3/lib/python3.8/site-packages/statsmodels/tsa/base/tsa_model.py\u001b[0m in \u001b[0;36mget_index_label_loc\u001b[0;34m(key, index, row_labels)\u001b[0m\n\u001b[1;32m    233\u001b[0m     \u001b[0;32mtry\u001b[0m\u001b[0;34m:\u001b[0m\u001b[0;34m\u001b[0m\u001b[0;34m\u001b[0m\u001b[0m\n\u001b[0;32m--> 234\u001b[0;31m         \u001b[0mloc\u001b[0m\u001b[0;34m,\u001b[0m \u001b[0mindex\u001b[0m\u001b[0;34m,\u001b[0m \u001b[0mindex_was_expanded\u001b[0m \u001b[0;34m=\u001b[0m \u001b[0mget_index_loc\u001b[0m\u001b[0;34m(\u001b[0m\u001b[0mkey\u001b[0m\u001b[0;34m,\u001b[0m \u001b[0mindex\u001b[0m\u001b[0;34m)\u001b[0m\u001b[0;34m\u001b[0m\u001b[0;34m\u001b[0m\u001b[0m\n\u001b[0m\u001b[1;32m    235\u001b[0m     \u001b[0;32mexcept\u001b[0m \u001b[0mKeyError\u001b[0m \u001b[0;32mas\u001b[0m \u001b[0me\u001b[0m\u001b[0;34m:\u001b[0m\u001b[0;34m\u001b[0m\u001b[0;34m\u001b[0m\u001b[0m\n",
      "\u001b[0;32m~/opt/anaconda3/lib/python3.8/site-packages/statsmodels/tsa/base/tsa_model.py\u001b[0m in \u001b[0;36mget_index_loc\u001b[0;34m(key, index)\u001b[0m\n\u001b[1;32m    183\u001b[0m         \u001b[0;32mexcept\u001b[0m \u001b[0;34m(\u001b[0m\u001b[0mIndexError\u001b[0m\u001b[0;34m,\u001b[0m \u001b[0mValueError\u001b[0m\u001b[0;34m)\u001b[0m \u001b[0;32mas\u001b[0m \u001b[0me\u001b[0m\u001b[0;34m:\u001b[0m\u001b[0;34m\u001b[0m\u001b[0;34m\u001b[0m\u001b[0m\n\u001b[0;32m--> 184\u001b[0;31m             \u001b[0;32mraise\u001b[0m \u001b[0mKeyError\u001b[0m\u001b[0;34m(\u001b[0m\u001b[0mstr\u001b[0m\u001b[0;34m(\u001b[0m\u001b[0me\u001b[0m\u001b[0;34m)\u001b[0m\u001b[0;34m)\u001b[0m\u001b[0;34m\u001b[0m\u001b[0;34m\u001b[0m\u001b[0m\n\u001b[0m\u001b[1;32m    185\u001b[0m         \u001b[0mloc\u001b[0m \u001b[0;34m=\u001b[0m \u001b[0mkey\u001b[0m\u001b[0;34m\u001b[0m\u001b[0;34m\u001b[0m\u001b[0m\n",
      "\u001b[0;31mKeyError\u001b[0m: 'only integers, slices (`:`), ellipsis (`...`), numpy.newaxis (`None`) and integer or boolean arrays are valid indices'",
      "\nDuring handling of the above exception, another exception occurred:\n",
      "\u001b[0;31mKeyError\u001b[0m                                  Traceback (most recent call last)",
      "\u001b[0;32m<ipython-input-112-4bddc24fe588>\u001b[0m in \u001b[0;36m<module>\u001b[0;34m\u001b[0m\n\u001b[0;32m----> 1\u001b[0;31m \u001b[0mdata\u001b[0m\u001b[0;34m[\u001b[0m\u001b[0;34m'forecast_24'\u001b[0m\u001b[0;34m]\u001b[0m \u001b[0;34m=\u001b[0m \u001b[0mresB\u001b[0m\u001b[0;34m.\u001b[0m\u001b[0mpredict\u001b[0m\u001b[0;34m(\u001b[0m\u001b[0mstart\u001b[0m\u001b[0;34m=\u001b[0m\u001b[0mtime_slot\u001b[0m \u001b[0;34m+\u001b[0m \u001b[0mtimedelta\u001b[0m\u001b[0;34m(\u001b[0m\u001b[0mhours\u001b[0m\u001b[0;34m=\u001b[0m\u001b[0;34m-\u001b[0m\u001b[0;36m2\u001b[0m\u001b[0;34m)\u001b[0m\u001b[0;34m,\u001b[0m \u001b[0mend\u001b[0m \u001b[0;34m=\u001b[0m \u001b[0mtime_slot\u001b[0m \u001b[0;34m+\u001b[0m \u001b[0mtimedelta\u001b[0m\u001b[0;34m(\u001b[0m\u001b[0mhours\u001b[0m\u001b[0;34m=\u001b[0m\u001b[0;36m24\u001b[0m\u001b[0;34m)\u001b[0m\u001b[0;34m,\u001b[0m \u001b[0mdynamic\u001b[0m\u001b[0;34m=\u001b[0m\u001b[0;32mTrue\u001b[0m\u001b[0;34m)\u001b[0m\u001b[0;34m\u001b[0m\u001b[0;34m\u001b[0m\u001b[0m\n\u001b[0m",
      "\u001b[0;32m~/opt/anaconda3/lib/python3.8/site-packages/statsmodels/base/wrapper.py\u001b[0m in \u001b[0;36mwrapper\u001b[0;34m(self, *args, **kwargs)\u001b[0m\n\u001b[1;32m    111\u001b[0m             \u001b[0mobj\u001b[0m \u001b[0;34m=\u001b[0m \u001b[0mdata\u001b[0m\u001b[0;34m.\u001b[0m\u001b[0mwrap_output\u001b[0m\u001b[0;34m(\u001b[0m\u001b[0mfunc\u001b[0m\u001b[0;34m(\u001b[0m\u001b[0mresults\u001b[0m\u001b[0;34m,\u001b[0m \u001b[0;34m*\u001b[0m\u001b[0margs\u001b[0m\u001b[0;34m,\u001b[0m \u001b[0;34m**\u001b[0m\u001b[0mkwargs\u001b[0m\u001b[0;34m)\u001b[0m\u001b[0;34m,\u001b[0m \u001b[0mhow\u001b[0m\u001b[0;34m[\u001b[0m\u001b[0;36m0\u001b[0m\u001b[0;34m]\u001b[0m\u001b[0;34m,\u001b[0m \u001b[0mhow\u001b[0m\u001b[0;34m[\u001b[0m\u001b[0;36m1\u001b[0m\u001b[0;34m:\u001b[0m\u001b[0;34m]\u001b[0m\u001b[0;34m)\u001b[0m\u001b[0;34m\u001b[0m\u001b[0;34m\u001b[0m\u001b[0m\n\u001b[1;32m    112\u001b[0m         \u001b[0;32melif\u001b[0m \u001b[0mhow\u001b[0m\u001b[0;34m:\u001b[0m\u001b[0;34m\u001b[0m\u001b[0;34m\u001b[0m\u001b[0m\n\u001b[0;32m--> 113\u001b[0;31m             \u001b[0mobj\u001b[0m \u001b[0;34m=\u001b[0m \u001b[0mdata\u001b[0m\u001b[0;34m.\u001b[0m\u001b[0mwrap_output\u001b[0m\u001b[0;34m(\u001b[0m\u001b[0mfunc\u001b[0m\u001b[0;34m(\u001b[0m\u001b[0mresults\u001b[0m\u001b[0;34m,\u001b[0m \u001b[0;34m*\u001b[0m\u001b[0margs\u001b[0m\u001b[0;34m,\u001b[0m \u001b[0;34m**\u001b[0m\u001b[0mkwargs\u001b[0m\u001b[0;34m)\u001b[0m\u001b[0;34m,\u001b[0m \u001b[0mhow\u001b[0m\u001b[0;34m)\u001b[0m\u001b[0;34m\u001b[0m\u001b[0;34m\u001b[0m\u001b[0m\n\u001b[0m\u001b[1;32m    114\u001b[0m         \u001b[0;32mreturn\u001b[0m \u001b[0mobj\u001b[0m\u001b[0;34m\u001b[0m\u001b[0;34m\u001b[0m\u001b[0m\n\u001b[1;32m    115\u001b[0m \u001b[0;34m\u001b[0m\u001b[0m\n",
      "\u001b[0;32m~/opt/anaconda3/lib/python3.8/site-packages/statsmodels/tsa/statespace/mlemodel.py\u001b[0m in \u001b[0;36mpredict\u001b[0;34m(self, start, end, dynamic, **kwargs)\u001b[0m\n\u001b[1;32m   3367\u001b[0m         \"\"\"\n\u001b[1;32m   3368\u001b[0m         \u001b[0;31m# Perform the prediction\u001b[0m\u001b[0;34m\u001b[0m\u001b[0;34m\u001b[0m\u001b[0;34m\u001b[0m\u001b[0m\n\u001b[0;32m-> 3369\u001b[0;31m         \u001b[0mprediction_results\u001b[0m \u001b[0;34m=\u001b[0m \u001b[0mself\u001b[0m\u001b[0;34m.\u001b[0m\u001b[0mget_prediction\u001b[0m\u001b[0;34m(\u001b[0m\u001b[0mstart\u001b[0m\u001b[0;34m,\u001b[0m \u001b[0mend\u001b[0m\u001b[0;34m,\u001b[0m \u001b[0mdynamic\u001b[0m\u001b[0;34m,\u001b[0m \u001b[0;34m**\u001b[0m\u001b[0mkwargs\u001b[0m\u001b[0;34m)\u001b[0m\u001b[0;34m\u001b[0m\u001b[0;34m\u001b[0m\u001b[0m\n\u001b[0m\u001b[1;32m   3370\u001b[0m         \u001b[0;32mreturn\u001b[0m \u001b[0mprediction_results\u001b[0m\u001b[0;34m.\u001b[0m\u001b[0mpredicted_mean\u001b[0m\u001b[0;34m\u001b[0m\u001b[0;34m\u001b[0m\u001b[0m\n\u001b[1;32m   3371\u001b[0m \u001b[0;34m\u001b[0m\u001b[0m\n",
      "\u001b[0;32m~/opt/anaconda3/lib/python3.8/site-packages/statsmodels/tsa/statespace/mlemodel.py\u001b[0m in \u001b[0;36mget_prediction\u001b[0;34m(self, start, end, dynamic, index, exog, extend_model, extend_kwargs, **kwargs)\u001b[0m\n\u001b[1;32m   3265\u001b[0m         \u001b[0;31m# Handle start, end, dynamic\u001b[0m\u001b[0;34m\u001b[0m\u001b[0;34m\u001b[0m\u001b[0;34m\u001b[0m\u001b[0m\n\u001b[1;32m   3266\u001b[0m         start, end, out_of_sample, prediction_index = (\n\u001b[0;32m-> 3267\u001b[0;31m             self.model._get_prediction_index(start, end, index))\n\u001b[0m\u001b[1;32m   3268\u001b[0m \u001b[0;34m\u001b[0m\u001b[0m\n\u001b[1;32m   3269\u001b[0m         \u001b[0;31m# Handle `dynamic`\u001b[0m\u001b[0;34m\u001b[0m\u001b[0;34m\u001b[0m\u001b[0;34m\u001b[0m\u001b[0m\n",
      "\u001b[0;32m~/opt/anaconda3/lib/python3.8/site-packages/statsmodels/tsa/base/tsa_model.py\u001b[0m in \u001b[0;36m_get_prediction_index\u001b[0;34m(self, start, end, index, silent)\u001b[0m\n\u001b[1;32m    748\u001b[0m         \"\"\"\n\u001b[1;32m    749\u001b[0m         \u001b[0mnobs\u001b[0m \u001b[0;34m=\u001b[0m \u001b[0mlen\u001b[0m\u001b[0;34m(\u001b[0m\u001b[0mself\u001b[0m\u001b[0;34m.\u001b[0m\u001b[0mendog\u001b[0m\u001b[0;34m)\u001b[0m\u001b[0;34m\u001b[0m\u001b[0;34m\u001b[0m\u001b[0m\n\u001b[0;32m--> 750\u001b[0;31m         return get_prediction_index(start,\n\u001b[0m\u001b[1;32m    751\u001b[0m                                     \u001b[0mend\u001b[0m\u001b[0;34m,\u001b[0m\u001b[0;34m\u001b[0m\u001b[0;34m\u001b[0m\u001b[0m\n\u001b[1;32m    752\u001b[0m                                     \u001b[0mnobs\u001b[0m\u001b[0;34m,\u001b[0m\u001b[0;34m\u001b[0m\u001b[0;34m\u001b[0m\u001b[0m\n",
      "\u001b[0;32m~/opt/anaconda3/lib/python3.8/site-packages/statsmodels/tsa/base/tsa_model.py\u001b[0m in \u001b[0;36mget_prediction_index\u001b[0;34m(start, end, nobs, base_index, index, silent, index_none, index_generated, data)\u001b[0m\n\u001b[1;32m    338\u001b[0m         \u001b[0mstart\u001b[0m\u001b[0;34m,\u001b[0m \u001b[0m_\u001b[0m\u001b[0;34m,\u001b[0m \u001b[0mstart_oos\u001b[0m \u001b[0;34m=\u001b[0m \u001b[0mget_index_label_loc\u001b[0m\u001b[0;34m(\u001b[0m\u001b[0mstart\u001b[0m\u001b[0;34m,\u001b[0m \u001b[0mbase_index\u001b[0m\u001b[0;34m,\u001b[0m \u001b[0mdata\u001b[0m\u001b[0;34m.\u001b[0m\u001b[0mrow_labels\u001b[0m\u001b[0;34m)\u001b[0m\u001b[0;34m\u001b[0m\u001b[0;34m\u001b[0m\u001b[0m\n\u001b[1;32m    339\u001b[0m     \u001b[0;32mexcept\u001b[0m \u001b[0mKeyError\u001b[0m\u001b[0;34m:\u001b[0m\u001b[0;34m\u001b[0m\u001b[0;34m\u001b[0m\u001b[0m\n\u001b[0;32m--> 340\u001b[0;31m         raise KeyError('The `start` argument could not be matched to a'\n\u001b[0m\u001b[1;32m    341\u001b[0m                        ' location related to the index of the data.')\n\u001b[1;32m    342\u001b[0m     \u001b[0;32mif\u001b[0m \u001b[0mend\u001b[0m \u001b[0;32mis\u001b[0m \u001b[0;32mNone\u001b[0m\u001b[0;34m:\u001b[0m\u001b[0;34m\u001b[0m\u001b[0;34m\u001b[0m\u001b[0m\n",
      "\u001b[0;31mKeyError\u001b[0m: 'The `start` argument could not be matched to a location related to the index of the data.'"
     ]
    }
   ],
   "source": [
    "data['forecast_24'] = resB.predict(start=time_slot + timedelta(hours=-2), end = time_slot + timedelta(hours=24), dynamic=True)"
   ]
  },
  {
   "cell_type": "code",
   "execution_count": 256,
   "metadata": {},
   "outputs": [
    {
     "data": {
      "text/html": [
       "<div>\n",
       "<style scoped>\n",
       "    .dataframe tbody tr th:only-of-type {\n",
       "        vertical-align: middle;\n",
       "    }\n",
       "\n",
       "    .dataframe tbody tr th {\n",
       "        vertical-align: top;\n",
       "    }\n",
       "\n",
       "    .dataframe thead th {\n",
       "        text-align: right;\n",
       "    }\n",
       "</style>\n",
       "<table border=\"1\" class=\"dataframe\">\n",
       "  <thead>\n",
       "    <tr style=\"text-align: right;\">\n",
       "      <th></th>\n",
       "      <th>NO2_index</th>\n",
       "      <th>forecast_24</th>\n",
       "    </tr>\n",
       "  </thead>\n",
       "  <tbody>\n",
       "    <tr>\n",
       "      <th>2020-07-31 21:59:59</th>\n",
       "      <td>19.0</td>\n",
       "      <td>NaN</td>\n",
       "    </tr>\n",
       "    <tr>\n",
       "      <th>2020-07-31 22:59:59</th>\n",
       "      <td>25.0</td>\n",
       "      <td>NaN</td>\n",
       "    </tr>\n",
       "    <tr>\n",
       "      <th>2020-07-31 23:59:59</th>\n",
       "      <td>19.0</td>\n",
       "      <td>NaN</td>\n",
       "    </tr>\n",
       "    <tr>\n",
       "      <th>2020-08-01 00:59:59</th>\n",
       "      <td>23.0</td>\n",
       "      <td>16.725736</td>\n",
       "    </tr>\n",
       "    <tr>\n",
       "      <th>2020-08-01 01:59:59</th>\n",
       "      <td>16.0</td>\n",
       "      <td>12.369513</td>\n",
       "    </tr>\n",
       "    <tr>\n",
       "      <th>2020-08-01 02:59:59</th>\n",
       "      <td>20.0</td>\n",
       "      <td>10.229939</td>\n",
       "    </tr>\n",
       "    <tr>\n",
       "      <th>2020-08-01 03:59:59</th>\n",
       "      <td>NaN</td>\n",
       "      <td>8.320714</td>\n",
       "    </tr>\n",
       "    <tr>\n",
       "      <th>2020-08-01 04:59:59</th>\n",
       "      <td>NaN</td>\n",
       "      <td>8.191920</td>\n",
       "    </tr>\n",
       "    <tr>\n",
       "      <th>2020-08-01 05:59:59</th>\n",
       "      <td>NaN</td>\n",
       "      <td>9.112101</td>\n",
       "    </tr>\n",
       "    <tr>\n",
       "      <th>2020-08-01 06:59:59</th>\n",
       "      <td>NaN</td>\n",
       "      <td>12.064710</td>\n",
       "    </tr>\n",
       "    <tr>\n",
       "      <th>2020-08-01 07:59:59</th>\n",
       "      <td>NaN</td>\n",
       "      <td>14.705088</td>\n",
       "    </tr>\n",
       "    <tr>\n",
       "      <th>2020-08-01 08:59:59</th>\n",
       "      <td>NaN</td>\n",
       "      <td>14.703848</td>\n",
       "    </tr>\n",
       "    <tr>\n",
       "      <th>2020-08-01 09:59:59</th>\n",
       "      <td>NaN</td>\n",
       "      <td>15.415621</td>\n",
       "    </tr>\n",
       "    <tr>\n",
       "      <th>2020-08-01 10:59:59</th>\n",
       "      <td>NaN</td>\n",
       "      <td>16.604871</td>\n",
       "    </tr>\n",
       "    <tr>\n",
       "      <th>2020-08-01 11:59:59</th>\n",
       "      <td>NaN</td>\n",
       "      <td>15.942692</td>\n",
       "    </tr>\n",
       "    <tr>\n",
       "      <th>2020-08-01 12:59:59</th>\n",
       "      <td>NaN</td>\n",
       "      <td>14.592984</td>\n",
       "    </tr>\n",
       "    <tr>\n",
       "      <th>2020-08-01 13:59:59</th>\n",
       "      <td>NaN</td>\n",
       "      <td>8.913370</td>\n",
       "    </tr>\n",
       "    <tr>\n",
       "      <th>2020-08-01 14:59:59</th>\n",
       "      <td>NaN</td>\n",
       "      <td>6.937163</td>\n",
       "    </tr>\n",
       "    <tr>\n",
       "      <th>2020-08-01 15:59:59</th>\n",
       "      <td>NaN</td>\n",
       "      <td>7.241820</td>\n",
       "    </tr>\n",
       "    <tr>\n",
       "      <th>2020-08-01 16:59:59</th>\n",
       "      <td>NaN</td>\n",
       "      <td>7.602447</td>\n",
       "    </tr>\n",
       "    <tr>\n",
       "      <th>2020-08-01 17:59:59</th>\n",
       "      <td>NaN</td>\n",
       "      <td>8.538280</td>\n",
       "    </tr>\n",
       "    <tr>\n",
       "      <th>2020-08-01 18:59:59</th>\n",
       "      <td>NaN</td>\n",
       "      <td>10.478273</td>\n",
       "    </tr>\n",
       "    <tr>\n",
       "      <th>2020-08-01 19:59:59</th>\n",
       "      <td>NaN</td>\n",
       "      <td>13.296222</td>\n",
       "    </tr>\n",
       "    <tr>\n",
       "      <th>2020-08-01 20:59:59</th>\n",
       "      <td>NaN</td>\n",
       "      <td>13.401122</td>\n",
       "    </tr>\n",
       "    <tr>\n",
       "      <th>2020-08-01 21:59:59</th>\n",
       "      <td>NaN</td>\n",
       "      <td>15.800965</td>\n",
       "    </tr>\n",
       "    <tr>\n",
       "      <th>2020-08-01 22:59:59</th>\n",
       "      <td>NaN</td>\n",
       "      <td>17.620421</td>\n",
       "    </tr>\n",
       "    <tr>\n",
       "      <th>2020-08-01 23:59:59</th>\n",
       "      <td>NaN</td>\n",
       "      <td>14.791974</td>\n",
       "    </tr>\n",
       "    <tr>\n",
       "      <th>2020-08-02 00:59:59</th>\n",
       "      <td>NaN</td>\n",
       "      <td>13.424882</td>\n",
       "    </tr>\n",
       "    <tr>\n",
       "      <th>2020-08-02 01:59:59</th>\n",
       "      <td>NaN</td>\n",
       "      <td>9.589579</td>\n",
       "    </tr>\n",
       "    <tr>\n",
       "      <th>2020-08-02 02:59:59</th>\n",
       "      <td>NaN</td>\n",
       "      <td>8.252964</td>\n",
       "    </tr>\n",
       "  </tbody>\n",
       "</table>\n",
       "</div>"
      ],
      "text/plain": [
       "                     NO2_index  forecast_24\n",
       "2020-07-31 21:59:59       19.0          NaN\n",
       "2020-07-31 22:59:59       25.0          NaN\n",
       "2020-07-31 23:59:59       19.0          NaN\n",
       "2020-08-01 00:59:59       23.0    16.725736\n",
       "2020-08-01 01:59:59       16.0    12.369513\n",
       "2020-08-01 02:59:59       20.0    10.229939\n",
       "2020-08-01 03:59:59        NaN     8.320714\n",
       "2020-08-01 04:59:59        NaN     8.191920\n",
       "2020-08-01 05:59:59        NaN     9.112101\n",
       "2020-08-01 06:59:59        NaN    12.064710\n",
       "2020-08-01 07:59:59        NaN    14.705088\n",
       "2020-08-01 08:59:59        NaN    14.703848\n",
       "2020-08-01 09:59:59        NaN    15.415621\n",
       "2020-08-01 10:59:59        NaN    16.604871\n",
       "2020-08-01 11:59:59        NaN    15.942692\n",
       "2020-08-01 12:59:59        NaN    14.592984\n",
       "2020-08-01 13:59:59        NaN     8.913370\n",
       "2020-08-01 14:59:59        NaN     6.937163\n",
       "2020-08-01 15:59:59        NaN     7.241820\n",
       "2020-08-01 16:59:59        NaN     7.602447\n",
       "2020-08-01 17:59:59        NaN     8.538280\n",
       "2020-08-01 18:59:59        NaN    10.478273\n",
       "2020-08-01 19:59:59        NaN    13.296222\n",
       "2020-08-01 20:59:59        NaN    13.401122\n",
       "2020-08-01 21:59:59        NaN    15.800965\n",
       "2020-08-01 22:59:59        NaN    17.620421\n",
       "2020-08-01 23:59:59        NaN    14.791974\n",
       "2020-08-02 00:59:59        NaN    13.424882\n",
       "2020-08-02 01:59:59        NaN     9.589579\n",
       "2020-08-02 02:59:59        NaN     8.252964"
      ]
     },
     "execution_count": 256,
     "metadata": {},
     "output_type": "execute_result"
    }
   ],
   "source": [
    "data.tail(30)"
   ]
  },
  {
   "cell_type": "code",
   "execution_count": 251,
   "metadata": {},
   "outputs": [
    {
     "data": {
      "text/html": [
       "<div>\n",
       "<style scoped>\n",
       "    .dataframe tbody tr th:only-of-type {\n",
       "        vertical-align: middle;\n",
       "    }\n",
       "\n",
       "    .dataframe tbody tr th {\n",
       "        vertical-align: top;\n",
       "    }\n",
       "\n",
       "    .dataframe thead th {\n",
       "        text-align: right;\n",
       "    }\n",
       "</style>\n",
       "<table border=\"1\" class=\"dataframe\">\n",
       "  <thead>\n",
       "    <tr style=\"text-align: right;\">\n",
       "      <th></th>\n",
       "      <th>NO2_index</th>\n",
       "      <th>forecast_24</th>\n",
       "    </tr>\n",
       "  </thead>\n",
       "  <tbody>\n",
       "    <tr>\n",
       "      <th>2020-08-01 04:59:59</th>\n",
       "      <td>NaN</td>\n",
       "      <td>11.191077</td>\n",
       "    </tr>\n",
       "  </tbody>\n",
       "</table>\n",
       "</div>"
      ],
      "text/plain": [
       "                     NO2_index  forecast_24\n",
       "2020-08-01 04:59:59        NaN    11.191077"
      ]
     },
     "execution_count": 251,
     "metadata": {},
     "output_type": "execute_result"
    }
   ],
   "source": [
    "data[data.index==time_slot + timedelta(hours=2)]"
   ]
  },
  {
   "cell_type": "code",
   "execution_count": 252,
   "metadata": {},
   "outputs": [
    {
     "data": {
      "text/html": [
       "<div>\n",
       "<style scoped>\n",
       "    .dataframe tbody tr th:only-of-type {\n",
       "        vertical-align: middle;\n",
       "    }\n",
       "\n",
       "    .dataframe tbody tr th {\n",
       "        vertical-align: top;\n",
       "    }\n",
       "\n",
       "    .dataframe thead th {\n",
       "        text-align: right;\n",
       "    }\n",
       "</style>\n",
       "<table border=\"1\" class=\"dataframe\">\n",
       "  <thead>\n",
       "    <tr style=\"text-align: right;\">\n",
       "      <th></th>\n",
       "      <th>NO2_index</th>\n",
       "      <th>forecast_24</th>\n",
       "    </tr>\n",
       "  </thead>\n",
       "  <tbody>\n",
       "    <tr>\n",
       "      <th>2020-08-01 14:59:59</th>\n",
       "      <td>NaN</td>\n",
       "      <td>7.60618</td>\n",
       "    </tr>\n",
       "  </tbody>\n",
       "</table>\n",
       "</div>"
      ],
      "text/plain": [
       "                     NO2_index  forecast_24\n",
       "2020-08-01 14:59:59        NaN      7.60618"
      ]
     },
     "execution_count": 252,
     "metadata": {},
     "output_type": "execute_result"
    }
   ],
   "source": [
    "data[data.index==time_slot + timedelta(hours=12)]"
   ]
  },
  {
   "cell_type": "code",
   "execution_count": 253,
   "metadata": {},
   "outputs": [
    {
     "data": {
      "text/html": [
       "<div>\n",
       "<style scoped>\n",
       "    .dataframe tbody tr th:only-of-type {\n",
       "        vertical-align: middle;\n",
       "    }\n",
       "\n",
       "    .dataframe tbody tr th {\n",
       "        vertical-align: top;\n",
       "    }\n",
       "\n",
       "    .dataframe thead th {\n",
       "        text-align: right;\n",
       "    }\n",
       "</style>\n",
       "<table border=\"1\" class=\"dataframe\">\n",
       "  <thead>\n",
       "    <tr style=\"text-align: right;\">\n",
       "      <th></th>\n",
       "      <th>NO2_index</th>\n",
       "      <th>forecast_24</th>\n",
       "    </tr>\n",
       "  </thead>\n",
       "  <tbody>\n",
       "    <tr>\n",
       "      <th>2020-08-02 02:59:59</th>\n",
       "      <td>NaN</td>\n",
       "      <td>9.555986</td>\n",
       "    </tr>\n",
       "  </tbody>\n",
       "</table>\n",
       "</div>"
      ],
      "text/plain": [
       "                     NO2_index  forecast_24\n",
       "2020-08-02 02:59:59        NaN     9.555986"
      ]
     },
     "execution_count": 253,
     "metadata": {},
     "output_type": "execute_result"
    }
   ],
   "source": [
    "data[data.index==time_slot + timedelta(hours=24)]"
   ]
  },
  {
   "cell_type": "code",
   "execution_count": null,
   "metadata": {},
   "outputs": [],
   "source": []
  },
  {
   "cell_type": "code",
   "execution_count": null,
   "metadata": {},
   "outputs": [],
   "source": []
  },
  {
   "cell_type": "code",
   "execution_count": null,
   "metadata": {},
   "outputs": [],
   "source": []
  },
  {
   "cell_type": "code",
   "execution_count": null,
   "metadata": {},
   "outputs": [],
   "source": []
  },
  {
   "cell_type": "code",
   "execution_count": null,
   "metadata": {},
   "outputs": [],
   "source": []
  },
  {
   "cell_type": "code",
   "execution_count": null,
   "metadata": {},
   "outputs": [],
   "source": []
  },
  {
   "cell_type": "code",
   "execution_count": null,
   "metadata": {},
   "outputs": [],
   "source": []
  },
  {
   "cell_type": "code",
   "execution_count": null,
   "metadata": {},
   "outputs": [],
   "source": []
  },
  {
   "cell_type": "code",
   "execution_count": null,
   "metadata": {},
   "outputs": [],
   "source": []
  },
  {
   "cell_type": "code",
   "execution_count": null,
   "metadata": {},
   "outputs": [],
   "source": []
  },
  {
   "cell_type": "code",
   "execution_count": null,
   "metadata": {},
   "outputs": [],
   "source": []
  },
  {
   "cell_type": "code",
   "execution_count": null,
   "metadata": {},
   "outputs": [],
   "source": []
  },
  {
   "cell_type": "code",
   "execution_count": null,
   "metadata": {},
   "outputs": [],
   "source": []
  }
 ],
 "metadata": {
  "kernelspec": {
   "display_name": "Python 3",
   "language": "python",
   "name": "python3"
  },
  "language_info": {
   "codemirror_mode": {
    "name": "ipython",
    "version": 3
   },
   "file_extension": ".py",
   "mimetype": "text/x-python",
   "name": "python",
   "nbconvert_exporter": "python",
   "pygments_lexer": "ipython3",
   "version": "3.8.5"
  }
 },
 "nbformat": 4,
 "nbformat_minor": 4
}
